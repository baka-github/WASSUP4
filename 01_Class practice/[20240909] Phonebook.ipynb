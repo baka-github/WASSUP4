{
 "cells": [
  {
   "cell_type": "markdown",
   "id": "02eed906-16bd-4ebe-afaf-03e9fc44db6a",
   "metadata": {},
   "source": [
    "## 시작 전 프로그램 작성하기 퀴즈"
   ]
  },
  {
   "cell_type": "markdown",
   "id": "df4f6ffd-fb91-4824-be8b-1ebe184061c2",
   "metadata": {},
   "source": [
    "#### 전화번호 프로그램 만들기\n",
    "\n",
    "﻿﻿홍길동 010-123-4567  \n",
    "﻿﻿기능1 : 연락처 추가  \n",
    "﻿﻿기능2: 연락처 전체 보기  \n",
    "﻿﻿기능3 : 검색, 이름을 입력받아서 전화번호 조회  \n",
    "﻿﻿기능4 : 수정, 이름을 입력받아서 전화번호 입력수정  \n",
    "﻿﻿기능5: 삭제, 이름 입력받아서 삭제  \n",
    "﻿﻿기능6 : 프로그램 종료  "
   ]
  },
  {
   "cell_type": "markdown",
   "id": "bfa200f6-62fe-462e-b4ab-35767ff47cf3",
   "metadata": {},
   "source": [
    "설계\n",
    "\n",
    "1. 입력 정의 : 문자열, 딕셔너리 K:V\n",
    "2. 인터페이스 : input( 프롬프트)\n",
    "3. 구조 : while 반복문, 6개 기능을 구현-> if분기문\n",
    "4. 기능 구현 + 인터페이스\n",
    "\n",
    "• 1번 연락처 추가 : dict[key] = value  \n",
    "• 2번 연락처 전체 보기 : print(dict)  \n",
    "• 3번 연락처 검색 : dict[key]  \n",
    "• 4번 연락처 수정 : dict[key] = value  \n",
    "• 5번 연락처 삭제 : del  \n",
    "• 6번 종료 : break  \n",
    "정책"
   ]
  },
  {
   "cell_type": "code",
   "execution_count": 32,
   "id": "d7a93d3c-88e9-41af-b9ad-332aea60e3de",
   "metadata": {},
   "outputs": [
    {
     "name": "stdout",
     "output_type": "stream",
     "text": [
      "----------   전화번호부 프로그램   ----------\n",
      "1. 추가       2. 조회       3. 검색       4. 수정       5. 삭제       9. 종료\n"
     ]
    },
    {
     "name": "stdin",
     "output_type": "stream",
     "text": [
      "메뉴를 선택해주세요. (숫자 only) :  9\n"
     ]
    },
    {
     "name": "stdout",
     "output_type": "stream",
     "text": [
      "프로그램을 종료합니다.\n"
     ]
    }
   ],
   "source": [
    "contact = {}\n",
    "\n",
    "while True :\n",
    "    print('----------   전화번호부 프로그램   ----------')\n",
    "    print('1. 추가       2. 조회       3. 검색       4. 수정       5. 삭제       9. 종료')\n",
    "    menu = int(input('메뉴를 선택해주세요. (숫자 only) : '))\n",
    "\n",
    "    if menu == 1 : # 연락처 추가\n",
    "        print('연락처를 추가합니다.')\n",
    "        new_name = input('성명 : ')\n",
    "        new_tel = input('전화번호 : ')\n",
    "        print(new_name, new_tel)\n",
    "        # contact[new_name] = new_tel\n",
    "        contact.setdefault(new_name, new_tel)\n",
    "\n",
    "    elif menu == 2 : # 연락처 조회\n",
    "        print('연락처를 조회합니다.')\n",
    "        print(contact)\n",
    "        for name, tel in contact.items() :\n",
    "            print(name, ':', tel)\n",
    "\n",
    "    elif menu == 3 : # 연락처 검색\n",
    "        print('연락처를 검색합니다.')\n",
    "        search_name = input('검색하실 연락처의 성명 : ')\n",
    "        # print(contact[search_name])\n",
    "        print(contact.get(search_name, '없는 성명입니다.'))\n",
    "\n",
    "    elif menu == 4 : # 연락처 수정\n",
    "        print('연락처를 수정합니다.')\n",
    "        mod_name = input('수정하실 연락처의 성명 : ')\n",
    "\n",
    "        if mod_name in contact : \n",
    "            mod_tel = input('수정하실 연락처의 전화번호 : ')\n",
    "            contact[mod_name] = mod_tel\n",
    "        else :\n",
    "            print('등록되지 않은 성명입니다.')\n",
    "\n",
    "    \n",
    "    \n",
    "    elif menu == 5 : # 연락처 삭제\n",
    "        print('연락처를 삭제합니다.')\n",
    "        del_name = input('삭제하실 연락처의 성명 : ')\n",
    "\n",
    "        if del_name in contact : \n",
    "            del contact[del_name]\n",
    "        else :\n",
    "            print('등록되지 않은 성명입니다.')\n",
    "\n",
    "    elif menu == 9 : # 프로그램 종료\n",
    "        print('프로그램을 종료합니다.')\n",
    "        break\n",
    "\n",
    "    else :\n",
    "        print('잘못된 형태입니다.')"
   ]
  },
  {
   "cell_type": "markdown",
   "id": "44fa2d41-6a40-4ec4-a205-5883b207023a",
   "metadata": {},
   "source": [
    "#### 내가 작성한 코드"
   ]
  },
  {
   "cell_type": "code",
   "execution_count": 34,
   "id": "d0437807-eb58-435e-b999-60a544a74bd6",
   "metadata": {
    "scrolled": true
   },
   "outputs": [
    {
     "name": "stdout",
     "output_type": "stream",
     "text": [
      "\n",
      "--- 전화번호 프로그램 ---\n",
      "1. 연락처 추가\n",
      "2. 연락처 전체 보기\n",
      "3. 연락처 검색\n",
      "4. 연락처 수정\n",
      "5. 연락처 삭제\n",
      "6. 프로그램 종료\n"
     ]
    },
    {
     "name": "stdin",
     "output_type": "stream",
     "text": [
      "메뉴 선택:  6\n"
     ]
    },
    {
     "name": "stdout",
     "output_type": "stream",
     "text": [
      "프로그램을 종료합니다.\n"
     ]
    }
   ],
   "source": [
    "def add_contact(contacts):\n",
    "    \"\"\"연락처 추가 기능\"\"\"\n",
    "    name = input(\"이름: \")\n",
    "    phone_number = input(\"전화번호: \")\n",
    "    contacts[name] = phone_number\n",
    "    print(f\"{name} 님의 연락처가 추가되었습니다.\")\n",
    "\n",
    "def view_all_contacts(contacts):\n",
    "    \"\"\"전체 연락처 보기 기능\"\"\"\n",
    "    if not contacts:\n",
    "        print(\"저장된 연락처가 없습니다.\")\n",
    "    else:\n",
    "        for name, phone_number in contacts.items():\n",
    "            print(f\"{name}: {phone_number}\")\n",
    "\n",
    "def search_contact(contacts):\n",
    "    \"\"\"연락처 검색 기능\"\"\"\n",
    "    name = input(\"검색할 이름: \")\n",
    "    if name in contacts:\n",
    "        print(f\"{name}: {contacts[name]}\")\n",
    "    else:\n",
    "        print(f\"{name} 님의 연락처를 찾을 수 없습니다.\")\n",
    "\n",
    "def modify_contact(contacts):\n",
    "    \"\"\"연락처 수정 기능\"\"\"\n",
    "    name = input(\"수정할 이름: \")\n",
    "    if name in contacts:\n",
    "        new_phone_number = input(\"새로운 전화번호: \")\n",
    "        contacts[name] = new_phone_number\n",
    "        print(f\"{name} 님의 연락처가 수정되었습니다.\")\n",
    "    else:\n",
    "        print(f\"{name} 님의 연락처를 찾을 수 없습니다.\")\n",
    "\n",
    "def delete_contact(contacts):\n",
    "    \"\"\"연락처 삭제 기능\"\"\"\n",
    "    name = input(\"삭제할 이름: \")\n",
    "    if name in contacts:\n",
    "        del contacts[name]\n",
    "        print(f\"{name} 님의 연락처가 삭제되었습니다.\")\n",
    "    else:\n",
    "        print(f\"{name} 님의 연락처를 찾을 수 없습니다.\")\n",
    "\n",
    "# 메인 프로그램 실행\n",
    "contacts = {}  # 연락처를 저장할 딕셔너리\n",
    "\n",
    "while True:\n",
    "    print(\"\\n--- 전화번호 프로그램 ---\")\n",
    "    print(\"1. 연락처 추가\")\n",
    "    print(\"2. 연락처 전체 보기\")\n",
    "    print(\"3. 연락처 검색\")\n",
    "    print(\"4. 연락처 수정\")\n",
    "    print(\"5. 연락처 삭제\")\n",
    "    print(\"6. 프로그램 종료\")\n",
    "\n",
    "    choice = input(\"메뉴 선택: \")\n",
    "\n",
    "    if choice == '1':\n",
    "        add_contact(contacts)\n",
    "    elif choice == '2':\n",
    "        view_all_contacts(contacts)\n",
    "    elif choice == '3':\n",
    "        search_contact(contacts)\n",
    "    elif choice == '4':\n",
    "        modify_contact(contacts)\n",
    "    elif choice == '5':\n",
    "        delete_contact(contacts)\n",
    "    elif choice == '6':\n",
    "        print(\"프로그램을 종료합니다.\")\n",
    "        break\n",
    "    else:\n",
    "        print(\"잘못된 입력입니다. 다시 입력해주세요.\")"
   ]
  }
 ],
 "metadata": {
  "kernelspec": {
   "display_name": "Python 3 (ipykernel)",
   "language": "python",
   "name": "python3"
  },
  "language_info": {
   "codemirror_mode": {
    "name": "ipython",
    "version": 3
   },
   "file_extension": ".py",
   "mimetype": "text/x-python",
   "name": "python",
   "nbconvert_exporter": "python",
   "pygments_lexer": "ipython3",
   "version": "3.12.4"
  }
 },
 "nbformat": 4,
 "nbformat_minor": 5
}
