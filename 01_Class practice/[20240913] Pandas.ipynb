{
 "cells": [
  {
   "cell_type": "markdown",
   "id": "0f0c5ad6-682e-4ffd-be25-fa7b62bd9061",
   "metadata": {},
   "source": [
    "## Pandas\n",
    "---\n",
    "##### Series 1차원\n",
    "##### DataFrame 2차원"
   ]
  },
  {
   "cell_type": "markdown",
   "id": "03c8b8c5-4fb7-4126-8697-fe58e960b4a6",
   "metadata": {},
   "source": [
    "#### Series"
   ]
  },
  {
   "cell_type": "code",
   "execution_count": 3,
   "id": "66e4cf4f-2108-4b7e-95ef-c9eb851108a8",
   "metadata": {},
   "outputs": [
    {
     "name": "stdout",
     "output_type": "stream",
     "text": [
      "<class 'pandas.core.series.Series'>\n",
      "RangeIndex(start=0, stop=9, step=1)\n"
     ]
    }
   ],
   "source": [
    "import pandas as pd\n",
    "import numpy as np\n",
    "\n",
    "s = pd.Series([1, 2, 3, 4, 5, 6, 7, 8, 9])\n",
    "print(type(s))\n",
    "print(s.index)"
   ]
  },
  {
   "cell_type": "code",
   "execution_count": 4,
   "id": "4c8762c3-4ea0-4f13-b93e-43875590177c",
   "metadata": {},
   "outputs": [
    {
     "name": "stdout",
     "output_type": "stream",
     "text": [
      "0    1\n",
      "1    2\n",
      "2    3\n",
      "3    4\n",
      "4    5\n",
      "5    6\n",
      "6    7\n",
      "7    8\n",
      "8    9\n",
      "dtype: int64\n"
     ]
    }
   ],
   "source": [
    "print(s)"
   ]
  },
  {
   "cell_type": "code",
   "execution_count": 5,
   "id": "8d1c9a4c-117b-4fdc-a6ce-a51acf4717b1",
   "metadata": {},
   "outputs": [
    {
     "name": "stdout",
     "output_type": "stream",
     "text": [
      "A    1\n",
      "B    2\n",
      "C    3\n",
      "D    4\n",
      "E    5\n",
      "F    6\n",
      "G    7\n",
      "H    8\n",
      "I    9\n",
      "dtype: int64\n"
     ]
    }
   ],
   "source": [
    "s.index = ['A', 'B', 'C', 'D', 'E', 'F', 'G', 'H', 'I']\n",
    "print(s)"
   ]
  },
  {
   "cell_type": "code",
   "execution_count": 6,
   "id": "8f1cf594-d78b-4928-a32e-3a53c0de67e0",
   "metadata": {},
   "outputs": [
    {
     "name": "stdout",
     "output_type": "stream",
     "text": [
      "A    1\n",
      "B    2\n",
      "C    3\n",
      "D    4\n",
      "E    5\n",
      "F    6\n",
      "G    7\n",
      "H    8\n",
      "I    9\n",
      "dtype: int64\n"
     ]
    }
   ],
   "source": [
    "s = pd.Series([1, 2, 3, 4, 5, 6, 7, 8, 9], index = ['A', 'B', 'C', 'D', 'E', 'F', 'G', 'H', 'I'])\n",
    "print(s)"
   ]
  },
  {
   "cell_type": "code",
   "execution_count": 7,
   "id": "b5faece7-8b50-42f1-a1df-2b3084d7000a",
   "metadata": {},
   "outputs": [
    {
     "name": "stdout",
     "output_type": "stream",
     "text": [
      "Index(['A', 'B', 'C', 'D', 'E', 'F', 'G', 'H', 'I'], dtype='object')\n",
      "[1 2 3 4 5 6 7 8 9]\n",
      "1\n",
      "1\n",
      "1\n"
     ]
    },
    {
     "name": "stderr",
     "output_type": "stream",
     "text": [
      "C:\\Users\\baka2\\AppData\\Local\\Temp\\ipykernel_164\\1109782676.py:3: FutureWarning: Series.__getitem__ treating keys as positions is deprecated. In a future version, integer keys will always be treated as labels (consistent with DataFrame behavior). To access a value by position, use `ser.iloc[pos]`\n",
      "  print(s[0])\n"
     ]
    }
   ],
   "source": [
    "print(s.index)\n",
    "print(s.values)\n",
    "print(s[0])\n",
    "print(s['A'])\n",
    "print(s.A)"
   ]
  },
  {
   "cell_type": "code",
   "execution_count": 8,
   "id": "778e18af-9b31-45ea-b43a-b62148e05700",
   "metadata": {},
   "outputs": [
    {
     "name": "stdout",
     "output_type": "stream",
     "text": [
      "A    1\n",
      "B    2\n",
      "C    3\n",
      "D    4\n",
      "E    5\n",
      "dtype: int64\n",
      "A    1\n",
      "B    2\n",
      "C    3\n",
      "D    4\n",
      "E    5\n",
      "dtype: int64\n"
     ]
    }
   ],
   "source": [
    "print(s[:5])\n",
    "print(s['A':'E'])"
   ]
  },
  {
   "cell_type": "code",
   "execution_count": null,
   "id": "cbcbde4a-8c1f-45f4-8810-4558041fa813",
   "metadata": {},
   "outputs": [],
   "source": []
  },
  {
   "cell_type": "markdown",
   "id": "f9bf8fce-db5c-4ace-b504-5f32d86d00de",
   "metadata": {},
   "source": [
    "##### Dictionary (Map, JSON) > Serise"
   ]
  },
  {
   "cell_type": "code",
   "execution_count": 10,
   "id": "120c3836-6e36-408a-8cf9-3bfde140adcb",
   "metadata": {},
   "outputs": [
    {
     "name": "stdout",
     "output_type": "stream",
     "text": [
      "<class 'dict'>\n",
      "A : 10\n",
      "D : 20\n",
      "F : 30\n",
      "H : 40\n",
      "10\n"
     ]
    }
   ],
   "source": [
    "d = {'A':10, 'D':20, 'F':30, 'H':40}\n",
    "print(type(d))\n",
    "for key, value in d.items() :\n",
    "    print(key, \":\", value)\n",
    "print(d['A'])"
   ]
  },
  {
   "cell_type": "code",
   "execution_count": 11,
   "id": "6857bb95-cee0-46bc-afee-5a9305e16263",
   "metadata": {},
   "outputs": [],
   "source": [
    "#print(d.A)\n",
    "#print(d[0:3])\n",
    "#print(d['A':'F'])"
   ]
  },
  {
   "cell_type": "code",
   "execution_count": 12,
   "id": "a0f2b47d-f2ed-46e5-98d9-8970667f8089",
   "metadata": {},
   "outputs": [
    {
     "name": "stdout",
     "output_type": "stream",
     "text": [
      "Index(['A', 'D', 'F', 'H'], dtype='object')\n",
      "[10 20 30 40]\n",
      "10\n",
      "10\n",
      "A    10\n",
      "D    20\n",
      "F    30\n",
      "dtype: int64\n",
      "A    10\n",
      "D    20\n",
      "F    30\n",
      "dtype: int64\n"
     ]
    }
   ],
   "source": [
    "s = pd.Series(d)\n",
    "print(s.index)\n",
    "print(s.values)\n",
    "print(s['A'])\n",
    "print(s.A)\n",
    "print(s[0:3])\n",
    "print(s['A':'F'])"
   ]
  },
  {
   "cell_type": "code",
   "execution_count": null,
   "id": "32fbba22-8f3e-4bcd-a3bb-483060774698",
   "metadata": {},
   "outputs": [],
   "source": []
  },
  {
   "cell_type": "markdown",
   "id": "333bb896-00ac-4ae6-85b6-b516c1df64ed",
   "metadata": {},
   "source": [
    "#### DataFrame"
   ]
  },
  {
   "cell_type": "markdown",
   "id": "b604d2c6-d297-4f41-8fd4-cb02d23ca92f",
   "metadata": {},
   "source": [
    "##### Dictionary > DataFrame"
   ]
  },
  {
   "cell_type": "code",
   "execution_count": 15,
   "id": "74206a41-f654-446b-b528-70bffcc2badc",
   "metadata": {},
   "outputs": [
    {
     "name": "stdout",
     "output_type": "stream",
     "text": [
      "<class 'dict'>\n"
     ]
    }
   ],
   "source": [
    "d = {\n",
    "    'name' : ['kim', 'lee', 'park', 'jung'],\n",
    "    'age' : [25, 30, 35, 20],\n",
    "    'tel' : ['1111-1111', '2222-2222', '3333-3333', '4444-4444']\n",
    "}\n",
    "print(type(d))"
   ]
  },
  {
   "cell_type": "code",
   "execution_count": 16,
   "id": "92898aef-a31f-4a8e-ab51-1dc59915c6a9",
   "metadata": {},
   "outputs": [
    {
     "name": "stdout",
     "output_type": "stream",
     "text": [
      "   name  age        tel\n",
      "0   kim   25  1111-1111\n",
      "1   lee   30  2222-2222\n",
      "2  park   35  3333-3333\n",
      "3  jung   20  4444-4444\n",
      "Index(['name', 'age', 'tel'], dtype='object')\n",
      "[['kim' 25 '1111-1111']\n",
      " ['lee' 30 '2222-2222']\n",
      " ['park' 35 '3333-3333']\n",
      " ['jung' 20 '4444-4444']]\n"
     ]
    }
   ],
   "source": [
    "df = pd.DataFrame(d)\n",
    "print(df)\n",
    "print(df.columns)\n",
    "print(df.values)"
   ]
  },
  {
   "cell_type": "code",
   "execution_count": 17,
   "id": "1e112fd1-fa03-4eef-aacc-511a9f4940f7",
   "metadata": {},
   "outputs": [
    {
     "name": "stdout",
     "output_type": "stream",
     "text": [
      "User  name  age        tel\n",
      "Num                       \n",
      "0      kim   25  1111-1111\n",
      "1      lee   30  2222-2222\n",
      "2     park   35  3333-3333\n",
      "3     jung   20  4444-4444\n",
      "Index(['name', 'age', 'tel'], dtype='object', name='User')\n",
      "[['kim' 25 '1111-1111']\n",
      " ['lee' 30 '2222-2222']\n",
      " ['park' 35 '3333-3333']\n",
      " ['jung' 20 '4444-4444']]\n"
     ]
    }
   ],
   "source": [
    "df.index.name = 'Num'\n",
    "df.columns.name = 'User'\n",
    "print(df)\n",
    "print(df.columns)\n",
    "print(df.values)"
   ]
  },
  {
   "cell_type": "code",
   "execution_count": null,
   "id": "5130fb75-2cc8-420e-8956-fd7fd53b58b5",
   "metadata": {},
   "outputs": [],
   "source": []
  },
  {
   "cell_type": "markdown",
   "id": "9f7b3e8a-f521-41b8-bc60-224c7da1877b",
   "metadata": {},
   "source": [
    "##### NumPy > DataFrame"
   ]
  },
  {
   "cell_type": "code",
   "execution_count": 19,
   "id": "3e63561f-4b1e-463e-89b1-905c5bd43478",
   "metadata": {},
   "outputs": [
    {
     "name": "stdout",
     "output_type": "stream",
     "text": [
      "<class 'numpy.ndarray'>\n"
     ]
    }
   ],
   "source": [
    "n = np.array(\n",
    "    [['kim', 25, '1111-1111'],\n",
    "     ['lee', 30, '2222-2222'],\n",
    "     ['park', 35, '3333-3333'],\n",
    "     ['jung', 20, np.nan]]\n",
    ")\n",
    "print(type(n))"
   ]
  },
  {
   "cell_type": "code",
   "execution_count": 20,
   "id": "b1fc825d-c040-4608-8ee4-aa031dbd8076",
   "metadata": {},
   "outputs": [],
   "source": [
    "df.columns = ['name', 'age', 'tel']\n",
    "df.index = ['A', 'B', 'C', 'D']"
   ]
  },
  {
   "cell_type": "code",
   "execution_count": 21,
   "id": "0ae453a4-5d9c-4636-a1d8-d2d75d0159ca",
   "metadata": {},
   "outputs": [
    {
     "name": "stdout",
     "output_type": "stream",
     "text": [
      "   name  age        tel\n",
      "A   kim   25  1111-1111\n",
      "B   lee   30  2222-2222\n",
      "C  park   35  3333-3333\n",
      "D  jung   20  4444-4444\n",
      "Index(['A', 'B', 'C', 'D'], dtype='object')\n",
      "Index(['name', 'age', 'tel'], dtype='object')\n"
     ]
    }
   ],
   "source": [
    "print(df)\n",
    "print(df.index)\n",
    "print(df.columns)"
   ]
  },
  {
   "cell_type": "code",
   "execution_count": 22,
   "id": "e174b681-5fb2-46b6-a83d-fb1b9ba3165d",
   "metadata": {},
   "outputs": [
    {
     "name": "stdout",
     "output_type": "stream",
     "text": [
      "   name age        tel\n",
      "A   kim  25  1111-1111\n",
      "B   lee  30  2222-2222\n",
      "C  park  35  3333-3333\n",
      "D  jung  20        nan\n"
     ]
    }
   ],
   "source": [
    "df = pd.DataFrame(n, columns = ['name', 'age', 'tel'], index = ['A', 'B', 'C', 'D'])\n",
    "print(df)"
   ]
  },
  {
   "cell_type": "code",
   "execution_count": 23,
   "id": "af758a96-ea66-4dd8-bcdd-850dabced30c",
   "metadata": {},
   "outputs": [
    {
     "name": "stdout",
     "output_type": "stream",
     "text": [
      "       name age        tel\n",
      "count     4   4          4\n",
      "unique    4   4          4\n",
      "top     kim  25  1111-1111\n",
      "freq      1   1          1\n"
     ]
    }
   ],
   "source": [
    "print(df.describe())"
   ]
  },
  {
   "cell_type": "code",
   "execution_count": 24,
   "id": "cd40a222-2031-43d8-8401-1bd64a800af8",
   "metadata": {},
   "outputs": [
    {
     "name": "stdout",
     "output_type": "stream",
     "text": [
      "A     kim\n",
      "B     lee\n",
      "C    park\n",
      "D    jung\n",
      "Name: name, dtype: object\n",
      "   name        tel\n",
      "A   kim  1111-1111\n",
      "B   lee  2222-2222\n",
      "C  park  3333-3333\n",
      "D  jung        nan\n",
      "park\n",
      "park\n",
      "B     lee\n",
      "C    park\n",
      "D    jung\n",
      "Name: name, dtype: object\n"
     ]
    }
   ],
   "source": [
    "print(df['name'])\n",
    "print(df[['name','tel']])\n",
    "#print(df['name'][2])\n",
    "print(df['name']['C'])\n",
    "print(df['name'].C)\n",
    "print(df['name']['B':'D'])"
   ]
  },
  {
   "cell_type": "code",
   "execution_count": 25,
   "id": "e35ac7b9-3703-4cd2-9fd8-9ba861306ea6",
   "metadata": {},
   "outputs": [
    {
     "name": "stdout",
     "output_type": "stream",
     "text": [
      "A     kim\n",
      "B     lee\n",
      "C    park\n",
      "D    jung\n",
      "Name: name, dtype: object A    25\n",
      "B    30\n",
      "C    35\n",
      "D    20\n",
      "Name: age, dtype: object\n"
     ]
    }
   ],
   "source": [
    "print(df.name, df.age)"
   ]
  },
  {
   "cell_type": "code",
   "execution_count": 26,
   "id": "0c952aeb-0f6a-4267-9fab-76268aa257f9",
   "metadata": {},
   "outputs": [
    {
     "name": "stdout",
     "output_type": "stream",
     "text": [
      "jung\n"
     ]
    }
   ],
   "source": [
    "print(df.name.D)"
   ]
  },
  {
   "cell_type": "code",
   "execution_count": 27,
   "id": "f852bb7b-c40a-4724-8bdc-d62d009c465a",
   "metadata": {},
   "outputs": [
    {
     "name": "stdout",
     "output_type": "stream",
     "text": [
      "   name age        tel\n",
      "A   kim  25  1111-1111\n",
      "B   lee  30  2222-2222\n",
      "C  park  35  3333-3333\n",
      "D  jung  20        nan\n",
      "  name age        tel\n",
      "A  kim  25  1111-1111\n",
      "   name        tel\n",
      "A   kim  1111-1111\n",
      "B   lee  2222-2222\n",
      "C  park  3333-3333\n",
      "D  jung        nan\n"
     ]
    }
   ],
   "source": [
    "print(df[:][:])\n",
    "print(df[:2][:1])\n",
    "print(df[['name', 'tel']])\n",
    "#print(df[[0, 2]]) #에러 컬럼명이 있는 경우에는 숫자 사용 금지\n",
    "#print(df[0][0]) #에러"
   ]
  },
  {
   "cell_type": "code",
   "execution_count": 28,
   "id": "aa28e28c-1269-4cbd-ab95-8094c9d64292",
   "metadata": {},
   "outputs": [
    {
     "name": "stdout",
     "output_type": "stream",
     "text": [
      "   name age        tel address\n",
      "A   kim  25  1111-1111      서울\n",
      "B   lee  30  2222-2222      수원\n",
      "C  park  35  3333-3333      인천\n",
      "D  jung  20        nan      안산\n"
     ]
    }
   ],
   "source": [
    "df['address'] = ['서울', '수원', '인천', '안산']\n",
    "df['adult'] = df['age'].astype(np.int64) > 30\n",
    "#df['age']['A'] = 40\n",
    "\n",
    "del(df['adult'])\n",
    "print(df)"
   ]
  },
  {
   "cell_type": "code",
   "execution_count": null,
   "id": "0daa343b-7106-4bd9-83d9-ab18ed874aa8",
   "metadata": {},
   "outputs": [],
   "source": []
  },
  {
   "cell_type": "markdown",
   "id": "8fbbabbe-7fda-49ab-a42b-47d0015237ec",
   "metadata": {},
   "source": [
    "##### Series 정렬"
   ]
  },
  {
   "cell_type": "code",
   "execution_count": 30,
   "id": "a8a90298-6e45-4bb3-819f-d96b08b810e3",
   "metadata": {},
   "outputs": [
    {
     "name": "stdout",
     "output_type": "stream",
     "text": [
      "b    70\n",
      "c    60\n",
      "f    50\n",
      "d    40\n",
      "g    20\n",
      "a    10\n",
      "dtype: int64\n"
     ]
    }
   ],
   "source": [
    "s = pd.Series( [10, 40, 50, 20, 70,60], index = ['a', 'd', 'f', 'g', 'b', 'c'])\n",
    "s = s.sort_index(ascending = False)\n",
    "s = s.sort_values(ascending = False)\n",
    "print(s)"
   ]
  },
  {
   "cell_type": "code",
   "execution_count": null,
   "id": "d6fc9b25-8838-4c9c-b1b8-18feba731d22",
   "metadata": {},
   "outputs": [],
   "source": []
  },
  {
   "cell_type": "markdown",
   "id": "7313aff2-f97e-4d5f-9098-ca223e910468",
   "metadata": {},
   "source": [
    "##### DataFrame 정렬"
   ]
  },
  {
   "cell_type": "code",
   "execution_count": 32,
   "id": "3800f54d-4f3d-4bc4-8fd1-80efc003f1f0",
   "metadata": {},
   "outputs": [
    {
     "name": "stdout",
     "output_type": "stream",
     "text": [
      "     D    C    A    B\n",
      "c    4    5   40  100\n",
      "a  300   10  200  100\n",
      "b   20  400    4    2\n"
     ]
    }
   ],
   "source": [
    "df = pd.DataFrame([[4, 5, 40, 100],\n",
    "                   [300, 10, 200, 100],\n",
    "                   [20, 400, 4, 2]], index = ['c', 'a', 'b'], columns = ['D', 'C', 'A', 'B'])\n",
    "print(df)"
   ]
  },
  {
   "cell_type": "code",
   "execution_count": 33,
   "id": "995c6e68-0828-4c53-89f6-57500b346146",
   "metadata": {},
   "outputs": [
    {
     "name": "stdout",
     "output_type": "stream",
     "text": [
      "     B    A    D    C\n",
      "b    2    4   20  400\n",
      "c  100   40    4    5\n",
      "a  100  200  300   10\n"
     ]
    }
   ],
   "source": [
    "df = df.sort_index() #index\n",
    "df = df.sort_index(axis=0, ascending = False)\n",
    "df = df.sort_index(axis=1, ascending = False) #column\n",
    "\n",
    "df = df.sort_values(by = 'A', ascending = False) #행끼리\n",
    "df = df.sort_values(by =['A', 'B'])\n",
    "\n",
    "df = df.sort_values(by = 'b', axis = 1) #열끼리\n",
    "\n",
    "print(df)"
   ]
  },
  {
   "cell_type": "code",
   "execution_count": null,
   "id": "1b346da9-475c-47ed-987e-c4b53ee5fdf5",
   "metadata": {},
   "outputs": [],
   "source": []
  },
  {
   "cell_type": "markdown",
   "id": "c327221f-6e36-4232-aebb-44580ab771cd",
   "metadata": {},
   "source": [
    "##### 슬라이싱"
   ]
  },
  {
   "cell_type": "code",
   "execution_count": 35,
   "id": "20673bc1-04c3-462e-92b1-2b98db31d578",
   "metadata": {},
   "outputs": [],
   "source": [
    "#.iloc 정수 인덱스\n",
    "#.loc 라벨 인덱스\n",
    "#.ix deprecated > 옛날의 방식이기 때문에 사용 추천 안함"
   ]
  },
  {
   "cell_type": "code",
   "execution_count": 36,
   "id": "dad90652-2a2a-42da-a0d3-0a264bba82ff",
   "metadata": {},
   "outputs": [
    {
     "name": "stdout",
     "output_type": "stream",
     "text": [
      "[[1, 2, 3], [4, 5, 6], [7, 8, 9]]\n",
      "9\n",
      "[[1, 2, 3], [4, 5, 6], [7, 8, 9]]\n",
      "[[1, 2, 3], [4, 5, 6]]\n"
     ]
    }
   ],
   "source": [
    "#list\n",
    "m = [[1, 2, 3], [4, 5, 6], [7, 8, 9] ]\n",
    "print(m)\n",
    "print(m[2][2])\n",
    "print(m[:][:])\n",
    "print(m[:2][:2])\n",
    "#print(m[:2, :2]) #에러"
   ]
  },
  {
   "cell_type": "code",
   "execution_count": 37,
   "id": "d9505055-3634-483c-8484-df96243c5d75",
   "metadata": {},
   "outputs": [
    {
     "name": "stdout",
     "output_type": "stream",
     "text": [
      "[[1 2 3]\n",
      " [4 5 6]\n",
      " [7 8 9]]\n",
      "9\n",
      "[[1 2 3]\n",
      " [4 5 6]\n",
      " [7 8 9]]\n",
      "[[1 2 3]\n",
      " [4 5 6]]\n",
      "[[1 2]\n",
      " [4 5]]\n"
     ]
    }
   ],
   "source": [
    "#Numpy\n",
    "n = np.array(m)\n",
    "print(n)\n",
    "print(n[2][2])\n",
    "print(n[:][:])\n",
    "print(n[:2][:2])\n",
    "print(n[:2, :2])"
   ]
  },
  {
   "cell_type": "code",
   "execution_count": 38,
   "id": "5e7cb9c2-3d62-425e-b72f-b9f8988f7eba",
   "metadata": {},
   "outputs": [
    {
     "name": "stdout",
     "output_type": "stream",
     "text": [
      "   0  1  2\n",
      "0  1  2  3\n",
      "1  4  5  6\n",
      "2  7  8  9\n",
      "9\n",
      "   0  1  2\n",
      "0  1  2  3\n",
      "1  4  5  6\n",
      "2  7  8  9\n",
      "   0  1  2\n",
      "0  1  2  3\n",
      "1  4  5  6\n"
     ]
    }
   ],
   "source": [
    "#Pandas\n",
    "df = pd.DataFrame(n)\n",
    "print(df)\n",
    "print(df[2][2])\n",
    "print(df[:][:])\n",
    "print(df[:2][:2])\n",
    "#print(df[:2, :2]) #에러"
   ]
  },
  {
   "cell_type": "code",
   "execution_count": 39,
   "id": "e225a947-5854-4592-a27c-bdd591b53aa7",
   "metadata": {},
   "outputs": [
    {
     "name": "stdout",
     "output_type": "stream",
     "text": [
      "    A   B   C   D\n",
      "0   1   2   3   4\n",
      "1   5   6   7   8\n",
      "2   9  10  11  12\n",
      "3  13  14  15  16\n",
      "4  17  18  19  20\n",
      "11\n",
      "    A   D\n",
      "0   1   4\n",
      "1   5   8\n",
      "2   9  12\n",
      "3  13  16\n",
      "4  17  20\n"
     ]
    }
   ],
   "source": [
    "#iloc\n",
    "df = pd.DataFrame(np.arange(1, 21).reshape(5, 4), columns = ['A', 'B', 'C', 'D'])\n",
    "print(df)\n",
    "#print(df[2][2]) #에러\n",
    "print(df['C'][2])\n",
    "print(df[['A','D']])\n",
    "#print(df['A' : 'C']) #에러\n",
    "#print(df[['A' : 'C']]) #에러"
   ]
  },
  {
   "cell_type": "code",
   "execution_count": 40,
   "id": "c6e414b6-ddd7-43e6-9ead-221a40585e44",
   "metadata": {},
   "outputs": [
    {
     "name": "stdout",
     "output_type": "stream",
     "text": [
      "11\n",
      "11\n"
     ]
    },
    {
     "name": "stderr",
     "output_type": "stream",
     "text": [
      "C:\\Users\\baka2\\AppData\\Local\\Temp\\ipykernel_164\\3385501839.py:1: FutureWarning: Series.__getitem__ treating keys as positions is deprecated. In a future version, integer keys will always be treated as labels (consistent with DataFrame behavior). To access a value by position, use `ser.iloc[pos]`\n",
      "  print(df.iloc[2][2])\n"
     ]
    }
   ],
   "source": [
    "print(df.iloc[2][2])\n",
    "print(df.iloc[2, 2])\n",
    "#print(df.iloc[2, 'C']) #에러"
   ]
  },
  {
   "cell_type": "code",
   "execution_count": 41,
   "id": "f99ba4da-8837-4932-88b5-81303a685ad2",
   "metadata": {},
   "outputs": [
    {
     "name": "stdout",
     "output_type": "stream",
     "text": [
      "   A  B\n",
      "0  1  2\n",
      "1  5  6\n",
      "   A   C\n",
      "0  1   3\n",
      "2  9  11\n",
      "   A  B  C\n",
      "0  1  2  3\n",
      "1  5  6  7\n",
      "    D   C   B   A\n",
      "4  20  19  18  17\n",
      "3  16  15  14  13\n",
      "2  12  11  10   9\n",
      "1   8   7   6   5\n",
      "0   4   3   2   1\n"
     ]
    }
   ],
   "source": [
    "print(df.iloc[:2, :2])\n",
    "print(df.iloc[:3:2, :3:2])\n",
    "print(df.iloc[:2, :-1])\n",
    "print(df.iloc[::-1, ::-1])"
   ]
  },
  {
   "cell_type": "code",
   "execution_count": 42,
   "id": "d15e9d11-b9d4-4e8a-ac1b-5facc3f5be8c",
   "metadata": {},
   "outputs": [
    {
     "name": "stdout",
     "output_type": "stream",
     "text": [
      "    A   B   C   D\n",
      "0   1   2   3   4\n",
      "1   5   6   7   8\n",
      "2   9  10  11  12\n",
      "3  13  14  15  16\n",
      "4  17  18  19  20\n",
      "11\n",
      "   A   B   C\n",
      "0  1   2   3\n",
      "1  5   6   7\n",
      "2  9  10  11\n",
      "   A   B   C   D\n",
      "0  1   2   3   4\n",
      "1  5   6   7   8\n",
      "2  9  10  11  12\n",
      "    B   C   D\n",
      "1   6   7   8\n",
      "2  10  11  12\n",
      "3  14  15  16\n",
      "0     3\n",
      "1     7\n",
      "2    11\n",
      "3    15\n",
      "4    19\n",
      "Name: C, dtype: int32\n",
      "    B   D\n",
      "0   2   4\n",
      "1   6   8\n",
      "2  10  12\n",
      "3  14  16\n",
      "4  18  20\n"
     ]
    }
   ],
   "source": [
    "#loc\n",
    "print(df)\n",
    "#print(df.loc[2, 2]) #에러\n",
    "print(df.loc[2, 'C'])\n",
    "#print(df.loc[:2, :2]) #에러\n",
    "print(df.loc[:2, :'C'])\n",
    "print(df.loc[:2])\n",
    "print(df.loc[1:3, 'B':'D'])\n",
    "print(df.loc[:, 'C'])\n",
    "print(df.loc[:, ['B','D']])\n",
    "#print(df.loc[['B','D']])"
   ]
  },
  {
   "cell_type": "code",
   "execution_count": 43,
   "id": "95beef17-5797-4cea-9480-b9bd58a91dc2",
   "metadata": {},
   "outputs": [
    {
     "name": "stdout",
     "output_type": "stream",
     "text": [
      "     A    B    C   D    E   F\n",
      "0   99    2    3   4   31  40\n",
      "1  100  101  102   8   32  41\n",
      "2    9   10   11  12   33  42\n",
      "3  200   14  201  16  202  43\n",
      "4   17   18   19  20   35  44\n",
      "5   90   91   92  93   94  45\n"
     ]
    }
   ],
   "source": [
    "df = pd.DataFrame(np.arange(1, 21).reshape(5, 4), columns = ['A', 'B', 'C', 'D'])\n",
    "df['E'] = [31, 32, 33, 34, 35]\n",
    "#df[5][:] = [90, 91, 92, 93, 94] #에러\n",
    "#df.iloc[:, 5] = [40, 41, 42, 43, 44] #에러\n",
    "#df.iloc[5,:] = [90, 91, 92, 93, 94] #에러\n",
    "df.loc[5] = [90, 91, 92, 93, 94]\n",
    "df.loc[:, 'F'] = [40, 41, 42, 43, 44, 45]\n",
    "\n",
    "df.loc[0, 'A'] = 99\n",
    "df.loc[1, 'A' : 'C'] = [100, 101, 102]\n",
    "df.loc[3, ['A', 'C', 'E']] = [200, 201, 202]\n",
    "\n",
    "print(df)"
   ]
  },
  {
   "cell_type": "code",
   "execution_count": 44,
   "id": "77ca9b61-4c3c-4c7a-aef1-7932ef6248c7",
   "metadata": {},
   "outputs": [
    {
     "name": "stdout",
     "output_type": "stream",
     "text": [
      "     A    B    C   D   F\n",
      "0   99    2    3   4  40\n",
      "1  100  101  102   8  41\n",
      "2    9   10   11  12  42\n",
      "3  200   14  201  16  43\n",
      "4   17   18   19  20  44\n",
      "5   90   91   92  93  45\n"
     ]
    }
   ],
   "source": [
    "del(df['E'])\n",
    "\n",
    "print(df)"
   ]
  },
  {
   "cell_type": "code",
   "execution_count": 45,
   "id": "9c392bc4-aa4c-42ec-8d6a-86899f973afe",
   "metadata": {},
   "outputs": [
    {
     "name": "stdout",
     "output_type": "stream",
     "text": [
      "     A    B    C   D\n",
      "0   99    2    3   4\n",
      "1  100  101  102   8\n",
      "2    9   10   11  12\n",
      "3  200   14  201  16\n",
      "4   17   18   19  20\n",
      "5   90   91   92  93\n",
      "     A    B    C   D   F\n",
      "0   99    2    3   4  40\n",
      "1  100  101  102   8  41\n",
      "2    9   10   11  12  42\n",
      "3  200   14  201  16  43\n",
      "4   17   18   19  20  44\n",
      "5   90   91   92  93  45\n"
     ]
    }
   ],
   "source": [
    "#df.drop('F') #에러\n",
    "print(df.drop('F', axis = 1))\n",
    "\n",
    "print(df)"
   ]
  },
  {
   "cell_type": "code",
   "execution_count": 46,
   "id": "54ba79f3-fc8c-424e-8525-81ec5dc72760",
   "metadata": {},
   "outputs": [
    {
     "name": "stdout",
     "output_type": "stream",
     "text": [
      "     A    B    C   D\n",
      "0   99    2    3   4\n",
      "1  100  101  102   8\n",
      "2    9   10   11  12\n",
      "3  200   14  201  16\n",
      "4   17   18   19  20\n",
      "5   90   91   92  93\n"
     ]
    }
   ],
   "source": [
    "df = df.drop('F', axis = 1)\n",
    "\n",
    "print(df)"
   ]
  },
  {
   "cell_type": "code",
   "execution_count": 47,
   "id": "3055c904-f2bc-4f1a-9ffd-aa1deb1ddfe3",
   "metadata": {},
   "outputs": [
    {
     "name": "stdout",
     "output_type": "stream",
     "text": [
      "     A    B    C   D\n",
      "0   99    2    3   4\n",
      "1  100  101  102   8\n",
      "2    9   10   11  12\n",
      "3  200   14  201  16\n",
      "4   17   18   19  20\n"
     ]
    }
   ],
   "source": [
    "df = df.drop(5)\n",
    "\n",
    "print(df)"
   ]
  },
  {
   "cell_type": "code",
   "execution_count": null,
   "id": "e289d1bc-8871-462f-b7b7-882d7e698ff0",
   "metadata": {},
   "outputs": [],
   "source": []
  },
  {
   "cell_type": "markdown",
   "id": "3ca6f7fc-93c3-4896-a22d-ad3f9fb97dc9",
   "metadata": {},
   "source": [
    "##### Boolean Indexing"
   ]
  },
  {
   "cell_type": "code",
   "execution_count": 49,
   "id": "acb2f057-27c1-4068-9e98-58419e4eff39",
   "metadata": {},
   "outputs": [
    {
     "name": "stdout",
     "output_type": "stream",
     "text": [
      "   name  age        tel\n",
      "0   kim   25  1111-1111\n",
      "1   lee   30  2222-2222\n",
      "2  park   35  3333-3333\n",
      "3  jung   20  4444-4444\n",
      "4  hong   40  5555-5555\n",
      "jung\n",
      "   name  age\n",
      "2  park   35\n",
      "4  hong   40\n",
      "  name  age        tel\n",
      "0  kim   25  1111-1111\n"
     ]
    }
   ],
   "source": [
    "df = pd.DataFrame(\n",
    "    [['kim', 25, '1111-1111'],\n",
    "     ['lee', 30, '2222-2222'],\n",
    "     ['park', 35, '3333-3333'],\n",
    "     ['jung', 20, '4444-4444'],\n",
    "     ['hong', 40, '5555-5555']], columns = ['name', 'age', 'tel']\n",
    ")\n",
    "\n",
    "print(df)\n",
    "print(df.loc[3, 'name'])\n",
    "print(df.loc[df['age'] > 30, ['name', 'age']])\n",
    "print(df.loc[df['name'] == 'kim', :])"
   ]
  },
  {
   "cell_type": "code",
   "execution_count": 50,
   "id": "3d712a47-a439-4d88-b5ac-a4ae6c7e4c0a",
   "metadata": {},
   "outputs": [
    {
     "name": "stdout",
     "output_type": "stream",
     "text": [
      "   name  age\n",
      "0   kim   25\n",
      "1   lee   30\n",
      "2  park   35\n",
      "Series([], Name: name, dtype: object)\n",
      "0    kim\n",
      "1    lee\n",
      "Name: name, dtype: object\n"
     ]
    }
   ],
   "source": [
    "print(df.loc[(df['age'] > 20) & (df['age'] < 40), 'name' : 'age'])\n",
    "print(df.loc[[], \"name\"])\n",
    "print(df.loc[[True, True, False, False, False], \"name\"])"
   ]
  },
  {
   "cell_type": "code",
   "execution_count": null,
   "id": "40fabd89-88df-4d11-9e29-fec1a6bfaea3",
   "metadata": {},
   "outputs": [],
   "source": []
  },
  {
   "cell_type": "markdown",
   "id": "a2c3747f-ab79-44be-be5c-569081b74151",
   "metadata": {},
   "source": [
    "##### 결측값 대체"
   ]
  },
  {
   "cell_type": "code",
   "execution_count": 52,
   "id": "44c0f0d0-ab2d-4298-9cad-09f61dca51a3",
   "metadata": {},
   "outputs": [
    {
     "ename": "SyntaxError",
     "evalue": "unterminated string literal (detected at line 10) (3447199069.py, line 10)",
     "output_type": "error",
     "traceback": [
      "\u001b[1;36m  Cell \u001b[1;32mIn[52], line 10\u001b[1;36m\u001b[0m\n\u001b[1;33m    df.loc[df['address'] == '', 'address'] = '서울\u001b[0m\n\u001b[1;37m                                             ^\u001b[0m\n\u001b[1;31mSyntaxError\u001b[0m\u001b[1;31m:\u001b[0m unterminated string literal (detected at line 10)\n"
     ]
    }
   ],
   "source": [
    "df['address'] = ['서울', np.nan, np.nan, '수원', np.nan]\n",
    "\n",
    "print(df.loc[df['address'] == np.nan, 'address'])\n",
    "print(df.loc[df['address'] == None, 'address'])\n",
    "print(df.loc[df['address'].isnull(), 'address'])\n",
    "\n",
    "df.loc[df['address'].isnull(), 'address'] = '서울'\n",
    "\n",
    "df.loc[::2, 'address'] = ''\n",
    "df.loc[df['address'] == '', 'address'] = '서울\n",
    "\n",
    "print(df)"
   ]
  },
  {
   "cell_type": "code",
   "execution_count": null,
   "id": "6f27a370-0376-408a-ac04-8c0a73e2f3a9",
   "metadata": {},
   "outputs": [],
   "source": []
  },
  {
   "cell_type": "markdown",
   "id": "67ddb73c-e55d-4393-aa04-eb1eb019812c",
   "metadata": {},
   "source": [
    "##### 결측값 제거"
   ]
  },
  {
   "cell_type": "code",
   "execution_count": 59,
   "id": "13b1ff3a-99ff-4cc0-85ee-ba4f473c4b9d",
   "metadata": {},
   "outputs": [],
   "source": [
    "# df.loc[::2, 'tel'] = np.nan\n",
    "# df.loc[5, :] = [np.nan, np.nan, np.nan, np.nan]\n",
    "\n",
    "# #df.dropna(how = 'all', inplace = True)\n",
    "# #df.dropna(how = 'any', inplace = True)\n",
    "\n",
    "# print(df)"
   ]
  },
  {
   "cell_type": "code",
   "execution_count": 61,
   "id": "70fde7d5-e000-4670-bbee-0943e4d44ad2",
   "metadata": {},
   "outputs": [
    {
     "ename": "ValueError",
     "evalue": "Length of values (6) does not match length of index (5)",
     "output_type": "error",
     "traceback": [
      "\u001b[1;31m---------------------------------------------------------------------------\u001b[0m",
      "\u001b[1;31mValueError\u001b[0m                                Traceback (most recent call last)",
      "Cell \u001b[1;32mIn[61], line 9\u001b[0m\n\u001b[0;32m      1\u001b[0m df \u001b[38;5;241m=\u001b[39m pd\u001b[38;5;241m.\u001b[39mDataFrame(\n\u001b[0;32m      2\u001b[0m     [[\u001b[38;5;124m'\u001b[39m\u001b[38;5;124mkim\u001b[39m\u001b[38;5;124m'\u001b[39m, \u001b[38;5;241m25\u001b[39m, \u001b[38;5;124m'\u001b[39m\u001b[38;5;124m1111-1111\u001b[39m\u001b[38;5;124m'\u001b[39m, \u001b[38;5;124m'\u001b[39m\u001b[38;5;124m서울\u001b[39m\u001b[38;5;124m'\u001b[39m],\n\u001b[0;32m      3\u001b[0m      [\u001b[38;5;124m'\u001b[39m\u001b[38;5;124mlee\u001b[39m\u001b[38;5;124m'\u001b[39m, \u001b[38;5;241m30\u001b[39m, \u001b[38;5;124m'\u001b[39m\u001b[38;5;124m2222-2222\u001b[39m\u001b[38;5;124m'\u001b[39m,np\u001b[38;5;241m.\u001b[39mnan],\n\u001b[1;32m   (...)\u001b[0m\n\u001b[0;32m      6\u001b[0m      [\u001b[38;5;124m'\u001b[39m\u001b[38;5;124mhong\u001b[39m\u001b[38;5;124m'\u001b[39m, \u001b[38;5;241m40\u001b[39m, \u001b[38;5;124m'\u001b[39m\u001b[38;5;124m5555-5555\u001b[39m\u001b[38;5;124m'\u001b[39m, np\u001b[38;5;241m.\u001b[39mnan]], columns \u001b[38;5;241m=\u001b[39m [\u001b[38;5;124m'\u001b[39m\u001b[38;5;124mname\u001b[39m\u001b[38;5;124m'\u001b[39m, \u001b[38;5;124m'\u001b[39m\u001b[38;5;124mage\u001b[39m\u001b[38;5;124m'\u001b[39m, \u001b[38;5;124m'\u001b[39m\u001b[38;5;124mtel\u001b[39m\u001b[38;5;124m'\u001b[39m, \u001b[38;5;124m'\u001b[39m\u001b[38;5;124maddress\u001b[39m\u001b[38;5;124m'\u001b[39m]\n\u001b[0;32m      7\u001b[0m )\n\u001b[1;32m----> 9\u001b[0m df[\u001b[38;5;124m'\u001b[39m\u001b[38;5;124mincome\u001b[39m\u001b[38;5;124m'\u001b[39m] \u001b[38;5;241m=\u001b[39m [\u001b[38;5;241m300\u001b[39m, np\u001b[38;5;241m.\u001b[39mnan, \u001b[38;5;241m400\u001b[39m, \u001b[38;5;241m500\u001b[39m, np\u001b[38;5;241m.\u001b[39mnan, \u001b[38;5;241m300\u001b[39m]\n\u001b[0;32m     10\u001b[0m \u001b[38;5;28mprint\u001b[39m(df)\n",
      "File \u001b[1;32m~\\anaconda3\\Lib\\site-packages\\pandas\\core\\frame.py:4311\u001b[0m, in \u001b[0;36mDataFrame.__setitem__\u001b[1;34m(self, key, value)\u001b[0m\n\u001b[0;32m   4308\u001b[0m     \u001b[38;5;28mself\u001b[39m\u001b[38;5;241m.\u001b[39m_setitem_array([key], value)\n\u001b[0;32m   4309\u001b[0m \u001b[38;5;28;01melse\u001b[39;00m:\n\u001b[0;32m   4310\u001b[0m     \u001b[38;5;66;03m# set column\u001b[39;00m\n\u001b[1;32m-> 4311\u001b[0m     \u001b[38;5;28mself\u001b[39m\u001b[38;5;241m.\u001b[39m_set_item(key, value)\n",
      "File \u001b[1;32m~\\anaconda3\\Lib\\site-packages\\pandas\\core\\frame.py:4524\u001b[0m, in \u001b[0;36mDataFrame._set_item\u001b[1;34m(self, key, value)\u001b[0m\n\u001b[0;32m   4514\u001b[0m \u001b[38;5;28;01mdef\u001b[39;00m \u001b[38;5;21m_set_item\u001b[39m(\u001b[38;5;28mself\u001b[39m, key, value) \u001b[38;5;241m-\u001b[39m\u001b[38;5;241m>\u001b[39m \u001b[38;5;28;01mNone\u001b[39;00m:\n\u001b[0;32m   4515\u001b[0m \u001b[38;5;250m    \u001b[39m\u001b[38;5;124;03m\"\"\"\u001b[39;00m\n\u001b[0;32m   4516\u001b[0m \u001b[38;5;124;03m    Add series to DataFrame in specified column.\u001b[39;00m\n\u001b[0;32m   4517\u001b[0m \n\u001b[1;32m   (...)\u001b[0m\n\u001b[0;32m   4522\u001b[0m \u001b[38;5;124;03m    ensure homogeneity.\u001b[39;00m\n\u001b[0;32m   4523\u001b[0m \u001b[38;5;124;03m    \"\"\"\u001b[39;00m\n\u001b[1;32m-> 4524\u001b[0m     value, refs \u001b[38;5;241m=\u001b[39m \u001b[38;5;28mself\u001b[39m\u001b[38;5;241m.\u001b[39m_sanitize_column(value)\n\u001b[0;32m   4526\u001b[0m     \u001b[38;5;28;01mif\u001b[39;00m (\n\u001b[0;32m   4527\u001b[0m         key \u001b[38;5;129;01min\u001b[39;00m \u001b[38;5;28mself\u001b[39m\u001b[38;5;241m.\u001b[39mcolumns\n\u001b[0;32m   4528\u001b[0m         \u001b[38;5;129;01mand\u001b[39;00m value\u001b[38;5;241m.\u001b[39mndim \u001b[38;5;241m==\u001b[39m \u001b[38;5;241m1\u001b[39m\n\u001b[0;32m   4529\u001b[0m         \u001b[38;5;129;01mand\u001b[39;00m \u001b[38;5;129;01mnot\u001b[39;00m \u001b[38;5;28misinstance\u001b[39m(value\u001b[38;5;241m.\u001b[39mdtype, ExtensionDtype)\n\u001b[0;32m   4530\u001b[0m     ):\n\u001b[0;32m   4531\u001b[0m         \u001b[38;5;66;03m# broadcast across multiple columns if necessary\u001b[39;00m\n\u001b[0;32m   4532\u001b[0m         \u001b[38;5;28;01mif\u001b[39;00m \u001b[38;5;129;01mnot\u001b[39;00m \u001b[38;5;28mself\u001b[39m\u001b[38;5;241m.\u001b[39mcolumns\u001b[38;5;241m.\u001b[39mis_unique \u001b[38;5;129;01mor\u001b[39;00m \u001b[38;5;28misinstance\u001b[39m(\u001b[38;5;28mself\u001b[39m\u001b[38;5;241m.\u001b[39mcolumns, MultiIndex):\n",
      "File \u001b[1;32m~\\anaconda3\\Lib\\site-packages\\pandas\\core\\frame.py:5266\u001b[0m, in \u001b[0;36mDataFrame._sanitize_column\u001b[1;34m(self, value)\u001b[0m\n\u001b[0;32m   5263\u001b[0m     \u001b[38;5;28;01mreturn\u001b[39;00m _reindex_for_setitem(value, \u001b[38;5;28mself\u001b[39m\u001b[38;5;241m.\u001b[39mindex)\n\u001b[0;32m   5265\u001b[0m \u001b[38;5;28;01mif\u001b[39;00m is_list_like(value):\n\u001b[1;32m-> 5266\u001b[0m     com\u001b[38;5;241m.\u001b[39mrequire_length_match(value, \u001b[38;5;28mself\u001b[39m\u001b[38;5;241m.\u001b[39mindex)\n\u001b[0;32m   5267\u001b[0m arr \u001b[38;5;241m=\u001b[39m sanitize_array(value, \u001b[38;5;28mself\u001b[39m\u001b[38;5;241m.\u001b[39mindex, copy\u001b[38;5;241m=\u001b[39m\u001b[38;5;28;01mTrue\u001b[39;00m, allow_2d\u001b[38;5;241m=\u001b[39m\u001b[38;5;28;01mTrue\u001b[39;00m)\n\u001b[0;32m   5268\u001b[0m \u001b[38;5;28;01mif\u001b[39;00m (\n\u001b[0;32m   5269\u001b[0m     \u001b[38;5;28misinstance\u001b[39m(value, Index)\n\u001b[0;32m   5270\u001b[0m     \u001b[38;5;129;01mand\u001b[39;00m value\u001b[38;5;241m.\u001b[39mdtype \u001b[38;5;241m==\u001b[39m \u001b[38;5;124m\"\u001b[39m\u001b[38;5;124mobject\u001b[39m\u001b[38;5;124m\"\u001b[39m\n\u001b[1;32m   (...)\u001b[0m\n\u001b[0;32m   5273\u001b[0m     \u001b[38;5;66;03m# TODO: Remove kludge in sanitize_array for string mode when enforcing\u001b[39;00m\n\u001b[0;32m   5274\u001b[0m     \u001b[38;5;66;03m# this deprecation\u001b[39;00m\n",
      "File \u001b[1;32m~\\anaconda3\\Lib\\site-packages\\pandas\\core\\common.py:573\u001b[0m, in \u001b[0;36mrequire_length_match\u001b[1;34m(data, index)\u001b[0m\n\u001b[0;32m    569\u001b[0m \u001b[38;5;250m\u001b[39m\u001b[38;5;124;03m\"\"\"\u001b[39;00m\n\u001b[0;32m    570\u001b[0m \u001b[38;5;124;03mCheck the length of data matches the length of the index.\u001b[39;00m\n\u001b[0;32m    571\u001b[0m \u001b[38;5;124;03m\"\"\"\u001b[39;00m\n\u001b[0;32m    572\u001b[0m \u001b[38;5;28;01mif\u001b[39;00m \u001b[38;5;28mlen\u001b[39m(data) \u001b[38;5;241m!=\u001b[39m \u001b[38;5;28mlen\u001b[39m(index):\n\u001b[1;32m--> 573\u001b[0m     \u001b[38;5;28;01mraise\u001b[39;00m \u001b[38;5;167;01mValueError\u001b[39;00m(\n\u001b[0;32m    574\u001b[0m         \u001b[38;5;124m\"\u001b[39m\u001b[38;5;124mLength of values \u001b[39m\u001b[38;5;124m\"\u001b[39m\n\u001b[0;32m    575\u001b[0m         \u001b[38;5;124mf\u001b[39m\u001b[38;5;124m\"\u001b[39m\u001b[38;5;124m(\u001b[39m\u001b[38;5;132;01m{\u001b[39;00m\u001b[38;5;28mlen\u001b[39m(data)\u001b[38;5;132;01m}\u001b[39;00m\u001b[38;5;124m) \u001b[39m\u001b[38;5;124m\"\u001b[39m\n\u001b[0;32m    576\u001b[0m         \u001b[38;5;124m\"\u001b[39m\u001b[38;5;124mdoes not match length of index \u001b[39m\u001b[38;5;124m\"\u001b[39m\n\u001b[0;32m    577\u001b[0m         \u001b[38;5;124mf\u001b[39m\u001b[38;5;124m\"\u001b[39m\u001b[38;5;124m(\u001b[39m\u001b[38;5;132;01m{\u001b[39;00m\u001b[38;5;28mlen\u001b[39m(index)\u001b[38;5;132;01m}\u001b[39;00m\u001b[38;5;124m)\u001b[39m\u001b[38;5;124m\"\u001b[39m\n\u001b[0;32m    578\u001b[0m     )\n",
      "\u001b[1;31mValueError\u001b[0m: Length of values (6) does not match length of index (5)"
     ]
    }
   ],
   "source": [
    "df = pd.DataFrame(\n",
    "    [['kim', 25, '1111-1111', '서울'],\n",
    "     ['lee', 30, '2222-2222',np.nan],\n",
    "     ['park', 35, '3333-3333', '수원'],\n",
    "     ['jung', 20, '4444-4444', np.nan],\n",
    "     ['hong', 40, '5555-5555', np.nan]], columns = ['name', 'age', 'tel', 'address']\n",
    ")\n",
    "\n",
    "df['income'] = [300, np.nan, 400, 500, np.nan, 300]\n",
    "print(df)"
   ]
  },
  {
   "cell_type": "code",
   "execution_count": null,
   "id": "5879dfc9-4fea-4ebe-8d7c-4eb267e2a0f9",
   "metadata": {},
   "outputs": [],
   "source": []
  },
  {
   "cell_type": "code",
   "execution_count": null,
   "id": "3e993d11-6e58-4c11-af6e-5c240e15e3b5",
   "metadata": {},
   "outputs": [],
   "source": []
  },
  {
   "cell_type": "code",
   "execution_count": null,
   "id": "242c3bb0-9ffc-40bd-a374-df60d2bf99cd",
   "metadata": {},
   "outputs": [],
   "source": []
  },
  {
   "cell_type": "code",
   "execution_count": null,
   "id": "324ca825-3e4d-418c-a18b-d21966b0fe12",
   "metadata": {},
   "outputs": [],
   "source": []
  }
 ],
 "metadata": {
  "kernelspec": {
   "display_name": "Python 3 (ipykernel)",
   "language": "python",
   "name": "python3"
  },
  "language_info": {
   "codemirror_mode": {
    "name": "ipython",
    "version": 3
   },
   "file_extension": ".py",
   "mimetype": "text/x-python",
   "name": "python",
   "nbconvert_exporter": "python",
   "pygments_lexer": "ipython3",
   "version": "3.12.4"
  }
 },
 "nbformat": 4,
 "nbformat_minor": 5
}
