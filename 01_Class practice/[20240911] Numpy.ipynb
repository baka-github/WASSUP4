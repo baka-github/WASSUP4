{
 "cells": [
  {
   "cell_type": "markdown",
   "id": "f446cb0a-6faa-48a1-a409-25bd0541092f",
   "metadata": {},
   "source": [
    "## Numpy\n",
    "---\n",
    "##### Numerical Python  \n",
    "##### 고성능 수치 계산을 위한 라이브러리  \n",
    "##### 벡터(1차원, 한 줄로 나열된)나 행렬(2차원, 3차원) 연산에 편리한 기능 제공  \n",
    "##### 모든 원소는 같은 자료형만 가능  "
   ]
  },
  {
   "cell_type": "code",
   "execution_count": 17,
   "id": "25332302-c64b-47e7-9a76-563adb5b831b",
   "metadata": {},
   "outputs": [
    {
     "name": "stdout",
     "output_type": "stream",
     "text": [
      "[ 0  1  2  3  4  5  6  7  8  9 10 11 12 13 14]\n"
     ]
    }
   ],
   "source": [
    "import numpy as np\n",
    "a = np.arange(15) #0부터 14까지\n",
    "print(a)"
   ]
  },
  {
   "cell_type": "code",
   "execution_count": 19,
   "id": "20d89d76-32f9-4f2d-9630-c743cf0cce24",
   "metadata": {},
   "outputs": [
    {
     "name": "stdout",
     "output_type": "stream",
     "text": [
      "[[ 0  1  2  3  4]\n",
      " [ 5  6  7  8  9]\n",
      " [10 11 12 13 14]]\n"
     ]
    }
   ],
   "source": [
    "a = a.reshape(3,5)\n",
    "print(a)"
   ]
  },
  {
   "cell_type": "code",
   "execution_count": 21,
   "id": "55e5fc8d-1669-41e3-b254-3064698e9ef4",
   "metadata": {},
   "outputs": [
    {
     "name": "stdout",
     "output_type": "stream",
     "text": [
      "[[ 0  1  2  3  4]\n",
      " [ 5  6  7  8  9]\n",
      " [10 11 12 13 14]]\n"
     ]
    }
   ],
   "source": [
    "a = np.arange(15).reshape(3,5)\n",
    "print(a)"
   ]
  },
  {
   "cell_type": "code",
   "execution_count": 27,
   "id": "188ab1be-c30d-4f83-8b72-2710acb26417",
   "metadata": {},
   "outputs": [
    {
     "ename": "ValueError",
     "evalue": "cannot reshape array of size 15 into shape (3,6)",
     "output_type": "error",
     "traceback": [
      "\u001b[1;31m---------------------------------------------------------------------------\u001b[0m",
      "\u001b[1;31mValueError\u001b[0m                                Traceback (most recent call last)",
      "Cell \u001b[1;32mIn[27], line 1\u001b[0m\n\u001b[1;32m----> 1\u001b[0m a \u001b[38;5;241m=\u001b[39m a\u001b[38;5;241m.\u001b[39mreshape(\u001b[38;5;241m3\u001b[39m,\u001b[38;5;241m6\u001b[39m)\n\u001b[0;32m      2\u001b[0m \u001b[38;5;28mprint\u001b[39m(a)\n",
      "\u001b[1;31mValueError\u001b[0m: cannot reshape array of size 15 into shape (3,6)"
     ]
    }
   ],
   "source": [
    "a = a.reshape(3,6) #데이터가 18개 있어야 해\n",
    "print(a)"
   ]
  },
  {
   "cell_type": "code",
   "execution_count": 31,
   "id": "a7c79f8b-19d3-4513-8c00-a2363822e2fb",
   "metadata": {},
   "outputs": [
    {
     "name": "stdout",
     "output_type": "stream",
     "text": [
      "<class 'numpy.ndarray'>\n"
     ]
    }
   ],
   "source": [
    "a = a.reshape(3,5)\n",
    "print(type(a))"
   ]
  },
  {
   "cell_type": "code",
   "execution_count": 33,
   "id": "af04064d-a94a-4000-ba7c-df90e6252eb8",
   "metadata": {},
   "outputs": [
    {
     "name": "stdout",
     "output_type": "stream",
     "text": [
      "(3, 5)\n"
     ]
    }
   ],
   "source": [
    "a = a.reshape(3,5)\n",
    "print(a.shape)"
   ]
  },
  {
   "cell_type": "code",
   "execution_count": 37,
   "id": "a4bd13ba-c6e1-4706-b793-11e118169340",
   "metadata": {},
   "outputs": [
    {
     "name": "stdout",
     "output_type": "stream",
     "text": [
      "int32\n"
     ]
    }
   ],
   "source": [
    "a = a.reshape(3,5)\n",
    "print(a.dtype)"
   ]
  },
  {
   "cell_type": "code",
   "execution_count": 39,
   "id": "7ce2ba95-744d-4d94-8c98-d23ca369dba4",
   "metadata": {},
   "outputs": [
    {
     "name": "stdout",
     "output_type": "stream",
     "text": [
      "2\n"
     ]
    }
   ],
   "source": [
    "a = a.reshape(3,5)\n",
    "print(a.ndim)"
   ]
  },
  {
   "cell_type": "code",
   "execution_count": 43,
   "id": "0bca8bc1-eaef-40ba-990a-2a421aac9e6f",
   "metadata": {},
   "outputs": [],
   "source": [
    "# print(dir(np))"
   ]
  },
  {
   "cell_type": "code",
   "execution_count": 45,
   "id": "747c8f80-a36b-46b6-bb03-19434dad39e7",
   "metadata": {},
   "outputs": [
    {
     "name": "stdout",
     "output_type": "stream",
     "text": [
      "15\n"
     ]
    }
   ],
   "source": [
    "a = a.reshape(3,5)\n",
    "print(a.size)"
   ]
  },
  {
   "cell_type": "code",
   "execution_count": 179,
   "id": "bc0a46fd-9ca4-4469-8147-138d51d9d28f",
   "metadata": {},
   "outputs": [
    {
     "name": "stdout",
     "output_type": "stream",
     "text": [
      "[[ 0  3  6  9 12]\n",
      " [ 1  4  7 10 13]\n",
      " [ 2  5  8 11 14]]\n"
     ]
    }
   ],
   "source": [
    "#C=행부터 할당(기본값), F=열부터 할당\n",
    "a = np.arange(15)\n",
    "a = a.reshape(3, 5, order='F')\n",
    "print(a)"
   ]
  },
  {
   "cell_type": "code",
   "execution_count": null,
   "id": "b7e4a045-d1ad-4124-9943-23be897dabd9",
   "metadata": {},
   "outputs": [],
   "source": []
  },
  {
   "cell_type": "code",
   "execution_count": 67,
   "id": "4bae1d83-05bc-4375-b379-9e621208ba7f",
   "metadata": {},
   "outputs": [
    {
     "name": "stdout",
     "output_type": "stream",
     "text": [
      "[-1  2  5 13  0  7 19  7 -4 -7]\n"
     ]
    }
   ],
   "source": [
    "b = np.array([-1, 2, 5, 13, 0, 7, 19, 7, -4, -7]) # List\n",
    "#데이터를 섞어보기/리스트를 가지고 넘파이 객체를 만든 것, 리스트와 넘파이는 호환이 가능하다라고 이해  \n",
    "print(b)"
   ]
  },
  {
   "cell_type": "code",
   "execution_count": 69,
   "id": "b8a81301-7a70-45bb-ab5e-ed0f9ba43965",
   "metadata": {},
   "outputs": [
    {
     "name": "stdout",
     "output_type": "stream",
     "text": [
      "<class 'list'>\n"
     ]
    }
   ],
   "source": [
    "b = [-1, 2, 5, 13, 0, 7, 19, 7, -4, -7]\n",
    "print(type(b))"
   ]
  },
  {
   "cell_type": "code",
   "execution_count": 71,
   "id": "1733ca92-d1e4-4d39-8b64-4081f165f6f1",
   "metadata": {},
   "outputs": [
    {
     "name": "stdout",
     "output_type": "stream",
     "text": [
      "<class 'numpy.ndarray'>\n"
     ]
    }
   ],
   "source": [
    "b = np.array([-1, 2, 5, 13, 0, 7, 19, 7, -4, -7])\n",
    "print(type(b))"
   ]
  },
  {
   "cell_type": "code",
   "execution_count": 73,
   "id": "70d7bb8b-4176-44ed-b17a-f249254d4f70",
   "metadata": {},
   "outputs": [
    {
     "name": "stdout",
     "output_type": "stream",
     "text": [
      "<class 'tuple'>\n"
     ]
    }
   ],
   "source": [
    "t = (10, 20, 30, 40, 50) # Tuple\n",
    "print(type(t))"
   ]
  },
  {
   "cell_type": "code",
   "execution_count": 75,
   "id": "711a2a16-1441-4768-8c60-8b9e12675681",
   "metadata": {},
   "outputs": [
    {
     "name": "stdout",
     "output_type": "stream",
     "text": [
      "<class 'numpy.ndarray'>\n"
     ]
    }
   ],
   "source": [
    "t = np.array(t)\n",
    "print(type(t))"
   ]
  },
  {
   "cell_type": "code",
   "execution_count": 79,
   "id": "33a98c0f-2910-4644-b161-da1dfd554501",
   "metadata": {},
   "outputs": [
    {
     "name": "stdout",
     "output_type": "stream",
     "text": [
      "<class 'set'>\n"
     ]
    }
   ],
   "source": [
    "s = {10, 20, 30, 40, 50} # Set\n",
    "print(type(s))"
   ]
  },
  {
   "cell_type": "code",
   "execution_count": 81,
   "id": "d09cf759-6637-459e-87c5-d3f0d015c692",
   "metadata": {},
   "outputs": [
    {
     "name": "stdout",
     "output_type": "stream",
     "text": [
      "<class 'numpy.ndarray'>\n"
     ]
    }
   ],
   "source": [
    "s = np.array(s)\n",
    "print(type(s))"
   ]
  },
  {
   "cell_type": "code",
   "execution_count": 115,
   "id": "cf039e1d-5bdd-4d8e-a20a-3afcf222bd14",
   "metadata": {},
   "outputs": [
    {
     "name": "stdout",
     "output_type": "stream",
     "text": [
      "<class 'numpy.ndarray'>\n",
      "(10,)\n",
      "1\n",
      "int32\n",
      "[-1  2  5 -3  0  7 -9  7 -4 -7]\n"
     ]
    }
   ],
   "source": [
    "b = np.array([-1, 2, 5, -3, 0, 7, -9, 7, -4, -7])\n",
    "print(type(b))\n",
    "print(b.shape)\n",
    "print(b.ndim)\n",
    "print(b.dtype)\n",
    "print(b)"
   ]
  },
  {
   "cell_type": "code",
   "execution_count": 117,
   "id": "caa87b55-864d-4419-9953-a2e643ba437c",
   "metadata": {},
   "outputs": [],
   "source": [
    "# print(help(np))"
   ]
  },
  {
   "cell_type": "code",
   "execution_count": 183,
   "id": "2ca5274f-1e06-47c2-aabd-6baf7de98f1c",
   "metadata": {},
   "outputs": [
    {
     "name": "stdout",
     "output_type": "stream",
     "text": [
      "[1 2 5 3 0 7 9 7 4 7]\n"
     ]
    }
   ],
   "source": [
    "print(np.abs(b)) #절대값을 구하는 함수"
   ]
  },
  {
   "cell_type": "code",
   "execution_count": 121,
   "id": "991e6ce2-7476-4fdc-a851-ae991e17b720",
   "metadata": {},
   "outputs": [
    {
     "name": "stdout",
     "output_type": "stream",
     "text": [
      "[       nan 1.41421356 2.23606798        nan 0.         2.64575131\n",
      "        nan 2.64575131        nan        nan]\n"
     ]
    },
    {
     "name": "stderr",
     "output_type": "stream",
     "text": [
      "C:\\Users\\baka2\\AppData\\Local\\Temp\\ipykernel_18804\\3800773638.py:1: RuntimeWarning: invalid value encountered in sqrt\n",
      "  print(np.sqrt(b)) #(양수는 계산하지만 음수는 nan 계산하지 못한다) 제곱근을 구하는 함수\n"
     ]
    }
   ],
   "source": [
    "print(np.sqrt(b)) #(양수는 계산하지만 음수는 nan 계산하지 못한다) 제곱근을 구하는 함수"
   ]
  },
  {
   "cell_type": "code",
   "execution_count": 123,
   "id": "8fc53134-0540-4256-b7e4-a087c13a5d32",
   "metadata": {},
   "outputs": [
    {
     "name": "stdout",
     "output_type": "stream",
     "text": [
      "[1.         1.41421356 2.23606798 1.73205081 0.         2.64575131\n",
      " 3.         2.64575131 2.         2.64575131]\n"
     ]
    }
   ],
   "source": [
    "print(np.sqrt(np.abs(b))) #절대값으로 구한 넘파이 데이터를, 제곱근을 구한 넘파이 데이터를, 프린트"
   ]
  },
  {
   "cell_type": "code",
   "execution_count": 185,
   "id": "6ba5e862-4e46-4381-bdf5-33edb1c65d01",
   "metadata": {},
   "outputs": [
    {
     "name": "stdout",
     "output_type": "stream",
     "text": [
      "[ 1  4 25  9  0 49 81 49 16 49]\n"
     ]
    }
   ],
   "source": [
    "print(np.square(b)) #제곱을 구하는 함수"
   ]
  },
  {
   "cell_type": "code",
   "execution_count": 187,
   "id": "55c58a9d-bb71-4ed4-9ee4-480af040c2ee",
   "metadata": {},
   "outputs": [
    {
     "name": "stdout",
     "output_type": "stream",
     "text": [
      "[False False False False False False False False False False]\n"
     ]
    }
   ],
   "source": [
    "print(np.isnan(b)) #nan의 여부를 물어보는 함수 (nan일 때 true, nan 아닐 때 false)"
   ]
  },
  {
   "cell_type": "code",
   "execution_count": 131,
   "id": "17c896bb-7213-48ba-964b-a7e41134edba",
   "metadata": {},
   "outputs": [
    {
     "name": "stdout",
     "output_type": "stream",
     "text": [
      "[False False False False False False False False False  True]\n"
     ]
    }
   ],
   "source": [
    "b = np.array([-1, 2, 5, -3, 0, 7, -9, 7, -4, np.nan])\n",
    "print(np.isnan(b))"
   ]
  },
  {
   "cell_type": "code",
   "execution_count": 189,
   "id": "77456cb4-4d1e-477a-9fa4-9e1d8916a433",
   "metadata": {},
   "outputs": [
    {
     "name": "stdout",
     "output_type": "stream",
     "text": [
      "-3\n"
     ]
    }
   ],
   "source": [
    "b = np.array([-1, 2, 5, -3, 0, 7, -9, 7, -4, -7])\n",
    "print(np.sum(b)) #합계를 구하는 함수"
   ]
  },
  {
   "cell_type": "code",
   "execution_count": 191,
   "id": "715f1b0e-1ec0-4dd7-b6f3-ae8d02691c5e",
   "metadata": {},
   "outputs": [
    {
     "name": "stdout",
     "output_type": "stream",
     "text": [
      "-0.3\n"
     ]
    }
   ],
   "source": [
    "print(np.mean(b)) #평균을 구하는 함수"
   ]
  },
  {
   "cell_type": "code",
   "execution_count": 153,
   "id": "fed536a6-025d-4e63-bd67-5ed7023a1127",
   "metadata": {},
   "outputs": [
    {
     "name": "stdout",
     "output_type": "stream",
     "text": [
      "7\n"
     ]
    }
   ],
   "source": [
    "print(np.max(b)) #전체 데이터 중 최대값을 알려주는 함수"
   ]
  },
  {
   "cell_type": "code",
   "execution_count": 155,
   "id": "ef551206-c70c-428f-8548-25f2f2caeba9",
   "metadata": {},
   "outputs": [
    {
     "name": "stdout",
     "output_type": "stream",
     "text": [
      "-9\n"
     ]
    }
   ],
   "source": [
    "print(np.min(b)) #전체 데이터 중 최소값을 알려주는 함수"
   ]
  },
  {
   "cell_type": "code",
   "execution_count": 161,
   "id": "28a1ace5-77e4-4cdc-86b8-7484379a0c5e",
   "metadata": {},
   "outputs": [
    {
     "name": "stdout",
     "output_type": "stream",
     "text": [
      "5\n"
     ]
    }
   ],
   "source": [
    "print(np.argmax(b)) #가장 큰 값의 위치(인덱스)를 알려주는 함수, 0에서부터 시작"
   ]
  },
  {
   "cell_type": "code",
   "execution_count": 165,
   "id": "0322ad7b-9948-43b8-b1e4-07e500df1e64",
   "metadata": {},
   "outputs": [
    {
     "name": "stdout",
     "output_type": "stream",
     "text": [
      "6\n"
     ]
    }
   ],
   "source": [
    "print(np.argmin(b)) #가장 작은 값의 위치(인덱스)를 알려주는 함수, 0에서부터 시작"
   ]
  },
  {
   "cell_type": "code",
   "execution_count": 171,
   "id": "80202e5e-60cd-4f9b-9f0e-3ea6d73141a3",
   "metadata": {},
   "outputs": [
    {
     "name": "stdout",
     "output_type": "stream",
     "text": [
      "[-9 -7 -4 -3 -1  0  2  5  7  7]\n"
     ]
    }
   ],
   "source": [
    "print(np.sort(b)) #오름차순으로 정렬해주는 함수"
   ]
  },
  {
   "cell_type": "code",
   "execution_count": 173,
   "id": "f9c484ad-d687-42f0-adfc-017305f29405",
   "metadata": {},
   "outputs": [
    {
     "name": "stdout",
     "output_type": "stream",
     "text": [
      "[ 7  7  5  2  0 -1 -3 -4 -7 -9]\n"
     ]
    }
   ],
   "source": [
    "print(np.sort(b)[::-1]) #내림차순으로 정렬해주는 함수 (오름차순으로 정렬한 뒤 거꾸로 정렬하기)\n",
    "# [start : end : step] [시작 : 끝 : 간격] -1은 거꾸로"
   ]
  },
  {
   "cell_type": "code",
   "execution_count": 177,
   "id": "2c0648f5-5db0-449d-9f2b-c3ef57a8e975",
   "metadata": {},
   "outputs": [
    {
     "name": "stdout",
     "output_type": "stream",
     "text": [
      "-0.5\n"
     ]
    }
   ],
   "source": [
    "print(np.median(b)) #전체 데이터 중중간 값을 알려주는 함수"
   ]
  }
 ],
 "metadata": {
  "kernelspec": {
   "display_name": "Python 3 (ipykernel)",
   "language": "python",
   "name": "python3"
  },
  "language_info": {
   "codemirror_mode": {
    "name": "ipython",
    "version": 3
   },
   "file_extension": ".py",
   "mimetype": "text/x-python",
   "name": "python",
   "nbconvert_exporter": "python",
   "pygments_lexer": "ipython3",
   "version": "3.12.4"
  }
 },
 "nbformat": 4,
 "nbformat_minor": 5
}
