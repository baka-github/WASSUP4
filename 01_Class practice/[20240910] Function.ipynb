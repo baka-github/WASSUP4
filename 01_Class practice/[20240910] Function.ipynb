{
 "cells": [
  {
   "cell_type": "markdown",
   "id": "55ff6ac2-80ac-4fa5-b77f-5386a3f599ce",
   "metadata": {},
   "source": [
    "## 함수와 입출력"
   ]
  },
  {
   "cell_type": "markdown",
   "id": "85cfe266-9f38-46e4-9b35-101ae52a793d",
   "metadata": {},
   "source": [
    "#### 함수"
   ]
  },
  {
   "cell_type": "code",
   "execution_count": 4,
   "id": "de30d7e5-63a2-4389-9d9c-ed19d4cd7b8d",
   "metadata": {},
   "outputs": [],
   "source": [
    "def add(a, b): \n",
    "    return a + b"
   ]
  },
  {
   "cell_type": "code",
   "execution_count": 10,
   "id": "7591792d-c7f3-4975-8f99-0da443e812fc",
   "metadata": {},
   "outputs": [
    {
     "name": "stdout",
     "output_type": "stream",
     "text": [
      "7\n"
     ]
    }
   ],
   "source": [
    "a = 3\n",
    "b = 4\n",
    "c = add(a, b)\n",
    "print(c)"
   ]
  },
  {
   "cell_type": "markdown",
   "id": "6822eb41-8d48-4c66-a31e-b17423a63b3f",
   "metadata": {},
   "source": [
    "#### 매개변수와 인수"
   ]
  },
  {
   "cell_type": "code",
   "execution_count": 13,
   "id": "99f702b7-848b-44b3-b766-be7725aa1d6f",
   "metadata": {},
   "outputs": [
    {
     "name": "stdout",
     "output_type": "stream",
     "text": [
      "7\n"
     ]
    }
   ],
   "source": [
    "def add(a, b):  # a, b는 매개변수\n",
    "    return a+b\n",
    "\n",
    "print(add(3, 4))  # 3, 4는 인수"
   ]
  },
  {
   "cell_type": "markdown",
   "id": "7f4516d6-875b-4ea9-8dc4-a5c57d02e3f4",
   "metadata": {},
   "source": [
    "#### 입력값과 리턴값에 따른 함수의 형태"
   ]
  },
  {
   "cell_type": "code",
   "execution_count": 18,
   "id": "90bebe86-f023-4a35-978a-ff3458b82ee4",
   "metadata": {},
   "outputs": [],
   "source": [
    "# 일반적인 함수\n",
    "def add(a, b): \n",
    "    result = a + b \n",
    "    return result"
   ]
  },
  {
   "cell_type": "code",
   "execution_count": 20,
   "id": "efa587cb-399c-40a7-b374-8e66b932165f",
   "metadata": {},
   "outputs": [
    {
     "data": {
      "text/plain": [
       "7"
      ]
     },
     "execution_count": 20,
     "metadata": {},
     "output_type": "execute_result"
    }
   ],
   "source": [
    "add(3, 4)"
   ]
  },
  {
   "cell_type": "code",
   "execution_count": 54,
   "id": "5be31071-7f65-4eb5-9ab3-8f5d0d6b9149",
   "metadata": {},
   "outputs": [],
   "source": [
    "# 입력값이 없는 함수\n",
    "def say1(): \n",
    "    return 'Hi' "
   ]
  },
  {
   "cell_type": "code",
   "execution_count": 56,
   "id": "3febbf33-49b4-4995-ba0e-5f8db059ef30",
   "metadata": {},
   "outputs": [
    {
     "data": {
      "text/plain": [
       "'Hi'"
      ]
     },
     "execution_count": 56,
     "metadata": {},
     "output_type": "execute_result"
    }
   ],
   "source": [
    "say1()"
   ]
  },
  {
   "cell_type": "code",
   "execution_count": 58,
   "id": "95d69d44-108d-4c3e-be89-c5696c9c34a6",
   "metadata": {},
   "outputs": [],
   "source": [
    "d = say1()"
   ]
  },
  {
   "cell_type": "code",
   "execution_count": 60,
   "id": "ba4ebb38-fa09-4ee4-8aa7-b3ee0d1c19b0",
   "metadata": {},
   "outputs": [
    {
     "name": "stdout",
     "output_type": "stream",
     "text": [
      "Hi\n"
     ]
    }
   ],
   "source": [
    "print(d)"
   ]
  },
  {
   "cell_type": "code",
   "execution_count": 42,
   "id": "92509729-8e2e-4b9a-b11c-76ab62e54f77",
   "metadata": {},
   "outputs": [],
   "source": [
    "# 리턴값이 없는 함수\n",
    "def add2(a, b): \n",
    "    print(\"%d, %d의 합은 %d입니다.\" % (a, b, a+b))"
   ]
  },
  {
   "cell_type": "code",
   "execution_count": 44,
   "id": "9b0785d4-8cce-47ca-a206-cb47c5f39d19",
   "metadata": {},
   "outputs": [
    {
     "name": "stdout",
     "output_type": "stream",
     "text": [
      "3, 4의 합은 7입니다.\n"
     ]
    }
   ],
   "source": [
    "add2(3, 4)"
   ]
  },
  {
   "cell_type": "code",
   "execution_count": 46,
   "id": "b4eb9a22-8df2-494c-b8e6-7a0b95dc002a",
   "metadata": {},
   "outputs": [
    {
     "name": "stdout",
     "output_type": "stream",
     "text": [
      "3, 4의 합은 7입니다.\n"
     ]
    }
   ],
   "source": [
    "c = add2(3, 4)"
   ]
  },
  {
   "cell_type": "code",
   "execution_count": 48,
   "id": "7be1aa51-31cb-426f-bc8f-d214a91c9b9d",
   "metadata": {},
   "outputs": [
    {
     "name": "stdout",
     "output_type": "stream",
     "text": [
      "None\n"
     ]
    }
   ],
   "source": [
    "print(c)"
   ]
  },
  {
   "cell_type": "code",
   "execution_count": 64,
   "id": "5d6be093-3efd-4766-a03b-22c4666bf42b",
   "metadata": {},
   "outputs": [],
   "source": [
    "# 입력값도, 리턴값도 없는 함수\n",
    "def say2(): \n",
    "    print('Hi')"
   ]
  },
  {
   "cell_type": "code",
   "execution_count": 66,
   "id": "587198bb-0945-43c9-8de0-ba60a03d52e5",
   "metadata": {},
   "outputs": [
    {
     "name": "stdout",
     "output_type": "stream",
     "text": [
      "Hi\n"
     ]
    }
   ],
   "source": [
    "d = say2()"
   ]
  },
  {
   "cell_type": "code",
   "execution_count": 68,
   "id": "5eccb5bd-ce71-4fd2-b1ea-8bff3b6885a1",
   "metadata": {},
   "outputs": [
    {
     "name": "stdout",
     "output_type": "stream",
     "text": [
      "None\n"
     ]
    }
   ],
   "source": [
    "print(d)"
   ]
  },
  {
   "cell_type": "code",
   "execution_count": null,
   "id": "8eea27f6-f7ef-4bcb-8f7f-a25b73b97c40",
   "metadata": {},
   "outputs": [],
   "source": []
  },
  {
   "cell_type": "markdown",
   "id": "78cd72eb-56ab-4ddd-bdb5-c90ba30591f1",
   "metadata": {},
   "source": [
    "#### 매개변수를 지정하여 호출하기"
   ]
  },
  {
   "cell_type": "code",
   "execution_count": 73,
   "id": "9300ed33-bbb7-40d3-a3db-ed66f47c75d6",
   "metadata": {},
   "outputs": [],
   "source": [
    "def sub(a, b):\n",
    "    return a - b"
   ]
  },
  {
   "cell_type": "code",
   "execution_count": 77,
   "id": "a618cee9-2a9e-48bf-b450-67578cde337a",
   "metadata": {},
   "outputs": [
    {
     "name": "stdout",
     "output_type": "stream",
     "text": [
      "4\n"
     ]
    }
   ],
   "source": [
    "result = sub(a=7, b=3)\n",
    "print(result)"
   ]
  },
  {
   "cell_type": "code",
   "execution_count": 83,
   "id": "0dc430cb-b1e5-45f6-85c4-cf64b1514559",
   "metadata": {},
   "outputs": [
    {
     "name": "stdout",
     "output_type": "stream",
     "text": [
      "-2\n"
     ]
    }
   ],
   "source": [
    "result = sub(b=5, a=3)\n",
    "print(result)"
   ]
  },
  {
   "cell_type": "code",
   "execution_count": null,
   "id": "c0d7646e-1209-4855-8ee3-c8c4888e73ba",
   "metadata": {},
   "outputs": [],
   "source": []
  },
  {
   "cell_type": "markdown",
   "id": "d8f85c2a-c0f2-49d9-aca2-375b3079a221",
   "metadata": {},
   "source": [
    "#### 입력값이 몇 개가 될지 모를 때는 어떻게 해야 할까?"
   ]
  },
  {
   "cell_type": "code",
   "execution_count": 88,
   "id": "2640e159-ac08-4ccd-9663-98b1ba5e0de5",
   "metadata": {},
   "outputs": [
    {
     "data": {
      "text/plain": [
       "\u001b[1;31mSignature:\u001b[0m \u001b[0mprint\u001b[0m\u001b[1;33m(\u001b[0m\u001b[1;33m*\u001b[0m\u001b[0margs\u001b[0m\u001b[1;33m,\u001b[0m \u001b[0msep\u001b[0m\u001b[1;33m=\u001b[0m\u001b[1;34m' '\u001b[0m\u001b[1;33m,\u001b[0m \u001b[0mend\u001b[0m\u001b[1;33m=\u001b[0m\u001b[1;34m'\\n'\u001b[0m\u001b[1;33m,\u001b[0m \u001b[0mfile\u001b[0m\u001b[1;33m=\u001b[0m\u001b[1;32mNone\u001b[0m\u001b[1;33m,\u001b[0m \u001b[0mflush\u001b[0m\u001b[1;33m=\u001b[0m\u001b[1;32mFalse\u001b[0m\u001b[1;33m)\u001b[0m\u001b[1;33m\u001b[0m\u001b[1;33m\u001b[0m\u001b[0m\n",
       "\u001b[1;31mDocstring:\u001b[0m\n",
       "Prints the values to a stream, or to sys.stdout by default.\n",
       "\n",
       "sep\n",
       "  string inserted between values, default a space.\n",
       "end\n",
       "  string appended after the last value, default a newline.\n",
       "file\n",
       "  a file-like object (stream); defaults to the current sys.stdout.\n",
       "flush\n",
       "  whether to forcibly flush the stream.\n",
       "\u001b[1;31mType:\u001b[0m      builtin_function_or_method"
      ]
     },
     "metadata": {},
     "output_type": "display_data"
    }
   ],
   "source": [
    "print?"
   ]
  },
  {
   "cell_type": "code",
   "execution_count": 96,
   "id": "ad3c8147-9235-4f42-9c83-0735dceede7d",
   "metadata": {},
   "outputs": [],
   "source": [
    "# 사용자의 입력이 몇 개든, 전부 다 누적해서 더해주는 함수\n",
    "def add_many(*args): \n",
    "    result = 0 \n",
    "    for i in args: \n",
    "        result = result + i   # *args에 입력받은 모든 값을 더한다.\n",
    "    return result "
   ]
  },
  {
   "cell_type": "code",
   "execution_count": 102,
   "id": "d50aaa03-f49c-45aa-85c9-ccb04ef73f5c",
   "metadata": {},
   "outputs": [
    {
     "data": {
      "text/plain": [
       "1000044"
      ]
     },
     "execution_count": 102,
     "metadata": {},
     "output_type": "execute_result"
    }
   ],
   "source": [
    "add_many(1,2,3,4,5,6,7,8,9,999999)"
   ]
  },
  {
   "cell_type": "code",
   "execution_count": null,
   "id": "1299a53f-60c5-40e7-8b95-176e75863bd7",
   "metadata": {},
   "outputs": [],
   "source": [
    "# Quiz\n",
    "---\n",
    "사용자에게 다수의 입력을 받아서 옵션에 따라 누적곱 또는 누적합을 출력하는 함수를 만들어라\n",
    "---"
   ]
  },
  {
   "cell_type": "code",
   "execution_count": 106,
   "id": "c750fbb2-4590-44b5-9c43-36adea3a5c80",
   "metadata": {},
   "outputs": [],
   "source": [
    "def cumulative_operation(numbers, operation):\n",
    "    result = []\n",
    "\n",
    "    if operation == 'sum':\n",
    "        cum_sum = 0\n",
    "        for num in numbers:\n",
    "            cum_sum += num\n",
    "            result.append(cum_sum)\n",
    "\n",
    "    elif operation == 'product':\n",
    "        cum_product = 1\n",
    "        for num in numbers:\n",
    "            cum_product *= num\n",
    "            result.append(cum_product)\n",
    "\n",
    "    else:\n",
    "        return \"Invalid operation. Please choose 'sum' or 'product'.\"\n",
    "\n",
    "    return result"
   ]
  },
  {
   "cell_type": "code",
   "execution_count": 116,
   "id": "cdf4c30c-acdb-434d-8b51-f71df083a0f0",
   "metadata": {},
   "outputs": [
    {
     "name": "stdout",
     "output_type": "stream",
     "text": [
      "[1, 2, 6]\n"
     ]
    }
   ],
   "source": [
    "numbers = [1,2,3]\n",
    "operation = 'product' #'sum'\n",
    "print(cumulative_operation(numbers, operation))"
   ]
  },
  {
   "cell_type": "markdown",
   "id": "09466e1f-d235-4935-bad1-956475cc7de6",
   "metadata": {},
   "source": [
    "def add_mul(option, *args):\n",
    "    if option == 'mul':\n",
    "        data = 1\n",
    "        for i in args:\n",
    "            data = data * i\n",
    "        return data\n",
    "    if option == 'sum':\n",
    "        data = 0\n",
    "        for i in args:\n",
    "            data = data + i\n",
    "        return data"
   ]
  },
  {
   "cell_type": "code",
   "execution_count": 124,
   "id": "2e17eed7-182c-4c63-9c63-f82673842821",
   "metadata": {},
   "outputs": [
    {
     "data": {
      "text/plain": [
       "120"
      ]
     },
     "execution_count": 124,
     "metadata": {},
     "output_type": "execute_result"
    }
   ],
   "source": [
    "add_mul('mul', 1,2,3,4,5)"
   ]
  },
  {
   "cell_type": "code",
   "execution_count": 126,
   "id": "0c493ef4-86b5-48e0-b899-754bfa523462",
   "metadata": {},
   "outputs": [
    {
     "data": {
      "text/plain": [
       "15"
      ]
     },
     "execution_count": 126,
     "metadata": {},
     "output_type": "execute_result"
    }
   ],
   "source": [
    "add_mul('sum', 1,2,3,4,5)"
   ]
  },
  {
   "cell_type": "code",
   "execution_count": null,
   "id": "e2774dd4-50c0-48bb-9aaa-cb2a7e012535",
   "metadata": {},
   "outputs": [],
   "source": []
  },
  {
   "cell_type": "markdown",
   "id": "f9312eb9-57e3-4e20-870d-cba38339e3c3",
   "metadata": {},
   "source": [
    "#### 키워드 매개변수, kwargs"
   ]
  },
  {
   "cell_type": "code",
   "execution_count": 134,
   "id": "6c9718f8-c795-451e-955e-9e2771dc0f62",
   "metadata": {},
   "outputs": [],
   "source": [
    "def print_kwargs(**kwargs):\n",
    "    print(kwargs)"
   ]
  },
  {
   "cell_type": "code",
   "execution_count": 136,
   "id": "1ccf8b50-880c-4dd1-b9f5-512d22c8d37a",
   "metadata": {},
   "outputs": [
    {
     "name": "stdout",
     "output_type": "stream",
     "text": [
      "{'a': 1}\n"
     ]
    }
   ],
   "source": [
    "print_kwargs(a=1)"
   ]
  },
  {
   "cell_type": "code",
   "execution_count": 138,
   "id": "e14ebd5a-c385-49e0-b947-e521c0b340da",
   "metadata": {},
   "outputs": [
    {
     "name": "stdout",
     "output_type": "stream",
     "text": [
      "{'name': 'baka', 'age': 20}\n"
     ]
    }
   ],
   "source": [
    "print_kwargs(name='baka',age=20)"
   ]
  },
  {
   "cell_type": "code",
   "execution_count": null,
   "id": "6eb9d28c-7987-4006-b480-e50d79104597",
   "metadata": {},
   "outputs": [],
   "source": []
  },
  {
   "cell_type": "markdown",
   "id": "4e56157e-f1f9-4a2f-aac3-7a93609fb0ac",
   "metadata": {},
   "source": [
    "#### 함수의 리턴값은 언제나 하나이다"
   ]
  },
  {
   "cell_type": "code",
   "execution_count": 141,
   "id": "5ff01bbc-8f23-4afb-9559-263bf36eae78",
   "metadata": {},
   "outputs": [],
   "source": [
    "def add_and_mul(a,b): \n",
    "    return a+b, a*b"
   ]
  },
  {
   "cell_type": "code",
   "execution_count": 143,
   "id": "0bb114c8-9e22-410d-91dd-7c39e01dcebd",
   "metadata": {},
   "outputs": [
    {
     "data": {
      "text/plain": [
       "(7, 12)"
      ]
     },
     "execution_count": 143,
     "metadata": {},
     "output_type": "execute_result"
    }
   ],
   "source": [
    "add_and_mul(3, 4)"
   ]
  },
  {
   "cell_type": "code",
   "execution_count": 145,
   "id": "bbf290a2-115e-4069-a554-a8d1580cfb96",
   "metadata": {},
   "outputs": [
    {
     "data": {
      "text/plain": [
       "7"
      ]
     },
     "execution_count": 145,
     "metadata": {},
     "output_type": "execute_result"
    }
   ],
   "source": [
    "result1, result2 = add_and_mul(3, 4)\n",
    "result1"
   ]
  },
  {
   "cell_type": "code",
   "execution_count": 147,
   "id": "8d1d254f-cbe8-467b-b5e5-17ae8702cedb",
   "metadata": {},
   "outputs": [
    {
     "data": {
      "text/plain": [
       "12"
      ]
     },
     "execution_count": 147,
     "metadata": {},
     "output_type": "execute_result"
    }
   ],
   "source": [
    "result2"
   ]
  },
  {
   "cell_type": "code",
   "execution_count": 149,
   "id": "8b212be2-b076-4ddb-ae65-3ac568e31389",
   "metadata": {},
   "outputs": [],
   "source": [
    "def add_and_mul(a,b): \n",
    "    return a+b\n",
    "    return a*b"
   ]
  },
  {
   "cell_type": "code",
   "execution_count": 151,
   "id": "882fdb40-b544-41c1-a353-b66d3f50370b",
   "metadata": {},
   "outputs": [
    {
     "data": {
      "text/plain": [
       "5"
      ]
     },
     "execution_count": 151,
     "metadata": {},
     "output_type": "execute_result"
    }
   ],
   "source": [
    "result = add_and_mul(2, 3)\n",
    "result"
   ]
  },
  {
   "cell_type": "code",
   "execution_count": null,
   "id": "61956a24-7ed0-49bf-a341-77acd13cf2a6",
   "metadata": {},
   "outputs": [],
   "source": []
  },
  {
   "cell_type": "markdown",
   "id": "a2f19723-f22d-4246-b2f7-849a12cd36ea",
   "metadata": {},
   "source": [
    "#### return으로 함수 이탈하기"
   ]
  },
  {
   "cell_type": "code",
   "execution_count": 157,
   "id": "d5dc0141-8ea4-4b78-aa5d-875330aedcd4",
   "metadata": {},
   "outputs": [],
   "source": [
    "def say_nick(nick):\n",
    "    if nick == '바보':\n",
    "        return '옥상으로 따라와'\n",
    "    print(f'나의 별명은 {nick}입니다.')"
   ]
  },
  {
   "cell_type": "code",
   "execution_count": 159,
   "id": "e7839d71-2240-449f-be0f-9cf18b614335",
   "metadata": {},
   "outputs": [
    {
     "name": "stdout",
     "output_type": "stream",
     "text": [
      "나의 별명은 호야입니다.\n"
     ]
    }
   ],
   "source": [
    "say_nick('호야')"
   ]
  },
  {
   "cell_type": "code",
   "execution_count": 161,
   "id": "6197f9c0-7f40-4577-846f-423833159c17",
   "metadata": {},
   "outputs": [
    {
     "name": "stdout",
     "output_type": "stream",
     "text": [
      "나의 별명은 돼지입니다.\n"
     ]
    }
   ],
   "source": [
    "say_nick('돼지')"
   ]
  },
  {
   "cell_type": "code",
   "execution_count": 163,
   "id": "cb83e94f-262c-41fb-a669-ff9347ea78ca",
   "metadata": {},
   "outputs": [
    {
     "data": {
      "text/plain": [
       "'옥상으로 따라와'"
      ]
     },
     "execution_count": 163,
     "metadata": {},
     "output_type": "execute_result"
    }
   ],
   "source": [
    "say_nick('바보')"
   ]
  },
  {
   "cell_type": "code",
   "execution_count": null,
   "id": "afc3f7f9-0c38-4653-98b4-132612d24606",
   "metadata": {},
   "outputs": [],
   "source": []
  },
  {
   "cell_type": "markdown",
   "id": "0006b7a2-340a-4f9e-8aa1-06057545d758",
   "metadata": {},
   "source": [
    "#### 매개변수에 초깃값 미리 설정하기"
   ]
  },
  {
   "cell_type": "code",
   "execution_count": 169,
   "id": "e70f8ae7-b40f-4222-b441-bd2cf67b2bc8",
   "metadata": {},
   "outputs": [],
   "source": [
    "# default1.py\n",
    "def say_myself(name, age, man=True): \n",
    "    print(\"나의 이름은 %s 입니다.\" % name) \n",
    "    print(\"나이는 %d살입니다.\" % age) \n",
    "    if man: \n",
    "        print(\"남자입니다.\")\n",
    "    else: \n",
    "        print(\"여자입니다.\")"
   ]
  },
  {
   "cell_type": "code",
   "execution_count": 171,
   "id": "abe4fa73-e8bb-457f-8d8e-5ad8331bd152",
   "metadata": {},
   "outputs": [
    {
     "name": "stdout",
     "output_type": "stream",
     "text": [
      "나의 이름은 김첨지 입니다.\n",
      "나이는 27살입니다.\n",
      "남자입니다.\n"
     ]
    }
   ],
   "source": [
    "say_myself(\"김첨지\", 27)"
   ]
  },
  {
   "cell_type": "code",
   "execution_count": 173,
   "id": "2dcfa1a2-98fe-4272-ae63-c5f56fd0ae0d",
   "metadata": {},
   "outputs": [
    {
     "name": "stdout",
     "output_type": "stream",
     "text": [
      "나의 이름은 김첨지 입니다.\n",
      "나이는 27살입니다.\n",
      "남자입니다.\n"
     ]
    }
   ],
   "source": [
    "say_myself(\"김첨지\", 27, True)"
   ]
  },
  {
   "cell_type": "code",
   "execution_count": 177,
   "id": "d9ac81ba-5850-4a3e-bb07-671bbec42302",
   "metadata": {},
   "outputs": [
    {
     "name": "stdout",
     "output_type": "stream",
     "text": [
      "나의 이름은 박춘봉 입니다.\n",
      "나이는 27살입니다.\n",
      "여자입니다.\n"
     ]
    }
   ],
   "source": [
    "say_myself(\"박춘봉\", 27, False)"
   ]
  },
  {
   "cell_type": "code",
   "execution_count": null,
   "id": "abd23199-751d-42d4-b6bd-01546de29cb5",
   "metadata": {},
   "outputs": [],
   "source": []
  },
  {
   "cell_type": "markdown",
   "id": "7a3ab40b-08e9-420a-b6b2-ab9a13f0b990",
   "metadata": {},
   "source": [
    "#### 함수 안에서 선언한 변수의 효력 범위"
   ]
  },
  {
   "cell_type": "code",
   "execution_count": 186,
   "id": "a999d52c-e2aa-4e53-8e3a-c0973fe6d4b9",
   "metadata": {},
   "outputs": [],
   "source": [
    "a = 1\n",
    "def vartest(a):\n",
    "    a = a+1"
   ]
  },
  {
   "cell_type": "code",
   "execution_count": 188,
   "id": "cf481f3b-2f34-4ef7-9fdf-d5275848820a",
   "metadata": {},
   "outputs": [
    {
     "data": {
      "text/plain": [
       "1"
      ]
     },
     "execution_count": 188,
     "metadata": {},
     "output_type": "execute_result"
    }
   ],
   "source": [
    "a"
   ]
  },
  {
   "cell_type": "code",
   "execution_count": 190,
   "id": "34a56c20-f2b9-4db4-8220-a0b637797d91",
   "metadata": {},
   "outputs": [],
   "source": [
    "vartest(a)"
   ]
  },
  {
   "cell_type": "code",
   "execution_count": 192,
   "id": "ba2ff8ef-36b6-419f-ab21-1045a88a9b1b",
   "metadata": {},
   "outputs": [
    {
     "name": "stdout",
     "output_type": "stream",
     "text": [
      "1\n"
     ]
    }
   ],
   "source": [
    "print(a)"
   ]
  },
  {
   "cell_type": "code",
   "execution_count": null,
   "id": "4c1195db-597d-41b5-9bd6-7c835835cc69",
   "metadata": {},
   "outputs": [],
   "source": []
  },
  {
   "cell_type": "markdown",
   "id": "354ec7de-5fad-4893-88f1-dac0a3e61cf2",
   "metadata": {},
   "source": [
    "#### 함수 안에서 함수 밖의 변수를 변경하는 방법"
   ]
  },
  {
   "cell_type": "code",
   "execution_count": 199,
   "id": "f59d65ed-1eb6-4c7f-9539-4fed38296124",
   "metadata": {},
   "outputs": [
    {
     "name": "stdout",
     "output_type": "stream",
     "text": [
      "2\n"
     ]
    }
   ],
   "source": [
    "# return 사용하기\n",
    "# vartest_return.py\n",
    "a = 1 \n",
    "def vartest(a): \n",
    "    a = a +1 \n",
    "    return a\n",
    "\n",
    "a = vartest(a) \n",
    "print(a)"
   ]
  },
  {
   "cell_type": "code",
   "execution_count": 201,
   "id": "221ab206-68e5-4ba0-b6d5-d8c2acf07d8d",
   "metadata": {},
   "outputs": [
    {
     "name": "stdout",
     "output_type": "stream",
     "text": [
      "2\n"
     ]
    }
   ],
   "source": [
    "# global 명령어 사용하기\n",
    "# vartest_global.py\n",
    "a = 1 \n",
    "def vartest(): \n",
    "    global a \n",
    "    a = a+1\n",
    "\n",
    "vartest() \n",
    "print(a)"
   ]
  },
  {
   "cell_type": "code",
   "execution_count": null,
   "id": "939093b2-4f1e-4fbb-9ec6-c8d8626f190c",
   "metadata": {},
   "outputs": [],
   "source": []
  },
  {
   "cell_type": "markdown",
   "id": "b76dd8d5-c1cf-4af0-a576-c7269f8ed115",
   "metadata": {},
   "source": [
    "#### lambda 예약어 (쉽게 말하면 1회성 함수)"
   ]
  },
  {
   "cell_type": "code",
   "execution_count": 205,
   "id": "673823ce-2a69-441d-a6ec-11703610022c",
   "metadata": {},
   "outputs": [
    {
     "name": "stdout",
     "output_type": "stream",
     "text": [
      "7\n"
     ]
    }
   ],
   "source": [
    "def add(a, b):\n",
    "    return a+b\n",
    "\n",
    "result = add(3, 4)\n",
    "print(result)"
   ]
  },
  {
   "cell_type": "code",
   "execution_count": 207,
   "id": "2c020ee1-df4d-4dd1-b711-4af4dfed5106",
   "metadata": {},
   "outputs": [
    {
     "name": "stdout",
     "output_type": "stream",
     "text": [
      "7\n"
     ]
    }
   ],
   "source": [
    "add = lambda a, b: a+b\n",
    "result = add(3, 4)\n",
    "print(result)"
   ]
  }
 ],
 "metadata": {
  "kernelspec": {
   "display_name": "Python 3 (ipykernel)",
   "language": "python",
   "name": "python3"
  },
  "language_info": {
   "codemirror_mode": {
    "name": "ipython",
    "version": 3
   },
   "file_extension": ".py",
   "mimetype": "text/x-python",
   "name": "python",
   "nbconvert_exporter": "python",
   "pygments_lexer": "ipython3",
   "version": "3.12.4"
  }
 },
 "nbformat": 4,
 "nbformat_minor": 5
}
