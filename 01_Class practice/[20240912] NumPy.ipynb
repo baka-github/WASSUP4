{
 "cells": [
  {
   "cell_type": "markdown",
   "id": "2f97ba19-0f7b-4ae2-9c84-22eb4b3643f7",
   "metadata": {},
   "source": [
    "## Numpy\n",
    "---\n",
    "##### Numerical Python  \n",
    "##### 고성능 수치 계산을 위한 라이브러리  \n",
    "##### 벡터(1차원, 한 줄로 나열된)나 행렬(2차원, 3차원) 연산에 편리한 기능 제공  \n",
    "##### 모든 원소는 같은 자료형만 가능  "
   ]
  },
  {
   "cell_type": "code",
   "execution_count": 22,
   "id": "b079e38d-3227-4faf-ac5d-d4c881fb402e",
   "metadata": {},
   "outputs": [
    {
     "name": "stdout",
     "output_type": "stream",
     "text": [
      "-0.5\n"
     ]
    }
   ],
   "source": [
    "import numpy as np\n",
    "\n",
    "b = [-1, 2, 5, -3, 0, 7, -9, 7, -4, -7]\n",
    "print(np.median(b)) #전체 데이터 중간 값을 알려주는 함수"
   ]
  },
  {
   "cell_type": "code",
   "execution_count": null,
   "id": "1fb63bb7-21b4-4934-bbe5-cdc76e822577",
   "metadata": {},
   "outputs": [],
   "source": []
  },
  {
   "cell_type": "markdown",
   "id": "b3df5ab6-fe8f-425c-8813-173a8b1fe898",
   "metadata": {},
   "source": [
    "#### 2차원 배열"
   ]
  },
  {
   "cell_type": "code",
   "execution_count": 4,
   "id": "d36fabbb-660e-42df-874c-f2444ad7083c",
   "metadata": {},
   "outputs": [
    {
     "name": "stdout",
     "output_type": "stream",
     "text": [
      "<class 'list'>\n",
      "<class 'numpy.ndarray'>\n"
     ]
    }
   ],
   "source": [
    "c = [[1, 2, 3], [4, 5, 6]]\n",
    "print(type(c))\n",
    "c = np.array(c)\n",
    "print(type(c))"
   ]
  },
  {
   "cell_type": "code",
   "execution_count": 26,
   "id": "29f20a56-a14d-4084-bfe8-f803c16ccb2a",
   "metadata": {},
   "outputs": [
    {
     "name": "stdout",
     "output_type": "stream",
     "text": [
      "[[1 2 3]\n",
      " [4 5 6]]\n"
     ]
    }
   ],
   "source": [
    "print(c) #2행 3열"
   ]
  },
  {
   "cell_type": "code",
   "execution_count": 28,
   "id": "ac24b6b5-2917-4f7d-8a06-2e49db6fa827",
   "metadata": {},
   "outputs": [
    {
     "name": "stdout",
     "output_type": "stream",
     "text": [
      "21\n"
     ]
    }
   ],
   "source": [
    "print(np.sum(c))"
   ]
  },
  {
   "cell_type": "code",
   "execution_count": 42,
   "id": "cfa60773-0d06-4af1-a665-b9f5a71bf294",
   "metadata": {},
   "outputs": [
    {
     "name": "stdout",
     "output_type": "stream",
     "text": [
      "[5 7 9]\n"
     ]
    }
   ],
   "source": [
    "print(np.sum(c, axis = 0)) #0은 행끼리 계산을 의미, 이번 계산은 1행끼리 더하기, 2행끼리 더하기, 3행끼리 더하기를 의미"
   ]
  },
  {
   "cell_type": "code",
   "execution_count": 40,
   "id": "13d8db64-8761-4411-882e-c58440dce2ae",
   "metadata": {},
   "outputs": [
    {
     "name": "stdout",
     "output_type": "stream",
     "text": [
      "[ 6 15]\n"
     ]
    }
   ],
   "source": [
    "print(np.sum(c, axis = 1)) #1은 열끼리 계산을 의미, 이번 계산은 1열끼리 더하기, 2열끼리 더하기를 의미"
   ]
  },
  {
   "cell_type": "code",
   "execution_count": 38,
   "id": "8fb9f7e8-a2d9-4e44-b4d5-010cfe72cd4a",
   "metadata": {},
   "outputs": [
    {
     "name": "stdout",
     "output_type": "stream",
     "text": [
      "[2.5 3.5 4.5]\n"
     ]
    }
   ],
   "source": [
    "print(np.mean(c, axis = 0)) #0은 행끼리 계산을 의미, 이번 계산은 1행끼리 평균, 2행끼리 평균, 3행끼리 평균을 의미"
   ]
  },
  {
   "cell_type": "code",
   "execution_count": 44,
   "id": "86767583-371f-41e0-8549-72ff53e8f869",
   "metadata": {},
   "outputs": [
    {
     "name": "stdout",
     "output_type": "stream",
     "text": [
      "[2. 5.]\n"
     ]
    }
   ],
   "source": [
    "print(np.mean(c, axis = 1)) #1은 열끼리 계산을 의미, 이번 계산은 1열끼리 평균, 2열끼리 평균을 의미"
   ]
  },
  {
   "cell_type": "code",
   "execution_count": 48,
   "id": "e76a1f6b-ddc3-4919-8cfd-3e1a51c433f7",
   "metadata": {},
   "outputs": [
    {
     "name": "stdout",
     "output_type": "stream",
     "text": [
      "[2.5 3.5 4.5]\n"
     ]
    }
   ],
   "source": [
    "print(np.median(c,axis = 0))"
   ]
  },
  {
   "cell_type": "code",
   "execution_count": 50,
   "id": "b85ca31d-8709-4677-9432-98c12235041d",
   "metadata": {},
   "outputs": [
    {
     "name": "stdout",
     "output_type": "stream",
     "text": [
      "[2. 5.]\n"
     ]
    }
   ],
   "source": [
    "print(np.median(c,axis = 1))"
   ]
  },
  {
   "cell_type": "code",
   "execution_count": 52,
   "id": "fa814e03-66a1-4438-bf5c-7567d99eb77b",
   "metadata": {},
   "outputs": [
    {
     "name": "stdout",
     "output_type": "stream",
     "text": [
      "[4 5 6]\n"
     ]
    }
   ],
   "source": [
    "print(np.max(c,axis = 0))"
   ]
  },
  {
   "cell_type": "code",
   "execution_count": 54,
   "id": "cd67c152-29e7-41aa-a3d0-ae3f963eef94",
   "metadata": {},
   "outputs": [
    {
     "name": "stdout",
     "output_type": "stream",
     "text": [
      "[3 6]\n"
     ]
    }
   ],
   "source": [
    "print(np.max(c,axis = 1))"
   ]
  },
  {
   "cell_type": "code",
   "execution_count": 56,
   "id": "2f73158a-a974-4df5-bcb7-5f2eaf7f85d9",
   "metadata": {},
   "outputs": [
    {
     "name": "stdout",
     "output_type": "stream",
     "text": [
      "[1 2 3]\n"
     ]
    }
   ],
   "source": [
    "print(np.min(c,axis = 0))"
   ]
  },
  {
   "cell_type": "code",
   "execution_count": 58,
   "id": "0c779d8b-1711-47a3-b702-53d67036317b",
   "metadata": {},
   "outputs": [
    {
     "name": "stdout",
     "output_type": "stream",
     "text": [
      "[1 4]\n"
     ]
    }
   ],
   "source": [
    "print(np.min(c,axis = 1))"
   ]
  },
  {
   "cell_type": "code",
   "execution_count": null,
   "id": "69c76047-c0fa-46e8-85db-baf820560104",
   "metadata": {},
   "outputs": [],
   "source": []
  },
  {
   "cell_type": "code",
   "execution_count": 62,
   "id": "f8c67f84-0094-410c-bf1c-7f20a2bb371c",
   "metadata": {},
   "outputs": [
    {
     "name": "stdout",
     "output_type": "stream",
     "text": [
      "1.707825127659933\n"
     ]
    }
   ],
   "source": [
    "print(np.std(c)) #표준편차"
   ]
  },
  {
   "cell_type": "code",
   "execution_count": 64,
   "id": "3c1ec70a-7e3a-4f5c-95fc-06ab1db0ec4a",
   "metadata": {},
   "outputs": [
    {
     "name": "stdout",
     "output_type": "stream",
     "text": [
      "2.9166666666666665\n"
     ]
    }
   ],
   "source": [
    "print(np.var(c)) #분산"
   ]
  },
  {
   "cell_type": "code",
   "execution_count": null,
   "id": "d9611d7a-d7c4-4764-9114-239026b2adfd",
   "metadata": {},
   "outputs": [],
   "source": []
  },
  {
   "cell_type": "markdown",
   "id": "f1e1d323-b6dc-4b13-8191-eecbb5109c96",
   "metadata": {},
   "source": [
    "##### element wise"
   ]
  },
  {
   "cell_type": "code",
   "execution_count": 77,
   "id": "974231ec-87b6-49f6-ad0c-4b6ca4455470",
   "metadata": {},
   "outputs": [
    {
     "name": "stdout",
     "output_type": "stream",
     "text": [
      "[12 22 32 42 52]\n"
     ]
    }
   ],
   "source": [
    "d = [10, 20, 30, 40, 50]\n",
    "# print(d+2) #error\n",
    "d = np.array(d) #리스트로는 안되지만 넘파이로는 각각에 데이터에 동일한 계산을 하는 식 가능\n",
    "print(d+2)"
   ]
  },
  {
   "cell_type": "code",
   "execution_count": 83,
   "id": "69e34e41-00ee-4886-b33e-d5f20db79a84",
   "metadata": {},
   "outputs": [
    {
     "name": "stdout",
     "output_type": "stream",
     "text": [
      "[11 22 33 44 55]\n"
     ]
    }
   ],
   "source": [
    "e = np.array([1, 2, 3, 4, 5])\n",
    "print(d + e)"
   ]
  },
  {
   "cell_type": "code",
   "execution_count": 87,
   "id": "86f6e211-eda1-4473-9ce9-e02aa25847f5",
   "metadata": {},
   "outputs": [
    {
     "name": "stdout",
     "output_type": "stream",
     "text": [
      "[ 100  400  900 1600 2500]\n"
     ]
    }
   ],
   "source": [
    "print(d ** 2) #제곱"
   ]
  },
  {
   "cell_type": "code",
   "execution_count": 89,
   "id": "eb7385f7-9a54-46df-afd5-d50c0b362f1e",
   "metadata": {},
   "outputs": [
    {
     "name": "stdout",
     "output_type": "stream",
     "text": [
      "[ -5.44021111  18.25890501 -29.64094872  29.80452642 -13.11874269]\n"
     ]
    }
   ],
   "source": [
    "print(d * np.sin(d))"
   ]
  },
  {
   "cell_type": "code",
   "execution_count": 93,
   "id": "499a0e10-1fb9-43e4-9acc-095ef39a842b",
   "metadata": {},
   "outputs": [
    {
     "name": "stdout",
     "output_type": "stream",
     "text": [
      "[False False False  True  True]\n"
     ]
    }
   ],
   "source": [
    "print(d > 35) #비교연산자 논리값으로 도출"
   ]
  },
  {
   "cell_type": "code",
   "execution_count": 101,
   "id": "80c3c86d-c1ef-44d7-b0d5-901cbc04c79f",
   "metadata": {},
   "outputs": [
    {
     "name": "stdout",
     "output_type": "stream",
     "text": [
      "[11 22 33 44 55]\n",
      "[ 9 18 27 36 45]\n",
      "[ 10  40  90 160 250]\n",
      "[10. 10. 10. 10. 10.]\n"
     ]
    }
   ],
   "source": [
    "print(np.add(d, e))\n",
    "print(np.subtract(d, e))\n",
    "print(np.multiply(d, e))\n",
    "print(np.divide(d, e))"
   ]
  },
  {
   "cell_type": "code",
   "execution_count": 103,
   "id": "0f8e78fb-2a99-4151-8b9a-b3e470fc88f5",
   "metadata": {},
   "outputs": [],
   "source": [
    "f = np.array([[0, 1], [1, 1]])\n",
    "g = np.array([[2, 0], [3, 4]])"
   ]
  },
  {
   "cell_type": "code",
   "execution_count": 105,
   "id": "ede567b7-fd47-4d43-985a-18885e10295e",
   "metadata": {},
   "outputs": [
    {
     "name": "stdout",
     "output_type": "stream",
     "text": [
      "[[0 0]\n",
      " [3 4]]\n"
     ]
    }
   ],
   "source": [
    "print(f * g)"
   ]
  },
  {
   "cell_type": "code",
   "execution_count": 109,
   "id": "e1944192-5d95-4554-ad2a-e4dd1d1dae76",
   "metadata": {},
   "outputs": [
    {
     "name": "stdout",
     "output_type": "stream",
     "text": [
      "[[3 4]\n",
      " [5 4]]\n"
     ]
    }
   ],
   "source": [
    "print(f @ g) #행렬곱"
   ]
  },
  {
   "cell_type": "code",
   "execution_count": 117,
   "id": "82115505-c385-4986-a286-f70a5738036d",
   "metadata": {},
   "outputs": [
    {
     "name": "stdout",
     "output_type": "stream",
     "text": [
      "[[3 4]\n",
      " [5 4]]\n",
      "[[3 4]\n",
      " [5 4]]\n"
     ]
    }
   ],
   "source": [
    "print(np.dot(f, g)) #행렬곱\n",
    "print(f.dot(g))"
   ]
  },
  {
   "cell_type": "code",
   "execution_count": 119,
   "id": "83d37f39-f486-4f5c-82ee-a258538e5029",
   "metadata": {},
   "outputs": [
    {
     "name": "stdout",
     "output_type": "stream",
     "text": [
      "[0. 0. 0. 0. 0. 0. 0. 0. 0. 0.]\n"
     ]
    }
   ],
   "source": [
    "h = np.zeros(10)\n",
    "print(h)"
   ]
  },
  {
   "cell_type": "code",
   "execution_count": 121,
   "id": "3ac05d7a-2d64-441a-be14-68bad407a748",
   "metadata": {},
   "outputs": [
    {
     "name": "stdout",
     "output_type": "stream",
     "text": [
      "[[0. 0. 0. 0. 0.]\n",
      " [0. 0. 0. 0. 0.]\n",
      " [0. 0. 0. 0. 0.]\n",
      " [0. 0. 0. 0. 0.]\n",
      " [0. 0. 0. 0. 0.]]\n"
     ]
    }
   ],
   "source": [
    "i = np.zeros((5, 5))\n",
    "print(i)"
   ]
  },
  {
   "cell_type": "code",
   "execution_count": 123,
   "id": "35ce2646-960d-4c8a-aa2e-0444c02d1eb4",
   "metadata": {},
   "outputs": [
    {
     "name": "stdout",
     "output_type": "stream",
     "text": [
      "[1. 1. 1. 1. 1. 1. 1. 1. 1. 1.]\n"
     ]
    }
   ],
   "source": [
    "j = np.ones(10)\n",
    "print(j)"
   ]
  },
  {
   "cell_type": "code",
   "execution_count": 125,
   "id": "4b7f9e5c-542c-4376-a6dc-335084477226",
   "metadata": {},
   "outputs": [
    {
     "name": "stdout",
     "output_type": "stream",
     "text": [
      "[[1. 1. 1. 1. 1.]\n",
      " [1. 1. 1. 1. 1.]\n",
      " [1. 1. 1. 1. 1.]\n",
      " [1. 1. 1. 1. 1.]\n",
      " [1. 1. 1. 1. 1.]]\n"
     ]
    }
   ],
   "source": [
    "k = np.ones((5, 5))\n",
    "print(k)"
   ]
  },
  {
   "cell_type": "code",
   "execution_count": null,
   "id": "ce107f0f-8fac-47c7-8baa-323aa36e061c",
   "metadata": {},
   "outputs": [],
   "source": []
  },
  {
   "cell_type": "code",
   "execution_count": null,
   "id": "e5d38886-08be-4ac4-a753-f4f0c8ad2dcf",
   "metadata": {},
   "outputs": [],
   "source": [
    "#np.random.random   0~1 사이의 난수 발생\n",
    "#np.random.randint   균일 분포의 정수 난수 발생\n",
    "#np.random.rand   0~1 사이의 균일 분포 난수 matrix array 생성\n",
    "#np.random.randn   가우시안 표준 정규 분포 난수 matrix array 생성\n",
    "#np.random.nomral   평균, 표준편차 sample 개수"
   ]
  },
  {
   "cell_type": "code",
   "execution_count": 128,
   "id": "b7686f20-d055-436e-8c0a-02427fe44314",
   "metadata": {},
   "outputs": [
    {
     "name": "stdout",
     "output_type": "stream",
     "text": [
      "[0.43704485 0.98159624 0.72588743 0.94346764 0.94722469 0.61046875\n",
      " 0.37884783 0.15851114 0.96081086 0.96514329]\n"
     ]
    }
   ],
   "source": [
    "print(np.random.random(10))"
   ]
  },
  {
   "cell_type": "code",
   "execution_count": 136,
   "id": "76ee12d1-2b42-4029-a258-ab10bd491b66",
   "metadata": {},
   "outputs": [
    {
     "name": "stdout",
     "output_type": "stream",
     "text": [
      "<class 'numpy.ndarray'>\n",
      "[60.07920458 16.89202205 85.28834724 28.46657947 39.72635794 69.94285667\n",
      " 52.19294904 22.84894641 32.72969374 77.47380093]\n"
     ]
    }
   ],
   "source": [
    "l = np.random.random(10) * 100\n",
    "print(type(l))\n",
    "print(l)"
   ]
  },
  {
   "cell_type": "code",
   "execution_count": 146,
   "id": "43b22752-33c0-4557-bbd0-3beec09f9124",
   "metadata": {},
   "outputs": [
    {
     "name": "stdout",
     "output_type": "stream",
     "text": [
      "<class 'list'>\n",
      "[29, 62, 93, 59, 45, 29, 48, 64, 65, 30]\n"
     ]
    }
   ],
   "source": [
    "l = np.random.random(10) * 100\n",
    "l = [int(i) for i in l]\n",
    "print(type(l))\n",
    "print(l)"
   ]
  },
  {
   "cell_type": "code",
   "execution_count": 150,
   "id": "0675eb96-e1a5-4926-921c-a4c2b0f2abc8",
   "metadata": {},
   "outputs": [
    {
     "name": "stdout",
     "output_type": "stream",
     "text": [
      "18\n"
     ]
    }
   ],
   "source": [
    "print(np.random.randint(10, 20))"
   ]
  },
  {
   "cell_type": "code",
   "execution_count": 152,
   "id": "b5df68ea-6708-45cf-90e1-ed3f4f9ade3d",
   "metadata": {},
   "outputs": [
    {
     "name": "stdout",
     "output_type": "stream",
     "text": [
      "[[0.53344187 0.51576221]\n",
      " [0.73589696 0.90306063]\n",
      " [0.6964139  0.53981336]\n",
      " [0.68111909 0.6683952 ]\n",
      " [0.82311713 0.52654704]]\n"
     ]
    }
   ],
   "source": [
    "print(np.random.rand(5, 2))"
   ]
  },
  {
   "cell_type": "code",
   "execution_count": null,
   "id": "bd91364a-94dd-4091-803f-b9397570a5a2",
   "metadata": {},
   "outputs": [],
   "source": []
  },
  {
   "cell_type": "markdown",
   "id": "5ba215d2-1280-4ecf-a802-f678790cd51b",
   "metadata": {},
   "source": [
    "##### 슬라이싱 (리스트 슬라이싱, 넘파이 슬라이싱, 판다스 슬라이싱)"
   ]
  },
  {
   "cell_type": "code",
   "execution_count": 180,
   "id": "779368bd-9a0c-477e-ad48-b0698fa71a69",
   "metadata": {},
   "outputs": [
    {
     "name": "stdout",
     "output_type": "stream",
     "text": [
      "[10, 11, 12, 13, 14]\n",
      "[10, 12, 14]\n",
      "[10, 11, 12, 13, 14, 15, 16, 17, 18, 19]\n",
      "[15, 16, 17, 18, 19]\n",
      "[10, 11, 12, 13, 14, 15, 16, 17, 18]\n",
      "[19, 18, 17, 16, 15, 14, 13, 12, 11, 10]\n"
     ]
    }
   ],
   "source": [
    "# 1차원 데이터\n",
    "m = [i for i in range(10, 20)]\n",
    "print(m[0:5]) # [시작 : 끝-1 : 간격]\n",
    "print(m[0:5:2])\n",
    "print(m[:])\n",
    "print(m[5:])\n",
    "print(m[:-1]) #가장 뒤 데이터 하나 빼기\n",
    "print(m[::-1]) # 데이터 거꾸로 출력하기"
   ]
  },
  {
   "cell_type": "code",
   "execution_count": 190,
   "id": "92553052-dc94-4c40-b040-8d096d970f80",
   "metadata": {},
   "outputs": [
    {
     "name": "stdout",
     "output_type": "stream",
     "text": [
      "[array([10, 11, 12, 13, 14, 15, 16, 17, 18, 19])]\n",
      "[array([10, 11, 12, 13, 14, 15, 16, 17, 18, 19])]\n",
      "[]\n"
     ]
    }
   ],
   "source": [
    "#nparray\n",
    "w = [np.arange(10, 20)]\n",
    "print(w[0:5])\n",
    "print(w[0:5:2])\n",
    "print(w[:-2])"
   ]
  },
  {
   "cell_type": "code",
   "execution_count": 254,
   "id": "cc26c4a2-006c-4fcb-98ff-eb8fbc477a0b",
   "metadata": {},
   "outputs": [
    {
     "name": "stdout",
     "output_type": "stream",
     "text": [
      "13\n",
      "[[1, 2, 3, 4, 5], [6, 7, 8, 9, 10], [11, 12, 13, 14, 15]]\n",
      "[11, 12, 13, 14, 15]\n",
      "[6, 7]\n",
      "[[1, 2, 3, 4, 5]]\n"
     ]
    }
   ],
   "source": [
    "r = [[1, 2, 3, 4, 5], [6, 7, 8, 9, 10], [11, 12, 13, 14, 15]]\n",
    "print(r[2][2])\n",
    "print(r[:][:])\n",
    "print(r[2][:])\n",
    "print(r[1][:2])\n",
    "print(r[:2][:1]) #2차원의 결과값 [[1, 2, 3, 4, 5]]\n",
    "#print(r[:, :]) #리스트에서는 불가능"
   ]
  },
  {
   "cell_type": "code",
   "execution_count": 252,
   "id": "b6ab725c-8fe7-4d20-a6c6-528a2dd7657c",
   "metadata": {},
   "outputs": [
    {
     "name": "stdout",
     "output_type": "stream",
     "text": [
      "[[ 1  2  3  4  5]\n",
      " [ 6  7  8  9 10]\n",
      " [11 12 13 14 15]]\n",
      "13\n",
      "[[ 1  2  3  4  5]\n",
      " [ 6  7  8  9 10]\n",
      " [11 12 13 14 15]]\n",
      "[11 12 13 14 15]\n",
      "[[1 2 3 4 5]]\n",
      "[[1 2]\n",
      " [6 7]]\n",
      "[[ 1  2  3  4  5]\n",
      " [ 6  7  8  9 10]\n",
      " [11 12 13 14 15]]\n",
      "[[1 2 3 4]\n",
      " [6 7 8 9]]\n",
      "13\n",
      "[[15 14 13 12 11]\n",
      " [10  9  8  7  6]\n",
      " [ 5  4  3  2  1]]\n",
      "[[ 1  2  3  4  5]\n",
      " [11 12 13 14 15]]\n",
      "[[ 2  4  5]\n",
      " [ 7  9 10]\n",
      " [12 14 15]]\n",
      "[ 4 15]\n"
     ]
    }
   ],
   "source": [
    "s = np.arange(1, 16).reshape(3, 5)\n",
    "print(s)\n",
    "print(s[2][2])\n",
    "print(s[:][:])\n",
    "print(s[2][:])\n",
    "print(s[:2][:1]) # 2차원의 결과값 [[1 2 3 4 5]]\n",
    "\n",
    "print(s[:2, :2]) #넘파이에서는 가능\n",
    "print(s[:, :])\n",
    "print(s[:-1, :-1])\n",
    "print(s[2, 2])\n",
    "print(s[::-1, ::-1]) #행도 거꾸로, 열도 거꾸로\n",
    "\n",
    "print(s[[0,2]])\n",
    "print(s[:, [1, 3, 4]])\n",
    "print(s[[0, 2], [3, 4]]) #0행 3열, 2행 4열 데이터"
   ]
  },
  {
   "cell_type": "code",
   "execution_count": 258,
   "id": "3c029666-7fb5-4a34-bc62-4c04ba3cb528",
   "metadata": {},
   "outputs": [
    {
     "name": "stdout",
     "output_type": "stream",
     "text": [
      "[[ 1  2  3  4  5]\n",
      " [ 6  7  8  9 10]\n",
      " [11 12 13 14 15]]\n",
      "[[ 1  6 11]\n",
      " [ 2  7 12]\n",
      " [ 3  8 13]\n",
      " [ 4  9 14]\n",
      " [ 5 10 15]]\n"
     ]
    }
   ],
   "source": [
    "# 전치 행렬\n",
    "print(s) #3행 5열\n",
    "print(s.T) #5행 3열"
   ]
  },
  {
   "cell_type": "code",
   "execution_count": null,
   "id": "c2f0bd72-bd85-4dc6-b81b-af5e2e8a9657",
   "metadata": {},
   "outputs": [],
   "source": []
  },
  {
   "cell_type": "markdown",
   "id": "c7f174c5-0ae4-42d8-a7a2-807c4cba7f24",
   "metadata": {},
   "source": [
    "#### 결합 / 분리"
   ]
  },
  {
   "cell_type": "code",
   "execution_count": 261,
   "id": "2b79e01f-577c-4afb-ae1a-ea52ff3743f4",
   "metadata": {},
   "outputs": [
    {
     "name": "stdout",
     "output_type": "stream",
     "text": [
      "(1, 4)\n",
      "(2, 5)\n",
      "(3, 6)\n"
     ]
    }
   ],
   "source": [
    "a = [1, 2, 3]\n",
    "b = [4, 5, 6]\n",
    "for ab in zip(a, b):\n",
    "    print(ab)"
   ]
  },
  {
   "cell_type": "code",
   "execution_count": 263,
   "id": "2f4332ab-0572-46a4-904c-754c7eec4943",
   "metadata": {},
   "outputs": [
    {
     "name": "stdout",
     "output_type": "stream",
     "text": [
      "[(1, 4), (2, 5), (3, 6)]\n"
     ]
    }
   ],
   "source": [
    "print(list(zip(a, b)))"
   ]
  },
  {
   "cell_type": "code",
   "execution_count": 283,
   "id": "4e9dde22-4bba-4bdc-ba2f-8120ff5c8807",
   "metadata": {},
   "outputs": [
    {
     "name": "stdout",
     "output_type": "stream",
     "text": [
      "[1, 2, 3, 4, 5, 6]\n",
      "[1, 2, 3, 1, 2, 3]\n"
     ]
    },
    {
     "ename": "TypeError",
     "evalue": "can only concatenate list (not \"int\") to list",
     "output_type": "error",
     "traceback": [
      "\u001b[1;31m---------------------------------------------------------------------------\u001b[0m",
      "\u001b[1;31mTypeError\u001b[0m                                 Traceback (most recent call last)",
      "Cell \u001b[1;32mIn[283], line 3\u001b[0m\n\u001b[0;32m      1\u001b[0m \u001b[38;5;28mprint\u001b[39m(a \u001b[38;5;241m+\u001b[39m b)\n\u001b[0;32m      2\u001b[0m \u001b[38;5;28mprint\u001b[39m(a \u001b[38;5;241m*\u001b[39m \u001b[38;5;241m2\u001b[39m)\n\u001b[1;32m----> 3\u001b[0m \u001b[38;5;28mprint\u001b[39m(a \u001b[38;5;241m+\u001b[39m \u001b[38;5;241m2\u001b[39m)\n",
      "\u001b[1;31mTypeError\u001b[0m: can only concatenate list (not \"int\") to list"
     ]
    }
   ],
   "source": [
    "print(a + b)\n",
    "print(a * 2)\n",
    "print(a + 2)"
   ]
  },
  {
   "cell_type": "code",
   "execution_count": 265,
   "id": "9befc0e3-7cd8-4dd0-8680-1e0453f55178",
   "metadata": {},
   "outputs": [
    {
     "name": "stdout",
     "output_type": "stream",
     "text": [
      "[[0.48032775 0.74115005]\n",
      " [0.55030428 0.13643309]]\n"
     ]
    }
   ],
   "source": [
    "c = np.random.rand(2, 2)\n",
    "print(c)"
   ]
  },
  {
   "cell_type": "code",
   "execution_count": 269,
   "id": "2f007c7f-761b-4ee6-af9f-9ad07d35653e",
   "metadata": {},
   "outputs": [
    {
     "name": "stdout",
     "output_type": "stream",
     "text": [
      "[[43. 76.]\n",
      " [43. 61.]]\n"
     ]
    }
   ],
   "source": [
    "c = np.floor(np.random.rand(2, 2) * 100)\n",
    "print(c)"
   ]
  },
  {
   "cell_type": "code",
   "execution_count": 285,
   "id": "864d8087-b7ef-47e4-b3b2-e472303c9420",
   "metadata": {},
   "outputs": [
    {
     "name": "stdout",
     "output_type": "stream",
     "text": [
      "[[11. 83.]\n",
      " [29. 74.]]\n",
      "[[43. 76. 11. 83.]\n",
      " [43. 61. 29. 74.]]\n",
      "[[43. 76.]\n",
      " [43. 61.]\n",
      " [11. 83.]\n",
      " [29. 74.]]\n"
     ]
    }
   ],
   "source": [
    "d = np.floor(np.random.rand(2, 2) * 100)\n",
    "print(d)\n",
    "print(np.hstack((c, d)))\n",
    "print(np.vstack((c, d)))"
   ]
  },
  {
   "cell_type": "code",
   "execution_count": 287,
   "id": "18e4db3b-03b7-4fa2-886a-5028f628c0f2",
   "metadata": {},
   "outputs": [
    {
     "name": "stdout",
     "output_type": "stream",
     "text": [
      "[[ 54. 159.]\n",
      " [ 72. 135.]]\n",
      "[[ 86. 152.]\n",
      " [ 86. 122.]]\n",
      "[[45. 78.]\n",
      " [45. 63.]]\n"
     ]
    }
   ],
   "source": [
    "print(c + d)\n",
    "print(c * 2)\n",
    "print(c + 2)"
   ]
  },
  {
   "cell_type": "code",
   "execution_count": null,
   "id": "602aa505-5788-4549-8aa1-e512c0100a5c",
   "metadata": {},
   "outputs": [],
   "source": []
  },
  {
   "cell_type": "markdown",
   "id": "c36dffff-7964-44a6-9b15-481c7b5c7756",
   "metadata": {},
   "source": [
    "#### 분리"
   ]
  },
  {
   "cell_type": "code",
   "execution_count": 293,
   "id": "d94d1e5d-6450-4e8b-bc1a-a4d579dce384",
   "metadata": {},
   "outputs": [
    {
     "name": "stdout",
     "output_type": "stream",
     "text": [
      "[[41. 63. 48. 89. 84. 56. 84. 49. 37. 49.  0. 25. 28. 35. 64.]\n",
      " [79.  7. 24. 52. 98. 58. 35. 30. 91. 37. 72. 84. 63. 63. 61.]]\n"
     ]
    }
   ],
   "source": [
    "e = np.floor(np.random.rand(2, 15) *100)\n",
    "print(e)"
   ]
  },
  {
   "cell_type": "code",
   "execution_count": 295,
   "id": "a9f47842-7e63-4697-b54e-7293c97a75e3",
   "metadata": {},
   "outputs": [
    {
     "name": "stdout",
     "output_type": "stream",
     "text": [
      "[array([[41., 63., 48., 89., 84.],\n",
      "       [79.,  7., 24., 52., 98.]]), array([[56., 84., 49., 37., 49.],\n",
      "       [58., 35., 30., 91., 37.]]), array([[ 0., 25., 28., 35., 64.],\n",
      "       [72., 84., 63., 63., 61.]])]\n"
     ]
    }
   ],
   "source": [
    "print(np.hsplit(e, 3)) #균등하게 3개로 자르는 형태"
   ]
  },
  {
   "cell_type": "code",
   "execution_count": 297,
   "id": "831253de-7fb3-4a64-9203-d53d36302f8d",
   "metadata": {},
   "outputs": [
    {
     "name": "stdout",
     "output_type": "stream",
     "text": [
      "[[41. 63. 48. 89. 84.]\n",
      " [79.  7. 24. 52. 98.]]\n",
      "[[56. 84. 49. 37. 49.]\n",
      " [58. 35. 30. 91. 37.]]\n",
      "[[ 0. 25. 28. 35. 64.]\n",
      " [72. 84. 63. 63. 61.]]\n"
     ]
    }
   ],
   "source": [
    "for arr in np.hsplit(e, 3):\n",
    "    print(arr)"
   ]
  },
  {
   "cell_type": "code",
   "execution_count": 301,
   "id": "417d4382-c3ad-4958-9311-2bd5aac15fa2",
   "metadata": {},
   "outputs": [
    {
     "name": "stdout",
     "output_type": "stream",
     "text": [
      "[[41. 63. 48.]\n",
      " [79.  7. 24.]]\n",
      "[[89. 84. 56. 84.]\n",
      " [52. 98. 58. 35.]]\n",
      "[[49. 37. 49.  0. 25.]\n",
      " [30. 91. 37. 72. 84.]]\n",
      "[[28. 35. 64.]\n",
      " [63. 63. 61.]]\n"
     ]
    }
   ],
   "source": [
    "for arr in np.hsplit(e, (3, 7,12)): #[0:3] [3:7] [7:12] [12:]\n",
    "    print(arr)"
   ]
  },
  {
   "cell_type": "code",
   "execution_count": null,
   "id": "95fc11f6-ab41-4523-b749-07b8abe640f5",
   "metadata": {},
   "outputs": [],
   "source": []
  },
  {
   "cell_type": "code",
   "execution_count": 313,
   "id": "c774dd69-3a1f-4567-85d0-9dbec2d31b08",
   "metadata": {},
   "outputs": [
    {
     "name": "stdout",
     "output_type": "stream",
     "text": [
      "[1, 2, 'C', 'D', 5]\n"
     ]
    }
   ],
   "source": [
    "f = np.array([1, 2, 3, 4, 5])\n",
    "g = np.array(['A', 'B', 'C', 'D', 'E'])\n",
    "h = np.array([True, True, False, False, True])\n",
    "\n",
    "# 삼항연산      조건 ? 참 : 거짓\n",
    "#              참 if 조건 else 거짓\n",
    "print([x if z else y for x, y, z in zip(f, g, h)])\n"
   ]
  },
  {
   "cell_type": "code",
   "execution_count": 319,
   "id": "b85adc42-424d-4ef6-8044-8cbeece52bc0",
   "metadata": {},
   "outputs": [
    {
     "name": "stdout",
     "output_type": "stream",
     "text": [
      "['1' '2' 'C' 'D' '5']\n",
      "['작다' '작다' '크다' '크다' '크다']\n",
      "['참' '참' '거짓' '거짓' '참']\n"
     ]
    }
   ],
   "source": [
    "print(np.where(h, f, g))\n",
    "print(np.where(f < 3, '작다', '크다'))\n",
    "print(np.where(h, '참', '거짓'))"
   ]
  },
  {
   "cell_type": "code",
   "execution_count": null,
   "id": "12b11a98-8f36-4db4-9621-e2b3bc1fe8eb",
   "metadata": {},
   "outputs": [],
   "source": []
  },
  {
   "cell_type": "markdown",
   "id": "44258619-9d5f-4a72-b16b-1cf8bb4abb9a",
   "metadata": {},
   "source": [
    "#### 파일 만들기"
   ]
  },
  {
   "cell_type": "code",
   "execution_count": 326,
   "id": "9e085551-602e-45af-8645-8d6c4286aca0",
   "metadata": {},
   "outputs": [],
   "source": [
    "i = np.arange(10)\n",
    "np.save('i.npy', i)"
   ]
  },
  {
   "cell_type": "code",
   "execution_count": 328,
   "id": "f8527a89-8d39-49cc-8e7e-c378dda5fa61",
   "metadata": {},
   "outputs": [
    {
     "name": "stdout",
     "output_type": "stream",
     "text": [
      "[0 1 2 3 4 5 6 7 8 9]\n"
     ]
    }
   ],
   "source": [
    "ii = np.load('i.npy')\n",
    "print(ii)"
   ]
  },
  {
   "cell_type": "code",
   "execution_count": 337,
   "id": "a65c582d-d027-4dc5-acee-0eba12fca706",
   "metadata": {},
   "outputs": [
    {
     "name": "stdout",
     "output_type": "stream",
     "text": [
      "<class 'numpy.lib.npyio.NpzFile'>\n",
      "[0 1 2 3 4 5 6 7 8 9]\n",
      "[ 0  1  2  3  4  5  6  7  8  9 10 11 12 13 14 15 16 17 18 19]\n"
     ]
    }
   ],
   "source": [
    "j = np.arange(10)\n",
    "k = np.arange(20)\n",
    "np.savez('jk.npz', x = j, y = k)\n",
    "jk = np.load('jk.npz')\n",
    "print(type(jk))\n",
    "print(jk['x'])\n",
    "print(jk['y'])"
   ]
  }
 ],
 "metadata": {
  "kernelspec": {
   "display_name": "Python 3 (ipykernel)",
   "language": "python",
   "name": "python3"
  },
  "language_info": {
   "codemirror_mode": {
    "name": "ipython",
    "version": 3
   },
   "file_extension": ".py",
   "mimetype": "text/x-python",
   "name": "python",
   "nbconvert_exporter": "python",
   "pygments_lexer": "ipython3",
   "version": "3.12.4"
  }
 },
 "nbformat": 4,
 "nbformat_minor": 5
}
