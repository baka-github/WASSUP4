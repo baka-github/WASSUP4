{
 "cells": [
  {
   "cell_type": "code",
   "execution_count": 13,
   "id": "8498a4a1-dcbf-4518-bef7-1b2e3fab0866",
   "metadata": {},
   "outputs": [],
   "source": [
    "# 291\n",
    "f = open('C:/workspace/WASSUP4/99_Homework/매주종목1.txt', 'w')\n",
    "f.write('005930\\n')\n",
    "f.write(\"005380\\n\")\n",
    "f.write(\"035420\")\n",
    "f.close()"
   ]
  },
  {
   "cell_type": "code",
   "execution_count": 15,
   "id": "e06a7326-5922-4d70-8631-5cd8bda6d488",
   "metadata": {},
   "outputs": [],
   "source": [
    "# 292\n",
    "f = open('C:/workspace/WASSUP4/99_Homework/매주종목2.txt', 'w')\n",
    "f.write('005930 삼성전자\\n')\n",
    "f.write(\"005380 현재차\\n\")\n",
    "f.write(\"035420 naver\")\n",
    "f.close()"
   ]
  },
  {
   "cell_type": "code",
   "execution_count": 25,
   "id": "b6db1aed-47b2-43c9-a0c5-a293d7d66169",
   "metadata": {},
   "outputs": [
    {
     "name": "stdout",
     "output_type": "stream",
     "text": [
      "['005930 삼성전자', '005380 현재차', '035420 naver', '']\n"
     ]
    },
    {
     "data": {
      "text/plain": [
       "<function TextIOWrapper.close()>"
      ]
     },
     "execution_count": 25,
     "metadata": {},
     "output_type": "execute_result"
    }
   ],
   "source": [
    "# 294\n",
    "\n",
    "f = open('C:/workspace/WASSUP4/99_Homework/매주종목2.txt', 'r')\n",
    "a = []\n",
    "while True:\n",
    "    l = f.readline().strip() # \\n제거\n",
    "    a.append(l)\n",
    "    if not l:\n",
    "        break\n",
    "print(a)\n",
    "f.close"
   ]
  },
  {
   "cell_type": "code",
   "execution_count": 29,
   "id": "b26dae38-9794-4311-bb94-d3174953473e",
   "metadata": {},
   "outputs": [
    {
     "name": "stdout",
     "output_type": "stream",
     "text": [
      "{'005930': '삼성전자', '005380': '현재차', '035420': 'naver'}\n"
     ]
    },
    {
     "data": {
      "text/plain": [
       "<function TextIOWrapper.close()>"
      ]
     },
     "execution_count": 29,
     "metadata": {},
     "output_type": "execute_result"
    }
   ],
   "source": [
    "# 295\n",
    "f = open('C:/workspace/WASSUP4/99_Homework/매주종목2.txt', 'r')\n",
    "d = {}\n",
    "r = f.readlines()\n",
    "\n",
    "for i in r:\n",
    "    reading = i.strip()\n",
    "    k, v = i.split()\n",
    "    d[k] = v\n",
    "    \n",
    "       \n",
    "print(d)\n",
    "f.close"
   ]
  },
  {
   "cell_type": "code",
   "execution_count": 31,
   "id": "f6da76ea-46cc-4f15-a6dc-4417c4487c0f",
   "metadata": {},
   "outputs": [
    {
     "name": "stdout",
     "output_type": "stream",
     "text": [
      "10.31\n",
      "0\n",
      "8.0\n"
     ]
    }
   ],
   "source": [
    "# 296\n",
    "per = [\"10.31\", \"\", \"8.00\"]\n",
    "\n",
    "for i in per:\n",
    "    try:\n",
    "        print(float(i))\n",
    "    except:\n",
    "        print(0)"
   ]
  },
  {
   "cell_type": "code",
   "execution_count": 37,
   "id": "51ea53a7-8a35-4d44-a1bd-a48c5dcd16a4",
   "metadata": {},
   "outputs": [
    {
     "name": "stdout",
     "output_type": "stream",
     "text": [
      "0으로 나눌 수 없음\n"
     ]
    },
    {
     "data": {
      "text/plain": [
       "1.6666666666666667"
      ]
     },
     "execution_count": 37,
     "metadata": {},
     "output_type": "execute_result"
    }
   ],
   "source": [
    "# 298\n",
    "def div(a,b):\n",
    "    try:\n",
    "        return a/b\n",
    "    except ZeroDivisionError:\n",
    "        print('0으로 나눌 수 없음')\n",
    "\n",
    "div(4,0)\n",
    "div(5,3)"
   ]
  },
  {
   "cell_type": "code",
   "execution_count": 43,
   "id": "dade146a-5e58-4737-a10a-254921713cc7",
   "metadata": {},
   "outputs": [
    {
     "name": "stdout",
     "output_type": "stream",
     "text": [
      "1\n",
      "2\n",
      "3\n",
      "list index out of range\n",
      "list index out of range\n"
     ]
    }
   ],
   "source": [
    "# 299\n",
    "\n",
    "data = [1, 2, 3]\n",
    "\n",
    "for i in range(5):\n",
    "    try:\n",
    "        print(data[i])\n",
    "    except IndexError as ie:\n",
    "        print(ie)"
   ]
  },
  {
   "cell_type": "code",
   "execution_count": 51,
   "id": "090911e1-860b-45b1-adf2-75f01f53cff9",
   "metadata": {},
   "outputs": [
    {
     "name": "stdout",
     "output_type": "stream",
     "text": [
      "0\n",
      "실수전환\n",
      "0\n",
      "실수전환\n",
      "0\n",
      "실수전환\n"
     ]
    }
   ],
   "source": [
    "# 300\n",
    "\n",
    "per = [\"10.31\", \"\", \"8.00\"]\n",
    "\n",
    "for i in per:\n",
    "    try:\n",
    "        print(float(per))\n",
    "    except:\n",
    "        print(0)\n",
    "    else:\n",
    "        print('실수로 전환 성공')\n",
    "    finally:\n",
    "        print('실수전환')"
   ]
  }
 ],
 "metadata": {
  "kernelspec": {
   "display_name": "Python 3 (ipykernel)",
   "language": "python",
   "name": "python3"
  },
  "language_info": {
   "codemirror_mode": {
    "name": "ipython",
    "version": 3
   },
   "file_extension": ".py",
   "mimetype": "text/x-python",
   "name": "python",
   "nbconvert_exporter": "python",
   "pygments_lexer": "ipython3",
   "version": "3.12.4"
  }
 },
 "nbformat": 4,
 "nbformat_minor": 5
}
