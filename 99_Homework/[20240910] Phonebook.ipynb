{
 "cells": [
  {
   "cell_type": "markdown",
   "id": "fd565858-9468-45a7-9bf7-7bfd81699fc4",
   "metadata": {},
   "source": [
    "## 시작 전 프로그램 작성하기 퀴즈 - 내가 작성한 코드"
   ]
  },
  {
   "cell_type": "markdown",
   "id": "2747f636-657e-4b3c-bd66-720c96a9ab41",
   "metadata": {},
   "source": [
    "#### 전화번호 프로그램 만들기\n",
    "\n",
    "﻿﻿홍길동 010-123-4567  \n",
    "﻿﻿기능1 : 연락처 추가  \n",
    "﻿﻿기능2: 연락처 전체 보기  \n",
    "﻿﻿기능3 : 검색, 이름을 입력받아서 전화번호 조회  \n",
    "﻿﻿기능4 : 수정, 이름을 입력받아서 전화번호 입력수정  \n",
    "﻿﻿기능5: 삭제, 이름 입력받아서 삭제  \n",
    "﻿﻿기능6 : 프로그램 종료  "
   ]
  },
  {
   "cell_type": "code",
   "execution_count": null,
   "id": "99b8e2ce-3a1a-45c8-a9b4-dace1c8100cf",
   "metadata": {},
   "outputs": [
    {
     "name": "stdout",
     "output_type": "stream",
     "text": [
      "\n",
      "--- 전화번호 프로그램 ---\n",
      "1. 연락처 추가\n",
      "2. 연락처 전체 보기\n",
      "3. 연락처 검색\n",
      "4. 연락처 수정\n",
      "5. 연락처 삭제\n",
      "6. 프로그램 종료\n"
     ]
    }
   ],
   "source": [
    "# contacts = {} # 연락처를 저장할 딕셔너리\n",
    "\n",
    "while True:\n",
    "    print(\"\\n--- 전화번호 프로그램 ---\")\n",
    "    print(\"1. 연락처 추가\")\n",
    "    print(\"2. 연락처 전체 보기\")\n",
    "    print(\"3. 연락처 검색\")\n",
    "    print(\"4. 연락처 수정\")\n",
    "    print(\"5. 연락처 삭제\")\n",
    "    print(\"6. 프로그램 종료\")\n",
    "    choice = int(input(\"메뉴 선택 : \"))\n",
    "\n",
    "    if choice == 1 :\n",
    "        \"\"\"연락처 추가 기능\"\"\"\n",
    "        print('연락처를 추가합니다.')\n",
    "        name = input(\"이름: \")\n",
    "        phone_number = input(\"전화번호: \")\n",
    "        contacts[name] = phone_number\n",
    "        print(f\"{name} 님의 연락처가 추가되었습니다.\")\n",
    "\n",
    "    elif choice == 2 :\n",
    "        \"\"\"전체 연락처 보기 기능\"\"\"\n",
    "        if not contacts:\n",
    "            print(\"저장된 연락처가 없습니다.\")\n",
    "        else:\n",
    "            for name, phone_number in contacts.items():\n",
    "                print(f\"{name}: {phone_number}\")\n",
    "\n",
    "    elif choice == 3 :\n",
    "        \"\"\"연락처 검색 기능\"\"\"\n",
    "        name = input(\"검색할 이름: \")\n",
    "        if name in contacts:\n",
    "            print(f\"{name}: {contacts[name]}\")\n",
    "        else:\n",
    "            print(f\"{name} 님의 연락처를 찾을 수 없습니다.\")\n",
    "\n",
    "    elif choice == 4 :\n",
    "        \"\"\"연락처 수정 기능\"\"\"\n",
    "        name = input(\"수정할 이름: \")\n",
    "        if name in contacts:\n",
    "            new_phone_number = input(\"새로운 전화번호: \")\n",
    "            contacts[name] = new_phone_number\n",
    "            print(f\"{name} 님의 연락처가 수정되었습니다.\")\n",
    "        else:\n",
    "            print(f\"{name} 님의 연락처를 찾을 수 없습니다.\")  \n",
    "\n",
    "    elif choice == 5 :\n",
    "        \"\"\"연락처 삭제 기능\"\"\"\n",
    "        name = input(\"삭제할 이름: \")\n",
    "        if name in contacts:\n",
    "            del contacts[name]\n",
    "            print(f\"{name} 님의 연락처가 삭제되었습니다.\")\n",
    "        else:\n",
    "            print(f\"{name} 님의 연락처를 찾을 수 없습니다.\")\n",
    "        \n",
    "    elif choice == 6 :\n",
    "        print(\"프로그램을 종료합니다.\")\n",
    "        break\n",
    "    else:\n",
    "        print(\"잘못된 입력입니다. 다시 입력해주세요.\")"
   ]
  },
  {
   "cell_type": "code",
   "execution_count": null,
   "id": "a46e4c7a-3cdb-4be5-880a-cd4647090303",
   "metadata": {},
   "outputs": [],
   "source": []
  },
  {
   "cell_type": "code",
   "execution_count": null,
   "id": "f1bf778b-15b9-4bbb-bbb1-a22c67214f96",
   "metadata": {},
   "outputs": [],
   "source": []
  },
  {
   "cell_type": "code",
   "execution_count": null,
   "id": "ce09d886-fc06-462a-a819-881d5e15e334",
   "metadata": {},
   "outputs": [],
   "source": []
  }
 ],
 "metadata": {
  "kernelspec": {
   "display_name": "Python 3 (ipykernel)",
   "language": "python",
   "name": "python3"
  },
  "language_info": {
   "codemirror_mode": {
    "name": "ipython",
    "version": 3
   },
   "file_extension": ".py",
   "mimetype": "text/x-python",
   "name": "python",
   "nbconvert_exporter": "python",
   "pygments_lexer": "ipython3",
   "version": "3.12.4"
  }
 },
 "nbformat": 4,
 "nbformat_minor": 5
}
