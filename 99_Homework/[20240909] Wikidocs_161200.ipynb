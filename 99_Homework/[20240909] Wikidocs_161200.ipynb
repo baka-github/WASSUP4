{
 "cells": [
  {
   "cell_type": "code",
   "execution_count": 4,
   "id": "c549b9e4-227d-4005-b358-0ac1e05cdc5d",
   "metadata": {},
   "outputs": [
    {
     "name": "stdout",
     "output_type": "stream",
     "text": [
      "0\n",
      "1\n",
      "2\n",
      "3\n",
      "4\n",
      "5\n",
      "6\n",
      "7\n",
      "8\n",
      "9\n",
      "10\n",
      "11\n",
      "12\n",
      "13\n",
      "14\n",
      "15\n",
      "16\n",
      "17\n",
      "18\n",
      "19\n",
      "20\n",
      "21\n",
      "22\n",
      "23\n",
      "24\n",
      "25\n",
      "26\n",
      "27\n",
      "28\n",
      "29\n",
      "30\n",
      "31\n",
      "32\n",
      "33\n",
      "34\n",
      "35\n",
      "36\n",
      "37\n",
      "38\n",
      "39\n",
      "40\n",
      "41\n",
      "42\n",
      "43\n",
      "44\n",
      "45\n",
      "46\n",
      "47\n",
      "48\n",
      "49\n",
      "50\n",
      "51\n",
      "52\n",
      "53\n",
      "54\n",
      "55\n",
      "56\n",
      "57\n",
      "58\n",
      "59\n",
      "60\n",
      "61\n",
      "62\n",
      "63\n",
      "64\n",
      "65\n",
      "66\n",
      "67\n",
      "68\n",
      "69\n",
      "70\n",
      "71\n",
      "72\n",
      "73\n",
      "74\n",
      "75\n",
      "76\n",
      "77\n",
      "78\n",
      "79\n",
      "80\n",
      "81\n",
      "82\n",
      "83\n",
      "84\n",
      "85\n",
      "86\n",
      "87\n",
      "88\n",
      "89\n",
      "90\n",
      "91\n",
      "92\n",
      "93\n",
      "94\n",
      "95\n",
      "96\n",
      "97\n",
      "98\n",
      "99\n"
     ]
    }
   ],
   "source": [
    "# 161\n",
    "for i in range(0,100):\n",
    "    print(i)"
   ]
  },
  {
   "cell_type": "code",
   "execution_count": 16,
   "id": "e6e6ddb9-2e19-4fbd-8014-fdbee63505ee",
   "metadata": {},
   "outputs": [
    {
     "name": "stdout",
     "output_type": "stream",
     "text": [
      "2002\n",
      "2006\n",
      "2010\n",
      "2014\n",
      "2018\n",
      "2022\n",
      "2026\n",
      "2030\n",
      "2034\n",
      "2038\n",
      "2042\n",
      "2046\n",
      "2050\n"
     ]
    }
   ],
   "source": [
    "# 162\n",
    "for i in range(2002, 2051,4):\n",
    "    print(i)"
   ]
  },
  {
   "cell_type": "code",
   "execution_count": 38,
   "id": "ada74116-9868-4ef4-a80c-2cdad682b17e",
   "metadata": {},
   "outputs": [
    {
     "name": "stdout",
     "output_type": "stream",
     "text": [
      "3\n",
      "6\n",
      "9\n",
      "12\n",
      "15\n",
      "18\n",
      "21\n",
      "24\n",
      "27\n",
      "30\n"
     ]
    }
   ],
   "source": [
    "# 163\n",
    "for i in range(1, 31):\n",
    "    if i % 3 ==0:\n",
    "        print(i)"
   ]
  },
  {
   "cell_type": "code",
   "execution_count": 46,
   "id": "a5daad7e-0c19-419c-a6bd-de82cac870fd",
   "metadata": {},
   "outputs": [
    {
     "name": "stdout",
     "output_type": "stream",
     "text": [
      "99\n",
      "98\n",
      "97\n",
      "96\n",
      "95\n",
      "94\n",
      "93\n",
      "92\n",
      "91\n",
      "90\n",
      "89\n",
      "88\n",
      "87\n",
      "86\n",
      "85\n",
      "84\n",
      "83\n",
      "82\n",
      "81\n",
      "80\n",
      "79\n",
      "78\n",
      "77\n",
      "76\n",
      "75\n",
      "74\n",
      "73\n",
      "72\n",
      "71\n",
      "70\n",
      "69\n",
      "68\n",
      "67\n",
      "66\n",
      "65\n",
      "64\n",
      "63\n",
      "62\n",
      "61\n",
      "60\n",
      "59\n",
      "58\n",
      "57\n",
      "56\n",
      "55\n",
      "54\n",
      "53\n",
      "52\n",
      "51\n",
      "50\n",
      "49\n",
      "48\n",
      "47\n",
      "46\n",
      "45\n",
      "44\n",
      "43\n",
      "42\n",
      "41\n",
      "40\n",
      "39\n",
      "38\n",
      "37\n",
      "36\n",
      "35\n",
      "34\n",
      "33\n",
      "32\n",
      "31\n",
      "30\n",
      "29\n",
      "28\n",
      "27\n",
      "26\n",
      "25\n",
      "24\n",
      "23\n",
      "22\n",
      "21\n",
      "20\n",
      "19\n",
      "18\n",
      "17\n",
      "16\n",
      "15\n",
      "14\n",
      "13\n",
      "12\n",
      "11\n",
      "10\n",
      "9\n",
      "8\n",
      "7\n",
      "6\n",
      "5\n",
      "4\n",
      "3\n",
      "2\n",
      "1\n",
      "0\n"
     ]
    }
   ],
   "source": [
    "# 164\n",
    "for i in range(0, 100):\n",
    "    print(99-i)"
   ]
  },
  {
   "cell_type": "code",
   "execution_count": 56,
   "id": "014e4eb3-2a39-4c9d-9434-8387bf1853e7",
   "metadata": {},
   "outputs": [
    {
     "name": "stdout",
     "output_type": "stream",
     "text": [
      "0.0\n",
      "0.1\n",
      "0.2\n",
      "0.3\n",
      "0.4\n",
      "0.5\n",
      "0.6\n",
      "0.7\n",
      "0.8\n",
      "0.9\n"
     ]
    }
   ],
   "source": [
    "# 165\n",
    "for i in range(0,10):\n",
    "    print(i/10)"
   ]
  },
  {
   "cell_type": "code",
   "execution_count": 60,
   "id": "f928ea9a-9e89-4b7d-9960-ce85b3061d16",
   "metadata": {},
   "outputs": [
    {
     "name": "stdout",
     "output_type": "stream",
     "text": [
      "3 x 1 = 3\n",
      "3 x 2 = 6\n",
      "3 x 3 = 9\n",
      "3 x 4 = 12\n",
      "3 x 5 = 15\n",
      "3 x 6 = 18\n",
      "3 x 7 = 21\n",
      "3 x 8 = 24\n",
      "3 x 9 = 27\n"
     ]
    }
   ],
   "source": [
    "# 166\n",
    "for i in range(1,10):\n",
    "    print(f'3 x {i} =', 3*i)"
   ]
  },
  {
   "cell_type": "code",
   "execution_count": 64,
   "id": "b190ff8b-cfd9-4c45-bc36-acb3979a4174",
   "metadata": {},
   "outputs": [
    {
     "name": "stdout",
     "output_type": "stream",
     "text": [
      "3 x 1 = 3\n",
      "3 x 3 = 9\n",
      "3 x 5 = 15\n",
      "3 x 7 = 21\n",
      "3 x 9 = 27\n"
     ]
    }
   ],
   "source": [
    "# 167\n",
    "for i in range(1,10,2):\n",
    "    print(f'3 x {i} =', 3*i)"
   ]
  },
  {
   "cell_type": "code",
   "execution_count": 70,
   "id": "beef68bf-c7d4-4490-b48a-1833edc79d8c",
   "metadata": {},
   "outputs": [
    {
     "name": "stdout",
     "output_type": "stream",
     "text": [
      "합:  55\n"
     ]
    }
   ],
   "source": [
    "# 168\n",
    "a = 0\n",
    "for i in range(1,11):\n",
    "   a += i\n",
    "print('합: ', a)"
   ]
  },
  {
   "cell_type": "code",
   "execution_count": 74,
   "id": "f7b4b6ff-4701-417d-afcf-6e7a52503f19",
   "metadata": {},
   "outputs": [
    {
     "name": "stdout",
     "output_type": "stream",
     "text": [
      "32100\n",
      "32150\n",
      "32000\n",
      "32500\n"
     ]
    }
   ],
   "source": [
    "# 171\n",
    "price_list = [32100, 32150, 32000, 32500]\n",
    "\n",
    "for i in price_list:\n",
    "    print(i)"
   ]
  },
  {
   "cell_type": "code",
   "execution_count": 86,
   "id": "eec54f55-2072-4ed1-87a0-633fad68bdba",
   "metadata": {},
   "outputs": [
    {
     "name": "stdout",
     "output_type": "stream",
     "text": [
      "0 32100\n",
      "1 32150\n",
      "2 32000\n",
      "3 32500\n"
     ]
    }
   ],
   "source": [
    "# 172\n",
    "\n",
    "for i, k in enumerate(price_list):\n",
    "    print(i, k)"
   ]
  },
  {
   "cell_type": "code",
   "execution_count": 84,
   "id": "b0396bcc-e0fc-4408-acd4-8ed2f55253d3",
   "metadata": {},
   "outputs": [
    {
     "name": "stdout",
     "output_type": "stream",
     "text": [
      "0 32100\n",
      "1 32150\n",
      "2 32000\n",
      "3 32500\n"
     ]
    }
   ],
   "source": [
    "# 173\n",
    "price_list = [32100, 32150, 32000, 32500]\n",
    "\n",
    "for i in range(len(price_list)):\n",
    "    print(i, price_list[i])"
   ]
  },
  {
   "cell_type": "code",
   "execution_count": 94,
   "id": "dfd3ed62-eb77-4f88-bbda-038451a7484f",
   "metadata": {},
   "outputs": [
    {
     "name": "stdout",
     "output_type": "stream",
     "text": [
      "100 32150\n",
      "110 32000\n",
      "120 32500\n"
     ]
    }
   ],
   "source": [
    "# 174\n",
    "for i in range(1, 4):\n",
    "    print(90+10*i, price_list[i])"
   ]
  },
  {
   "cell_type": "code",
   "execution_count": 98,
   "id": "83c26bc0-711d-4180-936b-bc2c0b099b7d",
   "metadata": {},
   "outputs": [
    {
     "name": "stdout",
     "output_type": "stream",
     "text": [
      "가 나\n",
      "나 다\n",
      "다 라\n"
     ]
    }
   ],
   "source": [
    "# 175\n",
    "\n",
    "my_list = [\"가\", \"나\", \"다\", \"라\"]\n",
    "\n",
    "for i in range(0,3):\n",
    "    print(my_list[i], my_list[i+1])"
   ]
  },
  {
   "cell_type": "code",
   "execution_count": 102,
   "id": "37439a5d-f0bf-45d4-8c07-bde0ed7146be",
   "metadata": {},
   "outputs": [
    {
     "name": "stdout",
     "output_type": "stream",
     "text": [
      "가 나 다\n",
      "나 다 라\n",
      "다 라 마\n"
     ]
    }
   ],
   "source": [
    "# 176\n",
    "my_list = [\"가\", \"나\", \"다\", \"라\", \"마\"]\n",
    "\n",
    "for i in range(1,4):\n",
    "    print(my_list[i-1], my_list[i], my_list[i+1])"
   ]
  },
  {
   "cell_type": "code",
   "execution_count": 106,
   "id": "be280acc-99e5-4b6b-8177-c1f18dccde53",
   "metadata": {},
   "outputs": [
    {
     "name": "stdout",
     "output_type": "stream",
     "text": [
      "라 다\n",
      "다 나\n",
      "나 가\n"
     ]
    }
   ],
   "source": [
    "# 177\n",
    "my_list = [\"가\", \"나\", \"다\", \"라\"]\n",
    "\n",
    "for i in range(0,3):\n",
    "    print(my_list[3-i], my_list[2-i])"
   ]
  },
  {
   "cell_type": "code",
   "execution_count": 116,
   "id": "a0e4307c-69e5-44ce-b36f-ab83e5a98bd8",
   "metadata": {},
   "outputs": [
    {
     "name": "stdout",
     "output_type": "stream",
     "text": [
      "100\n",
      "200\n",
      "400\n"
     ]
    }
   ],
   "source": [
    "# 178\n",
    "my_list = [100, 200, 400, 800]\n",
    "\n",
    "for i in range(0, 3):\n",
    "    print(my_list[i+1] - my_list[i])"
   ]
  },
  {
   "cell_type": "code",
   "execution_count": 114,
   "id": "26a6a155-3431-45c8-aeb3-05f9d8b462da",
   "metadata": {},
   "outputs": [
    {
     "name": "stdout",
     "output_type": "stream",
     "text": [
      "233.33333333333334\n",
      "466.6666666666667\n",
      "733.3333333333334\n",
      "1033.3333333333333\n"
     ]
    }
   ],
   "source": [
    "# 179\n",
    "my_list = [100, 200, 400, 800, 1000, 1300]\n",
    "\n",
    "for i in range(0, 4):\n",
    "    print((my_list[i]+my_list[i+1]+my_list[i+2])/3)"
   ]
  },
  {
   "cell_type": "code",
   "execution_count": 120,
   "id": "367eacff-406a-4aac-b2aa-a0f51b874d64",
   "metadata": {},
   "outputs": [
    {
     "name": "stdout",
     "output_type": "stream",
     "text": [
      "[50, 100, 30, 80, 0]\n"
     ]
    }
   ],
   "source": [
    "# 180\n",
    "low_prices  = [100, 200, 400, 800, 1000]\n",
    "high_prices = [150, 300, 430, 880, 1000]\n",
    "\n",
    "volatility = list()\n",
    "for i in range(len(low_prices)):\n",
    "    volatility.append(high_prices[i] - low_prices[i])\n",
    "    \n",
    "print(volatility)"
   ]
  },
  {
   "cell_type": "code",
   "execution_count": 124,
   "id": "241d0075-f7cc-427c-9a9c-6885b87cfacc",
   "metadata": {},
   "outputs": [
    {
     "name": "stdout",
     "output_type": "stream",
     "text": [
      "[['101호', '102호'], ['201호', '202호'], ['301호', '302호']] <class 'list'>\n"
     ]
    }
   ],
   "source": [
    "# 181\n",
    "apart = [['101호', '102호'],\n",
    "        ['201호', '202호'],\n",
    "        ['301호', '302호']]\n",
    "\n",
    "print(apart, type(apart))"
   ]
  },
  {
   "cell_type": "code",
   "execution_count": 136,
   "id": "15edfab5-8c86-4c70-a509-278bef5ffebf",
   "metadata": {},
   "outputs": [
    {
     "name": "stdout",
     "output_type": "stream",
     "text": [
      "[['시가', 100, 200, 300], ['종가', 80, 210, 330]] <class 'list'>\n"
     ]
    }
   ],
   "source": [
    "# 182\n",
    "stock = [['시가', 100, 200, 300], ['종가', 80, 210, 330]]\n",
    "\n",
    "print(stock, type(stock))"
   ]
  },
  {
   "cell_type": "code",
   "execution_count": 140,
   "id": "00ca9241-5a81-4efa-9a0b-59a3bd00db04",
   "metadata": {},
   "outputs": [
    {
     "name": "stdout",
     "output_type": "stream",
     "text": [
      "{'시가': [100, 200, 300], '종가': [80, 210, 330]} <class 'dict'>\n"
     ]
    }
   ],
   "source": [
    "# 183\n",
    "stock = {'시가' : [100, 200, 300],\n",
    "        '종가' : [80, 210, 330]}\n",
    "print(stock, type(stock))"
   ]
  },
  {
   "cell_type": "code",
   "execution_count": 146,
   "id": "34af13e7-3180-49ac-a091-f7669f743d5e",
   "metadata": {},
   "outputs": [
    {
     "name": "stdout",
     "output_type": "stream",
     "text": [
      "{'10/10': [80, 110, 70, 90], '10/11': [210, 230, 190, 200]} <class 'dict'>\n"
     ]
    }
   ],
   "source": [
    "# 184\n",
    "stock = {\"10/10\": [80, 110, 70, 90], \n",
    "         \"10/11\": [210, 230, 190, 200] }\n",
    "print(stock, type(stock))"
   ]
  },
  {
   "cell_type": "code",
   "execution_count": 148,
   "id": "3a986d8a-b6f4-4015-b34b-876411c3f717",
   "metadata": {},
   "outputs": [
    {
     "name": "stdout",
     "output_type": "stream",
     "text": [
      "101 호\n",
      "102 호\n",
      "201 호\n",
      "202 호\n",
      "301 호\n",
      "302 호\n"
     ]
    }
   ],
   "source": [
    "# 185\n",
    "apart = [ [101, 102], [201, 202], [301, 302] ]\n",
    "\n",
    "\n",
    "for i in range(len(apart)):\n",
    "    for k in range(0,2):\n",
    "        print(apart[i][k], '호')"
   ]
  },
  {
   "cell_type": "code",
   "execution_count": 150,
   "id": "f3b5ca89-6da8-42b6-90c7-6ca441479d58",
   "metadata": {},
   "outputs": [
    {
     "name": "stdout",
     "output_type": "stream",
     "text": [
      "301 호\n",
      "302 호\n",
      "201 호\n",
      "202 호\n",
      "101 호\n",
      "102 호\n"
     ]
    }
   ],
   "source": [
    "# 186\n",
    "\n",
    "for i in range(len(apart)):\n",
    "    for k in range(0,2):\n",
    "        print(apart[2-i][k], '호')"
   ]
  },
  {
   "cell_type": "code",
   "execution_count": 152,
   "id": "a4330f26-388c-425d-98f9-bdec9b3acb53",
   "metadata": {},
   "outputs": [
    {
     "name": "stdout",
     "output_type": "stream",
     "text": [
      "302 호\n",
      "301 호\n",
      "202 호\n",
      "201 호\n",
      "102 호\n",
      "101 호\n"
     ]
    }
   ],
   "source": [
    "# 187\n",
    "\n",
    "for i in range(len(apart)):\n",
    "    for k in range(0,2):\n",
    "        print(apart[2-i][1-k], '호')"
   ]
  },
  {
   "cell_type": "code",
   "execution_count": 154,
   "id": "bcccbb25-87c3-495f-8f59-952c4d9df43a",
   "metadata": {},
   "outputs": [
    {
     "name": "stdout",
     "output_type": "stream",
     "text": [
      "101 호\n",
      "-----\n",
      "102 호\n",
      "-----\n",
      "201 호\n",
      "-----\n",
      "202 호\n",
      "-----\n",
      "301 호\n",
      "-----\n",
      "302 호\n",
      "-----\n"
     ]
    }
   ],
   "source": [
    "# 188\n",
    "\n",
    "for i in range(len(apart)):\n",
    "    for k in range(0,2):\n",
    "        print(apart[i][k], '호')\n",
    "        print('-----')"
   ]
  },
  {
   "cell_type": "code",
   "execution_count": 156,
   "id": "857c015c-8557-4b1a-9761-33636d8a12b0",
   "metadata": {},
   "outputs": [
    {
     "name": "stdout",
     "output_type": "stream",
     "text": [
      "101 호\n",
      "102 호\n",
      "-----\n",
      "201 호\n",
      "202 호\n",
      "-----\n",
      "301 호\n",
      "302 호\n",
      "-----\n"
     ]
    }
   ],
   "source": [
    "# 189\n",
    "\n",
    "for i in range(len(apart)):\n",
    "    for k in range(0,2):\n",
    "        print(apart[i][k], '호')\n",
    "    print('-----')"
   ]
  },
  {
   "cell_type": "code",
   "execution_count": 172,
   "id": "d5d60d29-5d61-475b-9533-79039d6fca69",
   "metadata": {},
   "outputs": [
    {
     "name": "stdout",
     "output_type": "stream",
     "text": [
      "101 호\n",
      "102 호\n",
      "201 호\n",
      "202 호\n",
      "301 호\n",
      "302 호\n",
      "-----\n"
     ]
    }
   ],
   "source": [
    "# 190\n",
    "\n",
    "for i in range(len(apart)):\n",
    "    for k in range(0,2):\n",
    "        print(apart[i][k], '호')\n",
    "print('-----')"
   ]
  },
  {
   "cell_type": "code",
   "execution_count": 160,
   "id": "40b9794e-58dc-4742-bd6f-6753facc2b0a",
   "metadata": {},
   "outputs": [
    {
     "name": "stdout",
     "output_type": "stream",
     "text": [
      "2000.28\n",
      "3050.427\n",
      "2050.2870000000003\n",
      "1980.2772\n",
      "7501.05\n",
      "2050.2870000000003\n",
      "2050.2870000000003\n",
      "1980.2772\n",
      "15452.163\n",
      "15052.107\n",
      "15552.177\n",
      "14902.086000000001\n"
     ]
    }
   ],
   "source": [
    "# 191\n",
    "data = [\n",
    "    [ 2000,  3050,  2050,  1980],\n",
    "    [ 7500,  2050,  2050,  1980],\n",
    "    [15450, 15050, 15550, 14900]\n",
    "]\n",
    "\n",
    "for price in data:\n",
    "    for i in price:\n",
    "        print(i*1.00014)"
   ]
  },
  {
   "cell_type": "code",
   "execution_count": 170,
   "id": "60838a6f-7908-4f74-8638-a5d63ea5fc76",
   "metadata": {},
   "outputs": [
    {
     "name": "stdout",
     "output_type": "stream",
     "text": [
      "2000.28\n",
      "3050.427\n",
      "2050.2870000000003\n",
      "1980.2772\n",
      "----\n",
      "7501.05\n",
      "2050.2870000000003\n",
      "2050.2870000000003\n",
      "1980.2772\n",
      "----\n",
      "15452.163\n",
      "15052.107\n",
      "15552.177\n",
      "14902.086000000001\n",
      "----\n"
     ]
    }
   ],
   "source": [
    "# 192\n",
    "\n",
    "for price in data:\n",
    "    for i in price:\n",
    "        print(i*1.00014)\n",
    "    print('-'*4)"
   ]
  },
  {
   "cell_type": "code",
   "execution_count": 166,
   "id": "0b43daf4-d2bc-4532-81eb-3d428dc39f96",
   "metadata": {},
   "outputs": [
    {
     "name": "stdout",
     "output_type": "stream",
     "text": [
      "[2000.28, 3050.427, 2050.2870000000003, 1980.2772, 7501.05, 2050.2870000000003, 2050.2870000000003, 1980.2772, 15452.163, 15052.107, 15552.177, 14902.086000000001]\n"
     ]
    }
   ],
   "source": [
    "# 193\n",
    "result = list()\n",
    "\n",
    "for price in data:\n",
    "    for i in price:\n",
    "        result.append(i*1.00014)\n",
    "\n",
    "print(result)"
   ]
  },
  {
   "cell_type": "code",
   "execution_count": 174,
   "id": "878688e6-f87e-4131-b197-d2a2fe6216be",
   "metadata": {},
   "outputs": [
    {
     "name": "stdout",
     "output_type": "stream",
     "text": [
      "[[2000.28, 3050.427, 2050.2870000000003, 1980.2772], [7501.05, 2050.2870000000003, 2050.2870000000003, 1980.2772], [15452.163, 15052.107, 15552.177, 14902.086000000001]]\n"
     ]
    }
   ],
   "source": [
    "# 194\n",
    "result = list()\n",
    "\n",
    "for price in data:\n",
    "    rr = list()\n",
    "    for i in price:\n",
    "        rr.append(i*1.00014)\n",
    "    result.append(rr)\n",
    "\n",
    "print(result)"
   ]
  },
  {
   "cell_type": "code",
   "execution_count": 176,
   "id": "f6f02417-b1ea-4246-9966-ac57918953bf",
   "metadata": {},
   "outputs": [
    {
     "name": "stdout",
     "output_type": "stream",
     "text": [
      "100\n",
      "190\n",
      "310\n"
     ]
    }
   ],
   "source": [
    "# 195\n",
    "ohlc = [[\"open\", \"high\", \"low\", \"close\"],\n",
    "        [100, 110, 70, 100],\n",
    "        [200, 210, 180, 190],\n",
    "        [300, 310, 300, 310]]\n",
    "\n",
    "for i in range(1,4):\n",
    "    print(ohlc[i][3]) "
   ]
  },
  {
   "cell_type": "code",
   "execution_count": 182,
   "id": "596665eb-7c1d-4e49-b2aa-8ac34606dd18",
   "metadata": {},
   "outputs": [
    {
     "name": "stdout",
     "output_type": "stream",
     "text": [
      "190\n",
      "310\n"
     ]
    }
   ],
   "source": [
    "# 196\n",
    "\n",
    "for i in range(1,4):\n",
    "    if ohlc[i][3] > 150:\n",
    "        print(ohlc[i][3])"
   ]
  },
  {
   "cell_type": "code",
   "execution_count": 188,
   "id": "56af03aa-d38c-4ff1-b444-f628d023062a",
   "metadata": {},
   "outputs": [
    {
     "name": "stdout",
     "output_type": "stream",
     "text": [
      "100\n",
      "310\n"
     ]
    }
   ],
   "source": [
    "# 197\n",
    "\n",
    "for i in range(1,4):\n",
    "    if ohlc[i][3] >= ohlc[i][0]:\n",
    "        print(ohlc[i][3])"
   ]
  },
  {
   "cell_type": "code",
   "execution_count": 194,
   "id": "2d1c5336-1092-4c89-a592-40b49fb734f9",
   "metadata": {},
   "outputs": [
    {
     "name": "stdout",
     "output_type": "stream",
     "text": [
      "[40, 30, 10]\n"
     ]
    }
   ],
   "source": [
    "# 198\n",
    "volatility = list()\n",
    "\n",
    "for i in range(1,4):\n",
    "    volatility.append(ohlc[i][1] - ohlc[i][2])\n",
    "print(volatility)"
   ]
  },
  {
   "cell_type": "code",
   "execution_count": 198,
   "id": "0dca928e-e217-45a1-aafb-a43d164c2d29",
   "metadata": {},
   "outputs": [
    {
     "name": "stdout",
     "output_type": "stream",
     "text": [
      "10\n"
     ]
    }
   ],
   "source": [
    "# 199\n",
    "volatility = list()\n",
    "\n",
    "for i in range(1,4):\n",
    "    if ohlc[i][3] > ohlc[i][0]:\n",
    "        print(ohlc[i][1] - ohlc[i][2])"
   ]
  },
  {
   "cell_type": "code",
   "execution_count": 208,
   "id": "e7ee8ab7-85fb-4cdf-b449-429319401dfb",
   "metadata": {},
   "outputs": [
    {
     "name": "stdout",
     "output_type": "stream",
     "text": [
      "0\n"
     ]
    }
   ],
   "source": [
    "# 200\n",
    "r=0\n",
    "total = 0\n",
    "\n",
    "for i in range(1,4):\n",
    "    r = ohlc[i][0] - ohlc[i][3]\n",
    "    total += r\n",
    "print(total)"
   ]
  }
 ],
 "metadata": {
  "kernelspec": {
   "display_name": "Python 3 (ipykernel)",
   "language": "python",
   "name": "python3"
  },
  "language_info": {
   "codemirror_mode": {
    "name": "ipython",
    "version": 3
   },
   "file_extension": ".py",
   "mimetype": "text/x-python",
   "name": "python",
   "nbconvert_exporter": "python",
   "pygments_lexer": "ipython3",
   "version": "3.12.4"
  }
 },
 "nbformat": 4,
 "nbformat_minor": 5
}
