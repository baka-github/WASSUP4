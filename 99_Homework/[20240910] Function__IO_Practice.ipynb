{
 "cells": [
  {
   "cell_type": "markdown",
   "id": "988f84ca",
   "metadata": {},
   "source": [
    "# Q1. 주어진 자연수가 홀수인지 짝수인지 판별해 주는 함수(is_odd)를 작성해 보자.\n",
    "```\n",
    "def is_odd(number):\n",
    "    if ???    # 2로 나누었을 때 나머지가 1이면 홀수이다.\n",
    "        return True\n",
    "    else:\n",
    "        return False\n",
    "```"
   ]
  },
  {
   "cell_type": "code",
   "execution_count": 6,
   "id": "2885abd5",
   "metadata": {},
   "outputs": [],
   "source": [
    "def is_odd(number):\n",
    "    if number % 2 == 1:\n",
    "        return True\n",
    "    else:\n",
    "        return False"
   ]
  },
  {
   "cell_type": "code",
   "execution_count": 10,
   "id": "b78ef6b8-8053-4fe8-b4a8-b5e866d107d5",
   "metadata": {},
   "outputs": [
    {
     "data": {
      "text/plain": [
       "True"
      ]
     },
     "execution_count": 10,
     "metadata": {},
     "output_type": "execute_result"
    }
   ],
   "source": [
    "is_odd(123456789)"
   ]
  },
  {
   "cell_type": "code",
   "execution_count": 18,
   "id": "4133e5cb-09be-435e-90c9-5b7eb13fccb9",
   "metadata": {},
   "outputs": [],
   "source": [
    "is_odd_2 = lambda number: True if number % 2 == 1 else False"
   ]
  },
  {
   "cell_type": "code",
   "execution_count": 20,
   "id": "6aaf0e17-a55b-4725-8ac1-d38f41061fb0",
   "metadata": {},
   "outputs": [
    {
     "data": {
      "text/plain": [
       "True"
      ]
     },
     "execution_count": 20,
     "metadata": {},
     "output_type": "execute_result"
    }
   ],
   "source": [
    "is_odd_2(12345)"
   ]
  },
  {
   "cell_type": "code",
   "execution_count": null,
   "id": "49d63bc2-f01a-4bb9-90c3-262fafb7b2c4",
   "metadata": {},
   "outputs": [],
   "source": []
  },
  {
   "cell_type": "markdown",
   "id": "df338dd2",
   "metadata": {},
   "source": [
    "# Q2. 입력으로 들어오는 모든 수의 평균 값을 계산해 주는 함수를 작성해 보자.\n",
    "(단 입력으로 들어오는 수의 개수는 정해져 있지 않다.)\n",
    "```\n",
    "def avg_numbers(???):\n",
    "    result = 0\n",
    "    for i in args:\n",
    "        result += i\n",
    "    return ?????\n",
    "\n",
    "avg_numbers(1,2)       # 1.5 출력\n",
    "avg_numbers(1,2,3,4,5) # 3.0 출력\n",
    "```"
   ]
  },
  {
   "cell_type": "code",
   "execution_count": 26,
   "id": "44a317e3",
   "metadata": {},
   "outputs": [
    {
     "name": "stdout",
     "output_type": "stream",
     "text": [
      "1.5\n",
      "3.0\n"
     ]
    }
   ],
   "source": [
    "def avg_numbers(*args):\n",
    "    result = 0\n",
    "    for i in args:\n",
    "        result += i\n",
    "    return result / len(args)\n",
    "\n",
    "print(avg_numbers(1,2))  \n",
    "print(avg_numbers(1,2,3,4,5))"
   ]
  },
  {
   "cell_type": "code",
   "execution_count": null,
   "id": "4f60a606-e43b-4126-91ac-9339fd3832b8",
   "metadata": {},
   "outputs": [],
   "source": []
  },
  {
   "cell_type": "markdown",
   "id": "b1a86529",
   "metadata": {},
   "source": [
    "# Q3. 다음은 두 개의 숫자를 입력받아 더하여 돌려주는 프로그램이다.\n",
    "```\n",
    "input1 = input(\"첫번째 숫자를 입력하세요:\")\n",
    "input2 = input(\"두번째 숫자를 입력하세요:\")\n",
    "\n",
    "total = input1 + input2\n",
    "print(\"두 수의 합은 %s 입니다\" % total)\n",
    "```\n",
    "이 프로그램을 수행해 보자.\n",
    "```\n",
    "첫번째 숫자를 입력하세요: 3\n",
    "두번째 숫자를 입력하세요: 6\n",
    "두 수의 합은 36 입니다.\n",
    "```\n",
    "3과 6을 입력했을 때 9가 아닌 36이라는 결괏값이 나왔다. 이 프로그램의 오류를 수정해보자."
   ]
  },
  {
   "cell_type": "code",
   "execution_count": 30,
   "id": "2589b6b5",
   "metadata": {},
   "outputs": [
    {
     "name": "stdin",
     "output_type": "stream",
     "text": [
      "첫번째 숫자를 입력하세요: 12345\n",
      "두번째 숫자를 입력하세요: 23456\n"
     ]
    },
    {
     "name": "stdout",
     "output_type": "stream",
     "text": [
      "실행완료\n",
      "두 수의 합은 35801 입니다\n"
     ]
    }
   ],
   "source": [
    "input1 = int(input(\"첫번째 숫자를 입력하세요:\"))\n",
    "\n",
    "try:\n",
    "    input2 = int(input(\"두번째 숫자를 입력하세요:\"))\n",
    "except ValueError as e:\n",
    "    print('숫자가 아닙니다')\n",
    "    print(e)\n",
    "finally:\n",
    "    print('실행완료') \n",
    "\n",
    "total = input1 + input2\n",
    "print(f\"두 수의 합은 {total} 입니다\")"
   ]
  },
  {
   "cell_type": "code",
   "execution_count": null,
   "id": "d2da9e3a-e09f-4ab8-9169-9b3ff6b12cce",
   "metadata": {},
   "outputs": [],
   "source": []
  },
  {
   "cell_type": "markdown",
   "id": "7f27c524",
   "metadata": {},
   "source": [
    "# Q4. 다음 중 출력 결과가 다른 것 한 개를 골라 보자.\n",
    "```\n",
    "1. print(\"you\" \"need\" \"python\")\n",
    "2. print(\"you\"+\"need\"+\"python\") \n",
    "3. print(\"you\",\"need\",\"python\")\n",
    "4. print(\"\".join([\"you\",\"need\",\"python\"]))\n",
    "```"
   ]
  },
  {
   "cell_type": "code",
   "execution_count": 32,
   "id": "f1941d3a",
   "metadata": {},
   "outputs": [
    {
     "name": "stdout",
     "output_type": "stream",
     "text": [
      "youneedpython\n"
     ]
    }
   ],
   "source": [
    "print(\"you\" \"need\" \"python\")"
   ]
  },
  {
   "cell_type": "code",
   "execution_count": 34,
   "id": "8671253e-4451-47ad-8db5-8f8d5b05e075",
   "metadata": {},
   "outputs": [
    {
     "name": "stdout",
     "output_type": "stream",
     "text": [
      "youneedpython\n"
     ]
    }
   ],
   "source": [
    "print(\"you\"+\"need\"+\"python\") "
   ]
  },
  {
   "cell_type": "code",
   "execution_count": 36,
   "id": "f1a981d4-83b8-495a-b0ca-b621e4ec51e6",
   "metadata": {},
   "outputs": [
    {
     "name": "stdout",
     "output_type": "stream",
     "text": [
      "you need python\n"
     ]
    }
   ],
   "source": [
    "print(\"you\",\"need\",\"python\")"
   ]
  },
  {
   "cell_type": "code",
   "execution_count": 40,
   "id": "edfee618-efa6-41cd-8e95-c3d7c1b7a658",
   "metadata": {},
   "outputs": [
    {
     "name": "stdout",
     "output_type": "stream",
     "text": [
      "youneedpython\n"
     ]
    }
   ],
   "source": [
    "print(\"\".join([\"you\",\"need\",\"python\"]))"
   ]
  },
  {
   "cell_type": "code",
   "execution_count": null,
   "id": "d85063cf-983e-457f-a733-4f9591f15d40",
   "metadata": {},
   "outputs": [],
   "source": []
  },
  {
   "cell_type": "markdown",
   "id": "fa22244a",
   "metadata": {},
   "source": [
    "# Q5. 다음은 \"test.txt\"라는 파일에 \"Life is too short\" 문자열을 저장한 후 다시 그 파일을 읽어서 출력하는 프로그램이다.\n",
    "```\n",
    "f1 = open(\"test.txt\", 'w')\n",
    "f1.write(\"Life is too short\")\n",
    "\n",
    "f2 = open(\"test.txt\", 'r')\n",
    "print(f2.read())\n",
    "```\n",
    "이 프로그램은 우리가 예상한 \"Life is too short\"라는 문장을 출력하지 않는다.   \n",
    "우리가 예상한 값을 출력할 수 있도록 프로그램을 수정해보자."
   ]
  },
  {
   "cell_type": "code",
   "execution_count": 2,
   "id": "9c0fb96e",
   "metadata": {},
   "outputs": [
    {
     "name": "stdout",
     "output_type": "stream",
     "text": [
      "Life is too short\n"
     ]
    }
   ],
   "source": [
    "f1 = open(\"test.txt\", 'w')\n",
    "f1.write(\"Life is too short\")\n",
    "\n",
    "f2 = open(\"test.txt\", 'r')\n",
    "print(f2.read())"
   ]
  },
  {
   "cell_type": "code",
   "execution_count": null,
   "id": "47e27a6c-9949-4eff-8dea-0a3b3f9124c2",
   "metadata": {},
   "outputs": [],
   "source": []
  },
  {
   "cell_type": "markdown",
   "id": "9252d51d",
   "metadata": {},
   "source": [
    "# Q6. 사용자의 입력을 파일(test.txt)에 저장하는 프로그램을 작성해 보자.\n",
    "(단 프로그램을 다시 실행하더라도 기존에 작성한 내용을 유지하고 새로 입력한 내용을 추가해야 한다.)\n",
    "```\n",
    "user_input = input(\"저장할 내용을 입력하세요: \")\n",
    "f = open('test.txt', ?????) # 내용을 추가하기 위해 'a'를 사용\n",
    "f.write(user_input)\n",
    "f.write(????????) # 입력한 내용을 줄단위로 구분하기 위해 줄 바꿈 문자 삽입\n",
    "f.close()\n",
    "```"
   ]
  },
  {
   "cell_type": "code",
   "execution_count": 46,
   "id": "24d1a1d8",
   "metadata": {},
   "outputs": [
    {
     "name": "stdin",
     "output_type": "stream",
     "text": [
      "저장할 내용을 입력하세요:  123\n"
     ]
    }
   ],
   "source": [
    "user_input = input(\"저장할 내용을 입력하세요: \")\n",
    "f = open('test.txt', 'a') \n",
    "f.write('\\n')\n",
    "f.write(user_input)\n",
    "f.close()"
   ]
  },
  {
   "cell_type": "code",
   "execution_count": null,
   "id": "5039b9dc-7e89-490e-850a-f42d7349fa03",
   "metadata": {},
   "outputs": [],
   "source": []
  },
  {
   "cell_type": "markdown",
   "id": "54f9f0f6",
   "metadata": {},
   "source": [
    "# Q7. 다음과 같은 내용을 지닌 파일 test.txt가 있다. 이 파일의 내용 중 'java'라는 문자열을 'python'으로 바꾸어서 저장해 보자.\n",
    "```\n",
    "Life is too short\n",
    "you need java\n",
    "```\n",
    "\n",
    "```\n",
    "f = open('test.txt', 'r')\n",
    "body = ????? # test.txt 파일의 내용을 body 변수에 저장\n",
    "f.close()\n",
    "\n",
    "body = ?????   # body 문자열에서 \"java\"를 \"python\"으로 변경\n",
    "\n",
    "f = open('test.txt', ????)  # 파일을 쓰기 모드로 다시 실행\n",
    "f.write(body)\n",
    "f.close()\n",
    "```"
   ]
  },
  {
   "cell_type": "code",
   "execution_count": 56,
   "id": "9344f6ca",
   "metadata": {},
   "outputs": [],
   "source": [
    "f = open('test.txt', 'r')\n",
    "body = f.read() \n",
    "f.close()\n",
    "\n",
    "body = body.replace('java', 'python')  \n",
    "\n",
    "f = open('test.txt', 'w')  \n",
    "f.write(body)\n",
    "f.close()"
   ]
  },
  {
   "cell_type": "markdown",
   "id": "7fa10a6a",
   "metadata": {},
   "source": [
    "```\n",
    "\"달을 향해 나아가라. 달에 미치지 못해도 별들 사이에 있게 될 것이다.\"\n",
    "- 진 시먼스\n",
    "```"
   ]
  }
 ],
 "metadata": {
  "kernelspec": {
   "display_name": "Python 3 (ipykernel)",
   "language": "python",
   "name": "python3"
  },
  "language_info": {
   "codemirror_mode": {
    "name": "ipython",
    "version": 3
   },
   "file_extension": ".py",
   "mimetype": "text/x-python",
   "name": "python",
   "nbconvert_exporter": "python",
   "pygments_lexer": "ipython3",
   "version": "3.12.4"
  },
  "toc": {
   "base_numbering": 1,
   "nav_menu": {},
   "number_sections": true,
   "sideBar": true,
   "skip_h1_title": false,
   "title_cell": "Table of Contents",
   "title_sidebar": "Contents",
   "toc_cell": false,
   "toc_position": {},
   "toc_section_display": true,
   "toc_window_display": false
  },
  "varInspector": {
   "cols": {
    "lenName": 16,
    "lenType": 16,
    "lenVar": 40
   },
   "kernels_config": {
    "python": {
     "delete_cmd_postfix": "",
     "delete_cmd_prefix": "del ",
     "library": "var_list.py",
     "varRefreshCmd": "print(var_dic_list())"
    },
    "r": {
     "delete_cmd_postfix": ") ",
     "delete_cmd_prefix": "rm(",
     "library": "var_list.r",
     "varRefreshCmd": "cat(var_dic_list()) "
    }
   },
   "oldHeight": 122.844,
   "position": {
    "height": "144.844px",
    "left": "1550px",
    "right": "20px",
    "top": "120px",
    "width": "350px"
   },
   "types_to_exclude": [
    "module",
    "function",
    "builtin_function_or_method",
    "instance",
    "_Feature"
   ],
   "varInspector_section_display": "block",
   "window_display": false
  }
 },
 "nbformat": 4,
 "nbformat_minor": 5
}
