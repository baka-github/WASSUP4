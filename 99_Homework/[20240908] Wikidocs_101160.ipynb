{
 "cells": [
  {
   "cell_type": "code",
   "execution_count": 3,
   "id": "7f76ffa0-fe94-4eb6-815b-0669a3bab797",
   "metadata": {},
   "outputs": [],
   "source": [
    "# 101\n",
    "# bool 타입"
   ]
  },
  {
   "cell_type": "code",
   "execution_count": 9,
   "id": "3fb64345-9d4c-4269-b673-66495866739a",
   "metadata": {},
   "outputs": [
    {
     "name": "stdout",
     "output_type": "stream",
     "text": [
      "False\n"
     ]
    }
   ],
   "source": [
    "# 102\n",
    "# false\n",
    "print(3 == 5)"
   ]
  },
  {
   "cell_type": "code",
   "execution_count": 11,
   "id": "763c6d88-4e00-4366-82ee-de59566f6828",
   "metadata": {},
   "outputs": [
    {
     "name": "stdout",
     "output_type": "stream",
     "text": [
      "True\n"
     ]
    }
   ],
   "source": [
    "# 103\n",
    "# true\n",
    "print(3 < 5)"
   ]
  },
  {
   "cell_type": "code",
   "execution_count": 13,
   "id": "ddfb7d60-ead5-4f69-9c78-358413196e80",
   "metadata": {},
   "outputs": [
    {
     "name": "stdout",
     "output_type": "stream",
     "text": [
      "True\n"
     ]
    }
   ],
   "source": [
    "# 104\n",
    "# true\n",
    "x = 4\n",
    "print(1 < x < 5)"
   ]
  },
  {
   "cell_type": "code",
   "execution_count": 15,
   "id": "e3575f6e-784f-4d09-b3c1-2b816508b8a4",
   "metadata": {},
   "outputs": [
    {
     "name": "stdout",
     "output_type": "stream",
     "text": [
      "True\n"
     ]
    }
   ],
   "source": [
    "# 105\n",
    "# true\n",
    "print((3 == 3) and (4 != 3))"
   ]
  },
  {
   "cell_type": "code",
   "execution_count": 17,
   "id": "ca9239af-a241-4bf2-aab3-a2f94c2237a1",
   "metadata": {},
   "outputs": [
    {
     "name": "stdout",
     "output_type": "stream",
     "text": [
      "False\n"
     ]
    }
   ],
   "source": [
    "# 106\n",
    "# >= 로 해야 함\n",
    "print(3 >= 4)"
   ]
  },
  {
   "cell_type": "code",
   "execution_count": 21,
   "id": "c4017ddd-8776-4deb-87b9-4d5b17be95cf",
   "metadata": {},
   "outputs": [],
   "source": [
    "# 107\n",
    "# 아무것도 출력하지 않음\n",
    "if 4 < 3 :\n",
    "    print(\"hello world\")"
   ]
  },
  {
   "cell_type": "code",
   "execution_count": 23,
   "id": "2a71e81e-4721-4789-b015-de4e508c4a6b",
   "metadata": {},
   "outputs": [
    {
     "name": "stdout",
     "output_type": "stream",
     "text": [
      "hi, there.\n"
     ]
    }
   ],
   "source": [
    "# 108\n",
    "# hi, there.\n",
    "if 4 < 3 :\n",
    "    print('hello world.')\n",
    "else :\n",
    "    print('hi, there.')"
   ]
  },
  {
   "cell_type": "code",
   "execution_count": 25,
   "id": "5638e5de-6187-4c3e-8e7b-7f1fee910a55",
   "metadata": {},
   "outputs": [
    {
     "name": "stdout",
     "output_type": "stream",
     "text": [
      "1\n",
      "2\n",
      "4\n"
     ]
    }
   ],
   "source": [
    "# 109\n",
    "#1 2 4\n",
    "if True :\n",
    "    print (\"1\")\n",
    "    print (\"2\")\n",
    "else :\n",
    "    print(\"3\")\n",
    "print(\"4\")"
   ]
  },
  {
   "cell_type": "code",
   "execution_count": 27,
   "id": "080adaf2-6b32-4b6f-a20e-e696942be866",
   "metadata": {},
   "outputs": [
    {
     "name": "stdout",
     "output_type": "stream",
     "text": [
      "3\n",
      "5\n"
     ]
    }
   ],
   "source": [
    "# 110\n",
    "# 3 5\n",
    "if True :\n",
    "    if False :\n",
    "        print(\"1\")\n",
    "        print(\"2\")\n",
    "    else :\n",
    "        print(\"3\")\n",
    "else :\n",
    "    print(\"4\")\n",
    "print(\"5\")"
   ]
  },
  {
   "cell_type": "code",
   "execution_count": 29,
   "id": "d23888fd-0fd9-4bf2-991c-da35293754ea",
   "metadata": {},
   "outputs": [
    {
     "name": "stdin",
     "output_type": "stream",
     "text": [
      " 즐거운 9월 보내세요\n"
     ]
    },
    {
     "name": "stdout",
     "output_type": "stream",
     "text": [
      "즐거운 9월 보내세요즐거운 9월 보내세요\n"
     ]
    }
   ],
   "source": [
    "# 111\n",
    "a = input()\n",
    "print(a * 2)"
   ]
  },
  {
   "cell_type": "code",
   "execution_count": 31,
   "id": "8da8c681-ae17-4ab5-8d53-876c31d00f4c",
   "metadata": {},
   "outputs": [
    {
     "name": "stdin",
     "output_type": "stream",
     "text": [
      "숫자를 입력하세요:  30\n"
     ]
    },
    {
     "name": "stdout",
     "output_type": "stream",
     "text": [
      "40\n"
     ]
    }
   ],
   "source": [
    "# 112\n",
    "a = int(input('숫자를 입력하세요: '))\n",
    "print( a + 10 )"
   ]
  },
  {
   "cell_type": "code",
   "execution_count": 33,
   "id": "062ba27b-1ed6-4c4d-9479-3fbbf8b7bc58",
   "metadata": {},
   "outputs": [
    {
     "name": "stdin",
     "output_type": "stream",
     "text": [
      " 30\n"
     ]
    },
    {
     "name": "stdout",
     "output_type": "stream",
     "text": [
      "짝수\n"
     ]
    }
   ],
   "source": [
    "# 113\n",
    "a = int(input())\n",
    "if a % 2 == 0:\n",
    "    print('짝수')\n",
    "else:\n",
    "    print('홀수')"
   ]
  },
  {
   "cell_type": "code",
   "execution_count": 35,
   "id": "94de1490-20bb-4bfe-89a6-0d507c017228",
   "metadata": {},
   "outputs": [
    {
     "name": "stdin",
     "output_type": "stream",
     "text": [
      "입력값 :  200\n"
     ]
    },
    {
     "name": "stdout",
     "output_type": "stream",
     "text": [
      "출력값 :  220\n"
     ]
    }
   ],
   "source": [
    "# 114\n",
    "a = int(input('입력값 : '))\n",
    "\n",
    "if a + 20 > 255:\n",
    "    print('출력값 : ', 255)\n",
    "else:\n",
    "    print('출력값 : ', a + 20)"
   ]
  },
  {
   "cell_type": "code",
   "execution_count": 37,
   "id": "b59e4695-bf55-4d54-928f-f76e1803b40e",
   "metadata": {},
   "outputs": [
    {
     "name": "stdin",
     "output_type": "stream",
     "text": [
      "입력값:  300\n"
     ]
    },
    {
     "name": "stdout",
     "output_type": "stream",
     "text": [
      "출력값:  255\n"
     ]
    }
   ],
   "source": [
    "# 115\n",
    "a = int(input('입력값: '))\n",
    "b = a - 20\n",
    "\n",
    "if b < 255 and b > 0:\n",
    "    print('출력값: ', b)\n",
    "elif b < 0 :\n",
    "    print('출력값: ', 0)\n",
    "else:\n",
    "    print('출력값: ', 255)"
   ]
  },
  {
   "cell_type": "code",
   "execution_count": 39,
   "id": "e16578b7-cef4-4442-9ad2-b3e9dfa0eed9",
   "metadata": {},
   "outputs": [
    {
     "name": "stdin",
     "output_type": "stream",
     "text": [
      "현재시간 :  03:10\n"
     ]
    },
    {
     "name": "stdout",
     "output_type": "stream",
     "text": [
      "정각이 아닙니다.\n"
     ]
    }
   ],
   "source": [
    "# 116\n",
    "time = input('현재시간 : ')\n",
    "t = time.split(':')\n",
    "\n",
    "if t[1] == '00' :\n",
    "    print('정각입니다.')\n",
    "else:\n",
    "    print('정각이 아닙니다.')"
   ]
  },
  {
   "cell_type": "code",
   "execution_count": 41,
   "id": "9db8b5fc-164a-4cb4-ab0f-0012e7c857a1",
   "metadata": {},
   "outputs": [
    {
     "name": "stdin",
     "output_type": "stream",
     "text": [
      "좋아하는 과일은?  사과\n"
     ]
    },
    {
     "name": "stdout",
     "output_type": "stream",
     "text": [
      "정답입니다.\n"
     ]
    }
   ],
   "source": [
    "# 117\n",
    "fruit = [\"사과\", \"포도\", \"홍시\"]\n",
    "user = input('좋아하는 과일은? ')\n",
    "\n",
    "if user in fruit:\n",
    "    print('정답입니다.')\n",
    "else:\n",
    "    print('오답입니다.')\n"
   ]
  },
  {
   "cell_type": "code",
   "execution_count": 43,
   "id": "222dfe6a-0fc7-49e7-8656-c8de684dfa0b",
   "metadata": {},
   "outputs": [
    {
     "name": "stdin",
     "output_type": "stream",
     "text": [
      " Naver\n"
     ]
    },
    {
     "name": "stdout",
     "output_type": "stream",
     "text": [
      "투자 경고 종목입니다.\n"
     ]
    }
   ],
   "source": [
    "# 118\n",
    "warn_investment_list = [\"Microsoft\", \"Google\", \"Naver\", \"Kakao\", \"SAMSUNG\", \"LG\"]\n",
    "user = input()\n",
    "\n",
    "if user in warn_investment_list:\n",
    "    print('투자 경고 종목입니다.')\n",
    "else:\n",
    "    print('투자경고종목이 아닙니다.')"
   ]
  },
  {
   "cell_type": "code",
   "execution_count": 47,
   "id": "6935597b-ea90-4299-9cf0-ea1411f1ea4f",
   "metadata": {},
   "outputs": [
    {
     "name": "stdin",
     "output_type": "stream",
     "text": [
      " 딸기\n"
     ]
    },
    {
     "name": "stdout",
     "output_type": "stream",
     "text": [
      "오답입니다\n"
     ]
    }
   ],
   "source": [
    "# 119\n",
    "fruit = {\"봄\" : \"딸기\", \"여름\" : \"토마토\", \"가을\" : \"사과\"}\n",
    "user = input()\n",
    "\n",
    "if user in fruit.keys():\n",
    "    print('정답입니다.')\n",
    "else:\n",
    "    print('오답입니다')"
   ]
  },
  {
   "cell_type": "code",
   "execution_count": 49,
   "id": "be43447a-f7ee-4bff-951e-ea70c9388987",
   "metadata": {},
   "outputs": [
    {
     "name": "stdin",
     "output_type": "stream",
     "text": [
      " 가을\n"
     ]
    },
    {
     "name": "stdout",
     "output_type": "stream",
     "text": [
      "오답입니다\n"
     ]
    }
   ],
   "source": [
    "# 120\n",
    "fruit = {\"봄\" : \"딸기\", \"여름\" : \"토마토\", \"가을\" : \"사과\"}\n",
    "user = input()\n",
    "\n",
    "if user in fruit.values():\n",
    "    print('정답입니다.')\n",
    "else:\n",
    "    print('오답입니다')"
   ]
  },
  {
   "cell_type": "code",
   "execution_count": 51,
   "id": "d91d53c8-7a82-4ae3-9bff-0dd9bea8ddc0",
   "metadata": {},
   "outputs": [
    {
     "name": "stdin",
     "output_type": "stream",
     "text": [
      " a\n"
     ]
    },
    {
     "name": "stdout",
     "output_type": "stream",
     "text": [
      "A\n"
     ]
    }
   ],
   "source": [
    "# 121\n",
    "user = input()\n",
    "\n",
    "if user.islower():\n",
    "    print(user.upper())\n",
    "else:\n",
    "    print(user.lower())"
   ]
  },
  {
   "cell_type": "code",
   "execution_count": 53,
   "id": "8699434d-f9c0-430d-bede-a578c5492814",
   "metadata": {},
   "outputs": [
    {
     "name": "stdin",
     "output_type": "stream",
     "text": [
      "score:  99\n"
     ]
    },
    {
     "name": "stdout",
     "output_type": "stream",
     "text": [
      "grade is A\n"
     ]
    }
   ],
   "source": [
    "# 122\n",
    "score = int(input('score: '))\n",
    "\n",
    "if score >= 81 and score <=100:\n",
    "    print('grade is A')\n",
    "elif score >= 61 and score <= 80:\n",
    "    print('grade is B')\n",
    "elif score >= 41 and score <= 60:\n",
    "    print('grade is C')\n",
    "elif score >= 21 and score <= 40:\n",
    "    print('grade is D')\n",
    "elif score >= 0 and score <= 20:\n",
    "    print('grade is E')"
   ]
  },
  {
   "cell_type": "code",
   "execution_count": 57,
   "id": "bfd243e2-4a66-46a8-be3f-a78470e8e17f",
   "metadata": {},
   "outputs": [
    {
     "name": "stdin",
     "output_type": "stream",
     "text": [
      "입력:  100 달러\n"
     ]
    },
    {
     "name": "stdout",
     "output_type": "stream",
     "text": [
      "116700.0 원\n"
     ]
    }
   ],
   "source": [
    "# 123\n",
    "user = input('입력: ')\n",
    "exc = {'달러':1167, '엔':1.096, '유로':1268, '위안':171}\n",
    "\n",
    "val,unit = user.split( )\n",
    "print(float(exc[unit])*float(val), '원')"
   ]
  },
  {
   "cell_type": "code",
   "execution_count": 59,
   "id": "fb4df65d-b93d-4563-b066-0894b49396d5",
   "metadata": {},
   "outputs": [
    {
     "name": "stdin",
     "output_type": "stream",
     "text": [
      "number1:  45\n",
      "number2:  2\n",
      "number3:  90\n"
     ]
    },
    {
     "name": "stdout",
     "output_type": "stream",
     "text": [
      "90\n"
     ]
    }
   ],
   "source": [
    "# 124\n",
    "n1 = int(input('number1: '))\n",
    "n2 = int(input('number2: '))\n",
    "n3 = int(input('number3: '))\n",
    "\n",
    "ans = list()\n",
    "ans.append(n1)\n",
    "ans.append(n2)\n",
    "ans.append(n3)\n",
    "\n",
    "print(max(ans))"
   ]
  },
  {
   "cell_type": "code",
   "execution_count": 61,
   "id": "f0d2c746-3d55-447e-aef6-432a18eb8acf",
   "metadata": {},
   "outputs": [
    {
     "name": "stdin",
     "output_type": "stream",
     "text": [
      "휴대전화 번호 입력:  010-1111-2222\n"
     ]
    },
    {
     "name": "stdout",
     "output_type": "stream",
     "text": [
      "당신은 알수없음입니다.\n"
     ]
    }
   ],
   "source": [
    "# 125\n",
    "tel = {'SKT':'011', 'KT':'016', 'LGU':'019', '알수없음':'010'}\n",
    "num = input('휴대전화 번호 입력: ')\n",
    "n1 = str(num.split('-')[0])\n",
    "\n",
    "if n1 == '011':\n",
    "    print('당신은 SKT 사용자입니다.')\n",
    "elif n1 == '016':\n",
    "    print('당신은 KT 사용자입니다.')\n",
    "elif n1 == '019':\n",
    "    print('당신은 LGU 사용자입니다.')\n",
    "else:\n",
    "    print('당신은 알수없음입니다.')"
   ]
  },
  {
   "cell_type": "code",
   "execution_count": 63,
   "id": "71dbaae6-b812-45f4-aaa0-d1c90e8c7b43",
   "metadata": {},
   "outputs": [
    {
     "name": "stdin",
     "output_type": "stream",
     "text": [
      "우편번호:  01400\n"
     ]
    },
    {
     "name": "stdout",
     "output_type": "stream",
     "text": [
      "노원구\n"
     ]
    }
   ],
   "source": [
    "# 126\n",
    "adr = {'강북구': (0,1,2),\n",
    "      '도봉구' : (3,4,5),\n",
    "      '노원구' : (6,7,8,9)}\n",
    "user = input('우편번호: ')\n",
    "num = user[2]\n",
    "\n",
    "if num in (adr['강북구']):\n",
    "    print('강북구')\n",
    "elif num in (adr['도봉구']):\n",
    "    print('도봉구')\n",
    "else:\n",
    "    print('노원구')"
   ]
  },
  {
   "cell_type": "code",
   "execution_count": 67,
   "id": "1cb5aeeb-0027-4b73-9b32-bb7646c88598",
   "metadata": {},
   "outputs": [
    {
     "name": "stdin",
     "output_type": "stream",
     "text": [
      "주민등록번호:  821010-1635210\n"
     ]
    },
    {
     "name": "stdout",
     "output_type": "stream",
     "text": [
      "남자\n"
     ]
    }
   ],
   "source": [
    "# 127\n",
    "user = input('주민등록번호: ')\n",
    "n1 = user.split('-')[1]\n",
    "\n",
    "if n1[0] in ('1', '3'):\n",
    "    print('남자')\n",
    "else:\n",
    "    print('여자')"
   ]
  },
  {
   "cell_type": "code",
   "execution_count": 69,
   "id": "16bf0d06-8de4-4666-b9a6-665ced6c3e1a",
   "metadata": {},
   "outputs": [
    {
     "name": "stdin",
     "output_type": "stream",
     "text": [
      "주민등록번호:  861010-1015210\n"
     ]
    },
    {
     "name": "stdout",
     "output_type": "stream",
     "text": [
      "서울 입니다.\n"
     ]
    }
   ],
   "source": [
    "# 128\n",
    "user = input('주민등록번호: ')\n",
    "a = user.split('-')[1]\n",
    "num = int(a[1:3])\n",
    "\n",
    "if num in range(0,9):\n",
    "    print('서울 입니다.')\n",
    "else:\n",
    "    print('서울이 아닙니다.')"
   ]
  },
  {
   "cell_type": "code",
   "execution_count": 71,
   "id": "bf6a3790-42a4-47db-bea6-26011bd1c085",
   "metadata": {},
   "outputs": [
    {
     "ename": "NameError",
     "evalue": "name 'btc' is not defined",
     "output_type": "error",
     "traceback": [
      "\u001b[1;31m---------------------------------------------------------------------------\u001b[0m",
      "\u001b[1;31mNameError\u001b[0m                                 Traceback (most recent call last)",
      "Cell \u001b[1;32mIn[71], line 6\u001b[0m\n\u001b[0;32m      1\u001b[0m \u001b[38;5;66;03m# 130\u001b[39;00m\n\u001b[0;32m      2\u001b[0m \u001b[38;5;66;03m#import requests\u001b[39;00m\n\u001b[0;32m      3\u001b[0m \u001b[38;5;66;03m#btc = requests.get(\"https://api.bithumb.com/public/ticker/\").json()['data']\u001b[39;00m\n\u001b[0;32m      4\u001b[0m \n\u001b[0;32m      5\u001b[0m \u001b[38;5;66;03m#print(btc)\u001b[39;00m\n\u001b[1;32m----> 6\u001b[0m 변동폭 \u001b[38;5;241m=\u001b[39m\u001b[38;5;28mfloat\u001b[39m(btc[\u001b[38;5;124m'\u001b[39m\u001b[38;5;124mmax_price\u001b[39m\u001b[38;5;124m'\u001b[39m]) \u001b[38;5;241m-\u001b[39m \u001b[38;5;28mfloat\u001b[39m(btc[\u001b[38;5;124m'\u001b[39m\u001b[38;5;124mmin_price\u001b[39m\u001b[38;5;124m'\u001b[39m])\n\u001b[0;32m      7\u001b[0m 장 \u001b[38;5;241m=\u001b[39m \u001b[38;5;28mfloat\u001b[39m(btc[\u001b[38;5;124m'\u001b[39m\u001b[38;5;124mopening_price\u001b[39m\u001b[38;5;124m'\u001b[39m]) \u001b[38;5;241m+\u001b[39m 변동폭\n\u001b[0;32m      9\u001b[0m \u001b[38;5;28;01mif\u001b[39;00m 장 \u001b[38;5;241m>\u001b[39m \u001b[38;5;28mfloat\u001b[39m(btc[\u001b[38;5;124m'\u001b[39m\u001b[38;5;124mmax_price\u001b[39m\u001b[38;5;124m'\u001b[39m]):\n",
      "\u001b[1;31mNameError\u001b[0m: name 'btc' is not defined"
     ]
    }
   ],
   "source": [
    "# 130\n",
    "#import requests\n",
    "#btc = requests.get(\"https://api.bithumb.com/public/ticker/\").json()['data']\n",
    "\n",
    "#print(btc)\n",
    "변동폭 =float(btc['max_price']) - float(btc['min_price'])\n",
    "장 = float(btc['opening_price']) + 변동폭\n",
    "\n",
    "if 장 > float(btc['max_price']):\n",
    "    print('상승장')\n",
    "else:\n",
    "    print('하락장')"
   ]
  },
  {
   "cell_type": "code",
   "execution_count": 73,
   "id": "4d8e39b8-94ea-43b6-946a-e1001c9d7ef1",
   "metadata": {},
   "outputs": [
    {
     "name": "stdout",
     "output_type": "stream",
     "text": [
      "사과\n",
      "귤\n",
      "수박\n"
     ]
    }
   ],
   "source": [
    "# 131\n",
    "#사과 귤 수박\n",
    "과일 = [\"사과\", \"귤\", \"수박\"]\n",
    "for 변수 in 과일:\n",
    "    print(변수)"
   ]
  },
  {
   "cell_type": "code",
   "execution_count": 75,
   "id": "3dd062d8-5e2e-4497-aa10-e1a547325ba0",
   "metadata": {},
   "outputs": [
    {
     "name": "stdout",
     "output_type": "stream",
     "text": [
      "#####\n",
      "#####\n",
      "#####\n"
     ]
    }
   ],
   "source": [
    "# 132\n",
    "# ##### ##### #####\n",
    "과일 = [\"사과\", \"귤\", \"수박\"]\n",
    "for 변수 in 과일:\n",
    "  print(\"#####\")"
   ]
  },
  {
   "cell_type": "code",
   "execution_count": 77,
   "id": "d0925761-76d3-4d56-a16b-77bf20e05636",
   "metadata": {},
   "outputs": [
    {
     "name": "stdout",
     "output_type": "stream",
     "text": [
      "A\n",
      "B\n",
      "C\n"
     ]
    }
   ],
   "source": [
    "# 133\n",
    "변수 = \"A\"\n",
    "print(변수)\n",
    "변수 = \"B\"\n",
    "print(변수)\n",
    "변수 = \"C\"\n",
    "print(변수)"
   ]
  },
  {
   "cell_type": "code",
   "execution_count": 79,
   "id": "318c1a91-6f01-41a1-820c-5826b101366e",
   "metadata": {},
   "outputs": [
    {
     "name": "stdout",
     "output_type": "stream",
     "text": [
      "출력: A\n",
      "출력: B\n",
      "출력: C\n"
     ]
    }
   ],
   "source": [
    "# 134\n",
    "변수 = \"A\"\n",
    "print(\"출력:\", 변수)\n",
    "변수 = \"B\"\n",
    "print(\"출력:\", 변수)\n",
    "변수 = \"C\"\n",
    "print(\"출력:\", 변수)"
   ]
  },
  {
   "cell_type": "code",
   "execution_count": 81,
   "id": "c50021f2-8894-4d5c-ae6b-503f635a3a3c",
   "metadata": {},
   "outputs": [
    {
     "name": "stdout",
     "output_type": "stream",
     "text": [
      "변환: a\n",
      "변환: b\n",
      "변환: c\n"
     ]
    }
   ],
   "source": [
    "# 135\n",
    "변수 = \"A\"\n",
    "b = 변수.lower()\n",
    "print(\"변환:\", b)\n",
    "변수 = \"B\"\n",
    "b = 변수.lower()\n",
    "print(\"변환:\", b)\n",
    "변수 = \"C\"\n",
    "b = 변수.lower()\n",
    "print(\"변환:\", b)"
   ]
  },
  {
   "cell_type": "code",
   "execution_count": 84,
   "id": "2c2e376f-c22a-48bd-b3fe-ce90f4bdf711",
   "metadata": {},
   "outputs": [
    {
     "name": "stdout",
     "output_type": "stream",
     "text": [
      "10\n",
      "20\n",
      "30\n"
     ]
    }
   ],
   "source": [
    "# 136\n",
    "\n",
    "for 변수 in (10, 20, 30):\n",
    "    print(변수)"
   ]
  },
  {
   "cell_type": "code",
   "execution_count": 86,
   "id": "0ac868ce-71a2-4922-a0e3-f8d8372dc947",
   "metadata": {},
   "outputs": [
    {
     "name": "stdout",
     "output_type": "stream",
     "text": [
      "10\n",
      "20\n",
      "30\n"
     ]
    }
   ],
   "source": [
    "# 137\n",
    "\n",
    "for 변수 in (10, 20, 30):\n",
    "    print(변수)"
   ]
  },
  {
   "cell_type": "code",
   "execution_count": 88,
   "id": "0d5bb4f3-7616-45d5-9241-5753d52db1cc",
   "metadata": {},
   "outputs": [
    {
     "name": "stdout",
     "output_type": "stream",
     "text": [
      "------\n",
      "------\n",
      "------\n"
     ]
    }
   ],
   "source": [
    "# 138\n",
    "for 변수 in (10, 20, 30):\n",
    "    print('------')"
   ]
  },
  {
   "cell_type": "code",
   "execution_count": 90,
   "id": "6ec1a50f-aa7b-4810-88af-88a35063acaf",
   "metadata": {},
   "outputs": [
    {
     "name": "stdout",
     "output_type": "stream",
     "text": [
      "++++\n",
      "10\n",
      "20\n",
      "30\n"
     ]
    }
   ],
   "source": [
    "# 139\n",
    "for 변수 in ('++++', 10, 20, 30):\n",
    "    print(변수)"
   ]
  },
  {
   "cell_type": "code",
   "execution_count": 92,
   "id": "7301bd00-9051-4ece-949a-ca1d5bb9ebf5",
   "metadata": {},
   "outputs": [
    {
     "name": "stdout",
     "output_type": "stream",
     "text": [
      "------\n",
      "------\n",
      "------\n",
      "------\n"
     ]
    }
   ],
   "source": [
    "# 140\n",
    "for 변수 in range(0,4):\n",
    "    print('------')"
   ]
  },
  {
   "cell_type": "code",
   "execution_count": 94,
   "id": "b36d2266-96c8-4bf0-8246-41c2776a6cb6",
   "metadata": {},
   "outputs": [
    {
     "name": "stdout",
     "output_type": "stream",
     "text": [
      "110\n",
      "210\n",
      "310\n"
     ]
    }
   ],
   "source": [
    "# 141\n",
    "리스트 = [100, 200, 300]\n",
    "a = 0\n",
    "for a in 리스트:\n",
    "    print(a+10)"
   ]
  },
  {
   "cell_type": "code",
   "execution_count": 96,
   "id": "f0e736a4-0bab-4d2f-a468-0df119452838",
   "metadata": {},
   "outputs": [
    {
     "name": "stdout",
     "output_type": "stream",
     "text": [
      "오늘의 메뉴:  김밥\n",
      "오늘의 메뉴:  라면\n",
      "오늘의 메뉴:  튀김\n"
     ]
    }
   ],
   "source": [
    "# 142\n",
    "리스트 = [\"김밥\", \"라면\", \"튀김\"]\n",
    "\n",
    "for menu in 리스트:\n",
    "    print('오늘의 메뉴: ', menu)"
   ]
  },
  {
   "cell_type": "code",
   "execution_count": 98,
   "id": "0bc0af29-1402-47c6-92bf-649eaeb29396",
   "metadata": {},
   "outputs": [
    {
     "name": "stdout",
     "output_type": "stream",
     "text": [
      "6\n",
      "4\n",
      "4\n"
     ]
    }
   ],
   "source": [
    "# 143\n",
    "리스트 = [\"SK하이닉스\", \"삼성전자\", \"LG전자\"]\n",
    "\n",
    "for 변수 in 리스트:\n",
    "    print(len(변수))"
   ]
  },
  {
   "cell_type": "code",
   "execution_count": 100,
   "id": "4a39e3ee-c9ad-419c-9951-b08072d9298a",
   "metadata": {},
   "outputs": [
    {
     "name": "stdout",
     "output_type": "stream",
     "text": [
      "dog 3\n",
      "cat 3\n",
      "parrot 6\n"
     ]
    }
   ],
   "source": [
    "# 144\n",
    "리스트 = ['dog', 'cat', 'parrot']\n",
    "\n",
    "for a in 리스트:\n",
    "    print(a, len(a))"
   ]
  },
  {
   "cell_type": "code",
   "execution_count": 102,
   "id": "a69df258-c743-4a43-838b-ffa7a538fc88",
   "metadata": {},
   "outputs": [
    {
     "name": "stdout",
     "output_type": "stream",
     "text": [
      "d\n",
      "c\n",
      "p\n"
     ]
    }
   ],
   "source": [
    "# 145\n",
    "for a in 리스트:\n",
    "    print(a[0])"
   ]
  },
  {
   "cell_type": "code",
   "execution_count": 104,
   "id": "cfb468ae-44aa-4236-968d-a08a8cf19f93",
   "metadata": {},
   "outputs": [
    {
     "name": "stdout",
     "output_type": "stream",
     "text": [
      "3 x  1\n",
      "3 x  2\n",
      "3 x  3\n"
     ]
    }
   ],
   "source": [
    "# 146\n",
    "리스트 = [1, 2, 3]\n",
    "\n",
    "for a in 리스트:\n",
    "    print('3 x ',a)"
   ]
  },
  {
   "cell_type": "code",
   "execution_count": 106,
   "id": "d1bed2ac-f478-4c66-9a92-8fbfc3f4d2fc",
   "metadata": {},
   "outputs": [
    {
     "name": "stdout",
     "output_type": "stream",
     "text": [
      "3 x 1 = 3\n",
      "3 x 2 = 6\n",
      "3 x 3 = 9\n"
     ]
    }
   ],
   "source": [
    "# 147\n",
    "for a in 리스트:\n",
    "    print('3 x', a, '=', 3*a)"
   ]
  },
  {
   "cell_type": "code",
   "execution_count": 108,
   "id": "b8358120-3f73-4885-affd-d520c1ec8a10",
   "metadata": {},
   "outputs": [
    {
     "name": "stdout",
     "output_type": "stream",
     "text": [
      "나\n",
      "다\n",
      "라\n"
     ]
    }
   ],
   "source": [
    "# 148\n",
    "리스트 = [\"가\", \"나\", \"다\", \"라\"]\n",
    "\n",
    "for 변수 in 리스트[1:]:\n",
    "    print(변수)"
   ]
  },
  {
   "cell_type": "code",
   "execution_count": 110,
   "id": "79fc4c95-2e3d-4873-a18f-e566349f3b3c",
   "metadata": {},
   "outputs": [
    {
     "name": "stdout",
     "output_type": "stream",
     "text": [
      "가\n",
      "다\n"
     ]
    }
   ],
   "source": [
    "# 149\n",
    "for 변수 in 리스트[::2]:\n",
    "    print(변수)"
   ]
  },
  {
   "cell_type": "code",
   "execution_count": 112,
   "id": "b837a74b-c3f8-4932-b644-f622aee01064",
   "metadata": {},
   "outputs": [
    {
     "name": "stdout",
     "output_type": "stream",
     "text": [
      "라\n",
      "다\n",
      "나\n",
      "가\n"
     ]
    }
   ],
   "source": [
    "# 150\n",
    "\n",
    "for 변수 in 리스트[::-1]:\n",
    "    print(변수)"
   ]
  },
  {
   "cell_type": "code",
   "execution_count": 114,
   "id": "f992be41-c255-47ca-9da6-ff18068116e4",
   "metadata": {},
   "outputs": [
    {
     "name": "stdout",
     "output_type": "stream",
     "text": [
      "-20\n",
      "-3\n"
     ]
    }
   ],
   "source": [
    "# 151\n",
    "리스트 = [3, -20, -3, 44]\n",
    "\n",
    "for a in 리스트:\n",
    "    if a < 0:\n",
    "        print(a)"
   ]
  },
  {
   "cell_type": "code",
   "execution_count": 116,
   "id": "6aad0c02-5c05-49c0-acee-91044b84e5b6",
   "metadata": {},
   "outputs": [
    {
     "name": "stdout",
     "output_type": "stream",
     "text": [
      "3\n"
     ]
    }
   ],
   "source": [
    "# 152\n",
    "리스트 = [3, 100, 23, 44]\n",
    "\n",
    "for a in 리스트:\n",
    "    if a % 3 ==0:\n",
    "        print(a)"
   ]
  },
  {
   "cell_type": "code",
   "execution_count": 118,
   "id": "991e5a30-26ec-4fe6-909c-ab9b6b458053",
   "metadata": {},
   "outputs": [
    {
     "name": "stdout",
     "output_type": "stream",
     "text": [
      "12\n",
      "18\n"
     ]
    }
   ],
   "source": [
    "# 153\n",
    "리스트 = [13, 21, 12, 14, 30, 18]\n",
    "\n",
    "for a in 리스트:\n",
    "    if (a < 20) and (a % 3) ==0:\n",
    "        print(a)"
   ]
  },
  {
   "cell_type": "code",
   "execution_count": 120,
   "id": "536938bd-d8e2-48e3-9001-c15b19f901f8",
   "metadata": {},
   "outputs": [
    {
     "name": "stdout",
     "output_type": "stream",
     "text": [
      "study\n",
      "python\n",
      "language\n"
     ]
    }
   ],
   "source": [
    "# 154\n",
    "리스트 = [\"I\", \"study\", \"python\", \"language\", \"!\"]\n",
    "\n",
    "for a in 리스트:\n",
    "    if len(a) >= 3:\n",
    "        print(a)"
   ]
  },
  {
   "cell_type": "code",
   "execution_count": 122,
   "id": "a765e1a3-9b04-4cdb-9366-f79c2575ba68",
   "metadata": {},
   "outputs": [
    {
     "name": "stdout",
     "output_type": "stream",
     "text": [
      "A\n",
      "D\n"
     ]
    }
   ],
   "source": [
    "# 155\n",
    "리스트 = [\"A\", \"b\", \"c\", \"D\"]\n",
    "\n",
    "for a in 리스트:\n",
    "    if a.islower() :\n",
    "        pass\n",
    "    else:\n",
    "        print(a)"
   ]
  },
  {
   "cell_type": "code",
   "execution_count": 124,
   "id": "b6916088-b9d3-475b-be21-564e3326812e",
   "metadata": {},
   "outputs": [
    {
     "name": "stdout",
     "output_type": "stream",
     "text": [
      "b\n",
      "c\n"
     ]
    }
   ],
   "source": [
    "# 156\n",
    "리스트 = [\"A\", \"b\", \"c\", \"D\"]\n",
    "\n",
    "for a in 리스트:\n",
    "    if a.islower() :\n",
    "        print(a)"
   ]
  },
  {
   "cell_type": "code",
   "execution_count": 126,
   "id": "e869cd38-7ef8-4005-a2dc-6dcd5f3b72aa",
   "metadata": {},
   "outputs": [
    {
     "name": "stdout",
     "output_type": "stream",
     "text": [
      "Dog\n",
      "Cat\n",
      "Parrot\n"
     ]
    }
   ],
   "source": [
    "# 157\n",
    "리스트 = ['dog', 'cat', 'parrot']\n",
    "\n",
    "for a in 리스트:\n",
    "    print(a[0].upper(), a[1:], sep='')"
   ]
  },
  {
   "cell_type": "code",
   "execution_count": 128,
   "id": "a0998633-92d1-490d-b343-da19328582d6",
   "metadata": {},
   "outputs": [
    {
     "name": "stdout",
     "output_type": "stream",
     "text": [
      "hello\n",
      "ex01\n",
      "intro\n"
     ]
    }
   ],
   "source": [
    "# 158\n",
    "리스트 = ['hello.py', 'ex01.py', 'intro.hwp']\n",
    "\n",
    "for a in 리스트:\n",
    "    file = a.split('.')[0]\n",
    "    print(file)"
   ]
  },
  {
   "cell_type": "code",
   "execution_count": 130,
   "id": "3f9f0131-94eb-4327-a0d1-1d888ec18115",
   "metadata": {},
   "outputs": [
    {
     "name": "stdout",
     "output_type": "stream",
     "text": [
      "intra.h\n",
      "define.h\n"
     ]
    }
   ],
   "source": [
    "# 159\n",
    "리스트 = ['intra.h', 'intra.c', 'define.h', 'run.py']\n",
    "\n",
    "for a in 리스트:\n",
    "    file = a.split('.')[1]\n",
    "    if file == 'h':\n",
    "        print(a)"
   ]
  },
  {
   "cell_type": "code",
   "execution_count": 132,
   "id": "7f7ec051-c070-45ea-99dc-0b71cda9645b",
   "metadata": {},
   "outputs": [
    {
     "name": "stdout",
     "output_type": "stream",
     "text": [
      "intra.h\n",
      "intra.c\n",
      "define.h\n"
     ]
    }
   ],
   "source": [
    "# 160\n",
    "리스트 = ['intra.h', 'intra.c', 'define.h', 'run.py']\n",
    "\n",
    "for a in 리스트:\n",
    "    file = a.split('.')[1]\n",
    "    if (file == 'h') or (file == 'c') :\n",
    "        print(a)"
   ]
  }
 ],
 "metadata": {
  "kernelspec": {
   "display_name": "Python 3 (ipykernel)",
   "language": "python",
   "name": "python3"
  },
  "language_info": {
   "codemirror_mode": {
    "name": "ipython",
    "version": 3
   },
   "file_extension": ".py",
   "mimetype": "text/x-python",
   "name": "python",
   "nbconvert_exporter": "python",
   "pygments_lexer": "ipython3",
   "version": "3.12.4"
  }
 },
 "nbformat": 4,
 "nbformat_minor": 5
}
