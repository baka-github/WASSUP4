{
 "cells": [
  {
   "cell_type": "code",
   "execution_count": 6,
   "id": "6cc16cb9-8e29-4d74-8dd9-ffa2eb1099c9",
   "metadata": {},
   "outputs": [
    {
     "name": "stdout",
     "output_type": "stream",
     "text": [
      "비트코인\n"
     ]
    }
   ],
   "source": [
    "# 201\n",
    "def print_coin():\n",
    "    print('비트코인')\n",
    "\n",
    "print_coin()"
   ]
  },
  {
   "cell_type": "code",
   "execution_count": 12,
   "id": "96545c12-a4a4-486a-a81f-e0b189428421",
   "metadata": {},
   "outputs": [
    {
     "name": "stdout",
     "output_type": "stream",
     "text": [
      "비트코인\n"
     ]
    }
   ],
   "source": [
    "# 202\n",
    "a = print_coin()\n",
    "a"
   ]
  },
  {
   "cell_type": "code",
   "execution_count": 16,
   "id": "84f1da8a-5817-44fd-8239-d3ede426d8a5",
   "metadata": {},
   "outputs": [],
   "source": [
    "# 203\n",
    "def print_coins():\n",
    "    print('비트코인'*100)"
   ]
  },
  {
   "cell_type": "code",
   "execution_count": 20,
   "id": "a37006b2-f009-4853-a86c-90a6b04b502a",
   "metadata": {},
   "outputs": [],
   "source": [
    "# 205\n",
    "# 함수 정의를 먼저 해준 후에 호출해야 함"
   ]
  },
  {
   "cell_type": "code",
   "execution_count": 24,
   "id": "10ca57f8-50bc-4360-87d0-384e4a983bc1",
   "metadata": {},
   "outputs": [
    {
     "name": "stdout",
     "output_type": "stream",
     "text": [
      "A\n",
      "B\n",
      "C\n",
      "A\n",
      "B\n"
     ]
    }
   ],
   "source": [
    "# 206\n",
    "# A B C A B\n",
    "def message() :\n",
    "    print(\"A\")\n",
    "    print(\"B\")\n",
    "\n",
    "message()\n",
    "print(\"C\")\n",
    "message()"
   ]
  },
  {
   "cell_type": "code",
   "execution_count": 28,
   "id": "806f1eea-d1b5-41f2-9e45-0bd831e26568",
   "metadata": {},
   "outputs": [
    {
     "name": "stdout",
     "output_type": "stream",
     "text": [
      "A\n",
      "C\n",
      "B\n"
     ]
    }
   ],
   "source": [
    "# 207\n",
    "# A C B\n",
    "\n",
    "print(\"A\")\n",
    "\n",
    "def message() :\n",
    "    print(\"B\")\n",
    "\n",
    "print(\"C\")\n",
    "message()"
   ]
  },
  {
   "cell_type": "code",
   "execution_count": 34,
   "id": "5d1af247-6345-441b-9942-9a93b5920ac6",
   "metadata": {},
   "outputs": [
    {
     "name": "stdout",
     "output_type": "stream",
     "text": [
      "A\n",
      "C\n",
      "B\n",
      "E\n",
      "D\n"
     ]
    }
   ],
   "source": [
    "# 208\n",
    "# A C B E D\n",
    "\n",
    "print(\"A\")\n",
    "def message1() :\n",
    "    print(\"B\")\n",
    "print(\"C\")\n",
    "def message2() :\n",
    "    print(\"D\")\n",
    "message1()\n",
    "print(\"E\")\n",
    "message2()"
   ]
  },
  {
   "cell_type": "code",
   "execution_count": 40,
   "id": "70edb8ee-be4d-4fa8-ae6e-ae4ca0e04366",
   "metadata": {},
   "outputs": [
    {
     "name": "stdout",
     "output_type": "stream",
     "text": [
      "B\n",
      "A\n"
     ]
    }
   ],
   "source": [
    "# 209\n",
    "# B A\n",
    "\n",
    "def message1():\n",
    "    print(\"A\")\n",
    "\n",
    "def message2():\n",
    "    print(\"B\")\n",
    "    message1()\n",
    "\n",
    "message2()"
   ]
  },
  {
   "cell_type": "code",
   "execution_count": 44,
   "id": "6c5cf46a-09fe-44d9-a591-eec8517cc36a",
   "metadata": {},
   "outputs": [
    {
     "name": "stdout",
     "output_type": "stream",
     "text": [
      "B\n",
      "C\n",
      "B\n",
      "C\n",
      "B\n",
      "C\n",
      "A\n"
     ]
    }
   ],
   "source": [
    "# 210\n",
    "# B C B C B C A\n",
    "def message1():\n",
    "    print(\"A\")\n",
    "\n",
    "def message2():\n",
    "    print(\"B\")\n",
    "\n",
    "def message3():\n",
    "    for i in range (3) :\n",
    "        message2()\n",
    "        print(\"C\")\n",
    "    message1()\n",
    "\n",
    "message3()"
   ]
  },
  {
   "cell_type": "code",
   "execution_count": 46,
   "id": "ca629462-b5e1-4a0c-a365-7e7ffdbdd55c",
   "metadata": {},
   "outputs": [
    {
     "name": "stdout",
     "output_type": "stream",
     "text": [
      "안녕\n",
      "Hi\n"
     ]
    }
   ],
   "source": [
    "# 211\n",
    "#  안녕 Hi\n",
    "\n",
    "def 함수(문자열) :\n",
    "    print(문자열)\n",
    "\n",
    "함수(\"안녕\")\n",
    "함수(\"Hi\")"
   ]
  },
  {
   "cell_type": "code",
   "execution_count": 50,
   "id": "dd7ef137-cbbe-40a8-bdf2-6d263546b2e1",
   "metadata": {},
   "outputs": [
    {
     "name": "stdout",
     "output_type": "stream",
     "text": [
      "7\n",
      "15\n"
     ]
    }
   ],
   "source": [
    "# 212\n",
    "# 7 15\n",
    "def 함수(a, b) :\n",
    "    print(a + b)\n",
    "\n",
    "함수(3, 4)\n",
    "함수(7, 8)"
   ]
  },
  {
   "cell_type": "code",
   "execution_count": 52,
   "id": "a73dcba5-8378-4375-8b23-545efaef4c62",
   "metadata": {},
   "outputs": [],
   "source": [
    "# 213\n",
    "# 파라미터를 안넣어줌"
   ]
  },
  {
   "cell_type": "code",
   "execution_count": 54,
   "id": "49cfe6f6-1040-4e02-99f8-d0fef930e9d7",
   "metadata": {},
   "outputs": [],
   "source": [
    "# 214\n",
    "# 정의된 함수에서 같은 타입의 값 입력받는 것으로 정의됐으므로, 함수호출 시에 문자형과 숫자는 서로 더할 수 없음"
   ]
  },
  {
   "cell_type": "code",
   "execution_count": 60,
   "id": "e494563d-7068-425e-b01e-5cacdfaa0fe2",
   "metadata": {},
   "outputs": [],
   "source": [
    "# 215\n",
    "def print_with_smile(a):\n",
    "    print(a, ':D')"
   ]
  },
  {
   "cell_type": "code",
   "execution_count": 62,
   "id": "6a937da1-2c90-4e3f-a432-3f7c9d1ece15",
   "metadata": {},
   "outputs": [
    {
     "name": "stdout",
     "output_type": "stream",
     "text": [
      "안녕하세요 :D\n"
     ]
    }
   ],
   "source": [
    "# 216\n",
    "print_with_smile('안녕하세요')"
   ]
  },
  {
   "cell_type": "code",
   "execution_count": 64,
   "id": "59aa9f83-29e8-4089-ada9-f5b527947fd3",
   "metadata": {},
   "outputs": [
    {
     "name": "stdout",
     "output_type": "stream",
     "text": [
      "1300.0\n"
     ]
    }
   ],
   "source": [
    "# 217\n",
    "\n",
    "def print_upper_price(p):\n",
    "    p *= 1.3\n",
    "    print(p)\n",
    "\n",
    "print_upper_price(1000)"
   ]
  },
  {
   "cell_type": "code",
   "execution_count": 66,
   "id": "3f86ea3a-08db-4f4c-9d29-a65eeac941df",
   "metadata": {},
   "outputs": [
    {
     "name": "stdout",
     "output_type": "stream",
     "text": [
      "3\n"
     ]
    }
   ],
   "source": [
    "# 218\n",
    "\n",
    "def print_sum(a,b):\n",
    "    print(a+b)\n",
    "    \n",
    "print_sum(1,2)"
   ]
  },
  {
   "cell_type": "code",
   "execution_count": 68,
   "id": "22855681-3872-4b1c-ae2c-d6cfcbe23425",
   "metadata": {},
   "outputs": [
    {
     "name": "stdout",
     "output_type": "stream",
     "text": [
      "3 + 4 = 7\n",
      "3 - 4 = -1\n",
      "3 * 4 = 12\n",
      "3 / 4 = 0.75\n"
     ]
    }
   ],
   "source": [
    "# 219\n",
    "\n",
    "def print_arithmetic_operation(a,b):\n",
    "    print(a,'+',b,'=',a+b)\n",
    "    print(a,'-',b,'=',a-b)\n",
    "    print(a,'*',b,'=',a*b)\n",
    "    print(a,'/',b,'=',a/b)\n",
    "\n",
    "print_arithmetic_operation(3,4)"
   ]
  },
  {
   "cell_type": "code",
   "execution_count": 70,
   "id": "bcd7e074-5f05-4c5a-8065-94e96042885a",
   "metadata": {},
   "outputs": [
    {
     "name": "stdout",
     "output_type": "stream",
     "text": [
      "5\n"
     ]
    }
   ],
   "source": [
    "# 220\n",
    "\n",
    "def print_max(a, b, c):\n",
    "    com = 0\n",
    "    if a > com:\n",
    "        com = a\n",
    "    if b > com:\n",
    "        com = b\n",
    "    if c > com:\n",
    "        com = c\n",
    "    print(com)\n",
    "        \n",
    "print_max(1,3,5)"
   ]
  },
  {
   "cell_type": "code",
   "execution_count": 72,
   "id": "33d591c3-fe55-4fe3-af0a-5a163f4051bf",
   "metadata": {},
   "outputs": [
    {
     "name": "stdout",
     "output_type": "stream",
     "text": [
      "nohtyp\n"
     ]
    }
   ],
   "source": [
    "# 221\n",
    "\n",
    "def print_reverse(a):\n",
    "    print(a[::-1])\n",
    "\n",
    "print_reverse(\"python\")"
   ]
  },
  {
   "cell_type": "code",
   "execution_count": 80,
   "id": "947ddcbf-ce36-4110-978e-8f002abf4560",
   "metadata": {},
   "outputs": [
    {
     "name": "stdout",
     "output_type": "stream",
     "text": [
      "nohtyp\n"
     ]
    }
   ],
   "source": [
    "# 221\n",
    "\n",
    "def print_reverse(a):\n",
    "    l1 = list(a)\n",
    "    l1.reverse()\n",
    "    l1 = ''.join(l1)\n",
    "    print(l1)\n",
    "\n",
    "print_reverse(\"python\")"
   ]
  },
  {
   "cell_type": "code",
   "execution_count": 86,
   "id": "f5409ae5-feb7-4777-b0c5-d27c1059fc97",
   "metadata": {},
   "outputs": [
    {
     "name": "stdout",
     "output_type": "stream",
     "text": [
      "2.0\n"
     ]
    }
   ],
   "source": [
    "# 222\n",
    "\n",
    "def print_score(l1):\n",
    "    print(sum(l1)/len(l1))\n",
    "\n",
    "print_score ([1, 2, 3])"
   ]
  },
  {
   "cell_type": "code",
   "execution_count": 90,
   "id": "2a62a850-cee7-46a0-b186-9cbb3ef7224c",
   "metadata": {},
   "outputs": [
    {
     "name": "stdout",
     "output_type": "stream",
     "text": [
      "2\n",
      "10\n",
      "12\n"
     ]
    }
   ],
   "source": [
    "# 223\n",
    "\n",
    "def print_even(a):\n",
    "    for i in range(len(a)):\n",
    "        if a[i] % 2 ==0:\n",
    "            print(a[i])\n",
    "\n",
    "print_even([1,3,2,10,12,11,15])"
   ]
  },
  {
   "cell_type": "code",
   "execution_count": 96,
   "id": "3998de41-4053-4c56-ab72-52dbbec378b9",
   "metadata": {},
   "outputs": [
    {
     "name": "stdout",
     "output_type": "stream",
     "text": [
      "이름\n",
      "나이\n",
      "성별\n"
     ]
    }
   ],
   "source": [
    "# 224\n",
    "def print_keys(a):\n",
    "    for i in a.keys():\n",
    "        print(i)\n",
    "    \n",
    "print_keys({\"이름\":\"김말똥\", \"나이\":30, \"성별\":0})"
   ]
  },
  {
   "cell_type": "code",
   "execution_count": 100,
   "id": "0883472d-4114-474a-9125-c31934df2019",
   "metadata": {},
   "outputs": [
    {
     "name": "stdout",
     "output_type": "stream",
     "text": [
      "[100, 130, 100, 100]\n"
     ]
    }
   ],
   "source": [
    "# 225\n",
    "\n",
    "my_dict = {\"10/26\" : [100, 130, 100, 100],\n",
    "           \"10/27\" : [10, 12, 10, 11]}\n",
    "\n",
    "def print_value_by_key(a, b):\n",
    "    print(a[b])\n",
    "\n",
    "print_value_by_key  (my_dict, \"10/26\")\n",
    "   "
   ]
  },
  {
   "cell_type": "code",
   "execution_count": 104,
   "id": "ec1e98b7-9a89-49f3-b83f-13134ce01c7e",
   "metadata": {},
   "outputs": [
    {
     "name": "stdout",
     "output_type": "stream",
     "text": [
      "아이엠어보\n",
      "이유알어걸\n",
      "이머\n"
     ]
    }
   ],
   "source": [
    "# 226\n",
    "\n",
    "def print_5xn(a):\n",
    "    line_num = len(a)// 5\n",
    "    str_num = len(a) % 5\n",
    "    \n",
    "    if str_num == 0:\n",
    "        for i in range(0, line_num):\n",
    "            print(a[i*5 : (i+1)*5])\n",
    "    \n",
    "    else:\n",
    "        for i in range(0, line_num):\n",
    "            print(a[i*5 : (i+1)*5])\n",
    "        print(a[line_num*5 : line_num*5+str_num])\n",
    "            \n",
    "                        \n",
    "          \n",
    "print_5xn(\"아이엠어보이유알어걸이머\") "
   ]
  },
  {
   "cell_type": "code",
   "execution_count": 110,
   "id": "b0a26611-776a-4960-b5ff-9de987493461",
   "metadata": {},
   "outputs": [
    {
     "name": "stdout",
     "output_type": "stream",
     "text": [
      "아이엠어보\n",
      "이유알어걸\n",
      "이머\n"
     ]
    }
   ],
   "source": [
    "def print_5xn(a):\n",
    "    line_num = len(a) // 5\n",
    "    for i in range(line_num + 1) :\n",
    "        print(a[i * 5: i * 5 + 5])\n",
    "\n",
    "print_5xn(\"아이엠어보이유알어걸이머\") "
   ]
  },
  {
   "cell_type": "code",
   "execution_count": 116,
   "id": "6dfd00dc-7409-464a-b430-a570f486e773",
   "metadata": {},
   "outputs": [
    {
     "name": "stdout",
     "output_type": "stream",
     "text": [
      "아이엠\n",
      "어보이\n",
      "유알어\n",
      "걸\n"
     ]
    }
   ],
   "source": [
    "# 227\n",
    "\n",
    "def printmxn(a,b):\n",
    "    line_num = len(a) // b\n",
    "    for i in range(line_num+1):\n",
    "        print(a[i*b : i*b+b])\n",
    "        \n",
    "printmxn(\"아이엠어보이유알어걸\", 3)"
   ]
  },
  {
   "cell_type": "code",
   "execution_count": 122,
   "id": "0433e84e-4fc0-4da8-a230-b72f3325b83f",
   "metadata": {},
   "outputs": [
    {
     "name": "stdout",
     "output_type": "stream",
     "text": [
      "1000000\n"
     ]
    }
   ],
   "source": [
    "# 228\n",
    "\n",
    "def calc_monthly_salary(annual_salary):\n",
    "    print(int(annual_salary/12))\n",
    "    \n",
    "calc_monthly_salary(12000004)"
   ]
  },
  {
   "cell_type": "code",
   "execution_count": 130,
   "id": "0b7bf2f1-9a40-4be7-8d00-5d29ec1d4e22",
   "metadata": {},
   "outputs": [
    {
     "name": "stdout",
     "output_type": "stream",
     "text": [
      "왼쪽: 100\n",
      "오른쪽: 200\n"
     ]
    }
   ],
   "source": [
    "# 229\n",
    "# 왼쪽: 100 오른쪽: 200\n",
    "\n",
    "def my_print (a, b) :\n",
    "    print(\"왼쪽:\", a)\n",
    "    print(\"오른쪽:\", b)\n",
    "\n",
    "my_print(a=100, b=200)"
   ]
  },
  {
   "cell_type": "code",
   "execution_count": 138,
   "id": "02c5e47f-a75a-4b42-a0ce-7bfed69beec0",
   "metadata": {},
   "outputs": [
    {
     "name": "stdout",
     "output_type": "stream",
     "text": [
      "왼쪽: 200\n",
      "오른쪽: 100\n"
     ]
    }
   ],
   "source": [
    "# 230\n",
    "# 왼쪽: 200 오른쪽: 100\n",
    "\n",
    "def my_print (a, b) :\n",
    "    print(\"왼쪽:\", a)\n",
    "    print(\"오른쪽:\", b)\n",
    "\n",
    "my_print(b=100, a=200)"
   ]
  },
  {
   "cell_type": "code",
   "execution_count": 140,
   "id": "51652faf-019a-4563-a67e-bfc1c86aa6fd",
   "metadata": {},
   "outputs": [],
   "source": [
    "# 231\n",
    "# 에러 -> result 변수를 글로벌에서 선언해준 적이 없으므로 함수밖에서 사용할 수 없음"
   ]
  },
  {
   "cell_type": "code",
   "execution_count": 146,
   "id": "1ff31fb6-1cb2-4710-97ab-68759c6511b2",
   "metadata": {},
   "outputs": [
    {
     "data": {
      "text/plain": [
       "'www.naver.com'"
      ]
     },
     "execution_count": 146,
     "metadata": {},
     "output_type": "execute_result"
    }
   ],
   "source": [
    "# 232\n",
    "\n",
    "def make_url(a):\n",
    "    return 'www.' + a + '.com'\n",
    "\n",
    "make_url('naver')"
   ]
  },
  {
   "cell_type": "code",
   "execution_count": 152,
   "id": "03c46d56-4b15-4edb-acbe-247fd124b687",
   "metadata": {},
   "outputs": [
    {
     "data": {
      "text/plain": [
       "['a', 'b', 'c', 'd']"
      ]
     },
     "execution_count": 152,
     "metadata": {},
     "output_type": "execute_result"
    }
   ],
   "source": [
    "# 233\n",
    "\n",
    "def make_list(a):\n",
    "    al = list()\n",
    "    for i in range(len(a)):\n",
    "        al.append(a[i])\n",
    "    return al\n",
    "\n",
    "make_list('abcd')"
   ]
  },
  {
   "cell_type": "code",
   "execution_count": 162,
   "id": "ba33c2a7-df16-4a28-a51f-af18042a236e",
   "metadata": {},
   "outputs": [
    {
     "data": {
      "text/plain": [
       "[4, 6, 8]"
      ]
     },
     "execution_count": 162,
     "metadata": {},
     "output_type": "execute_result"
    }
   ],
   "source": [
    "# 234\n",
    "\n",
    "def pickup_even(a):\n",
    "    l1 = list()\n",
    "    for i in range(len(a)):\n",
    "       if a[i] % 2 == 0:\n",
    "        l1.append(a[i])\n",
    "    return l1\n",
    "\n",
    "pickup_even([3,4,5,6,7,8])"
   ]
  },
  {
   "cell_type": "code",
   "execution_count": 168,
   "id": "99f604d0-3407-4fc2-afe3-c4a41c309a1f",
   "metadata": {},
   "outputs": [
    {
     "data": {
      "text/plain": [
       "1234567"
      ]
     },
     "execution_count": 168,
     "metadata": {},
     "output_type": "execute_result"
    }
   ],
   "source": [
    "# 235\n",
    "\n",
    "def convert_int(a):\n",
    "    a = a.split(',')\n",
    "    a = list(a)\n",
    "    return int(''.join(a))\n",
    "\n",
    "convert_int('1,234,567')"
   ]
  },
  {
   "cell_type": "code",
   "execution_count": 174,
   "id": "336fd7db-5219-4823-9937-8f67c33cc5b7",
   "metadata": {},
   "outputs": [
    {
     "name": "stdout",
     "output_type": "stream",
     "text": [
      "22\n"
     ]
    }
   ],
   "source": [
    "# 236\n",
    "# 22\n",
    "\n",
    "def 함수(num) :\n",
    "    return num + 4\n",
    "\n",
    "c = 함수(함수(함수(10)))\n",
    "print(c)"
   ]
  },
  {
   "cell_type": "code",
   "execution_count": 182,
   "id": "650e41bf-6046-47cf-9c66-02383988f148",
   "metadata": {},
   "outputs": [
    {
     "name": "stdout",
     "output_type": "stream",
     "text": [
      "22\n"
     ]
    }
   ],
   "source": [
    "# 237\n",
    "# 22\n",
    "def 함수(num) :\n",
    "    return num + 4\n",
    "\n",
    "c = 함수(함수(함수(10)))\n",
    "print(c)"
   ]
  },
  {
   "cell_type": "code",
   "execution_count": 188,
   "id": "b62c203b-b05d-4f65-aab5-e195d1c92287",
   "metadata": {},
   "outputs": [
    {
     "name": "stdout",
     "output_type": "stream",
     "text": [
      "140\n"
     ]
    }
   ],
   "source": [
    "# 238\n",
    "# 140\n",
    "def 함수1(num) :\n",
    "    return num + 4\n",
    "\n",
    "def 함수2(num) :\n",
    "    return num * 10\n",
    "\n",
    "a = 함수1(10)\n",
    "c = 함수2(a)\n",
    "print(c)"
   ]
  },
  {
   "cell_type": "code",
   "execution_count": 192,
   "id": "0279be57-f1f1-48ae-928a-2d511f0584ee",
   "metadata": {},
   "outputs": [
    {
     "name": "stdout",
     "output_type": "stream",
     "text": [
      "16\n"
     ]
    }
   ],
   "source": [
    "# 239\n",
    "# 16\n",
    "def 함수1(num) :\n",
    "    return num + 4\n",
    "\n",
    "def 함수2(num) :\n",
    "    num = num + 2\n",
    "    return 함수1(num)\n",
    "\n",
    "c = 함수2(10)\n",
    "print(c)"
   ]
  },
  {
   "cell_type": "code",
   "execution_count": 200,
   "id": "524f5bec-6029-489e-8d16-4476ffd921c7",
   "metadata": {},
   "outputs": [
    {
     "name": "stdout",
     "output_type": "stream",
     "text": [
      "28\n"
     ]
    }
   ],
   "source": [
    "# 240\n",
    "# 28\n",
    "\n",
    "def 함수0(num) :\n",
    "    return num * 2\n",
    "\n",
    "def 함수1(num) :\n",
    "    return 함수0(num + 2)\n",
    "\n",
    "def 함수2(num) :\n",
    "    num = num + 10\n",
    "    return 함수1(num)\n",
    "\n",
    "c = 함수2(2)\n",
    "print(c)"
   ]
  }
 ],
 "metadata": {
  "kernelspec": {
   "display_name": "Python 3 (ipykernel)",
   "language": "python",
   "name": "python3"
  },
  "language_info": {
   "codemirror_mode": {
    "name": "ipython",
    "version": 3
   },
   "file_extension": ".py",
   "mimetype": "text/x-python",
   "name": "python",
   "nbconvert_exporter": "python",
   "pygments_lexer": "ipython3",
   "version": "3.12.4"
  }
 },
 "nbformat": 4,
 "nbformat_minor": 5
}
