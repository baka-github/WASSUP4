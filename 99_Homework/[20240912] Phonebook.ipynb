{
 "cells": [
  {
   "cell_type": "markdown",
   "id": "6d2da9cd-e0cc-4b91-a165-f54c77c61093",
   "metadata": {},
   "source": [
    "## 전화번호 프로그램 예외처리 기능 만들기"
   ]
  },
  {
   "cell_type": "markdown",
   "id": "312b7ec4-6182-42fb-a2bc-413dbcee2d7b",
   "metadata": {},
   "source": [
    "#### 전화번호 프로그램 만들기\n",
    "\n",
    "﻿﻿홍길동 010-123-4567  \n",
    "﻿﻿기능1 : 연락처 추가  \n",
    "﻿﻿기능2: 연락처 전체 보기  \n",
    "﻿﻿기능3 : 검색, 이름을 입력받아서 전화번호 조회  \n",
    "﻿﻿기능4 : 수정, 이름을 입력받아서 전화번호 입력수정  \n",
    "﻿﻿기능5: 삭제, 이름 입력받아서 삭제  \n",
    "﻿﻿기능6 : 프로그램 종료  "
   ]
  },
  {
   "cell_type": "markdown",
   "id": "24831ad0-f4fe-4012-9950-77869ae5d10b",
   "metadata": {},
   "source": [
    "#### 추가한 기능\n",
    "\n",
    "기능1 : 연락처 파일 저장 및 불러오기  \n",
    "기능2 : 파일 예외 처리  \n",
    "기능3 : 입력 오류 처리  "
   ]
  },
  {
   "cell_type": "code",
   "execution_count": 17,
   "id": "95c956a4-b602-4850-bad4-544aa8237bfb",
   "metadata": {},
   "outputs": [
    {
     "name": "stdout",
     "output_type": "stream",
     "text": [
      "contacts.txt 파일이 없습니다. 새로 만듭니다.\n",
      "\n",
      "--- 전화번호 프로그램 ---\n",
      "1. 연락처 추가\n",
      "2. 연락처 전체 보기\n",
      "3. 연락처 검색\n",
      "4. 연락처 수정\n",
      "5. 연락처 삭제\n",
      "6. 프로그램 종료\n"
     ]
    },
    {
     "name": "stdin",
     "output_type": "stream",
     "text": [
      "메뉴 선택 :  2\n"
     ]
    },
    {
     "name": "stdout",
     "output_type": "stream",
     "text": [
      "저장된 연락처가 없습니다.\n",
      "\n",
      "--- 전화번호 프로그램 ---\n",
      "1. 연락처 추가\n",
      "2. 연락처 전체 보기\n",
      "3. 연락처 검색\n",
      "4. 연락처 수정\n",
      "5. 연락처 삭제\n",
      "6. 프로그램 종료\n"
     ]
    },
    {
     "name": "stdin",
     "output_type": "stream",
     "text": [
      "메뉴 선택 :  연락처\n"
     ]
    },
    {
     "name": "stdout",
     "output_type": "stream",
     "text": [
      "잘못된 입력입니다. 숫자를 입력해주세요.\n",
      "\n",
      "--- 전화번호 프로그램 ---\n",
      "1. 연락처 추가\n",
      "2. 연락처 전체 보기\n",
      "3. 연락처 검색\n",
      "4. 연락처 수정\n",
      "5. 연락처 삭제\n",
      "6. 프로그램 종료\n"
     ]
    },
    {
     "name": "stdin",
     "output_type": "stream",
     "text": [
      "메뉴 선택 :  1\n"
     ]
    },
    {
     "name": "stdout",
     "output_type": "stream",
     "text": [
      "연락처를 추가합니다.\n"
     ]
    },
    {
     "name": "stdin",
     "output_type": "stream",
     "text": [
      "이름:  박소연\n",
      "전화번호:  111\n"
     ]
    },
    {
     "name": "stdout",
     "output_type": "stream",
     "text": [
      "박소연 님의 연락처가 추가되었습니다.\n",
      "\n",
      "--- 전화번호 프로그램 ---\n",
      "1. 연락처 추가\n",
      "2. 연락처 전체 보기\n",
      "3. 연락처 검색\n",
      "4. 연락처 수정\n",
      "5. 연락처 삭제\n",
      "6. 프로그램 종료\n"
     ]
    },
    {
     "name": "stdin",
     "output_type": "stream",
     "text": [
      "메뉴 선택 :  3\n",
      "검색할 이름:  박소연\n"
     ]
    },
    {
     "name": "stdout",
     "output_type": "stream",
     "text": [
      "박소연: 111\n",
      "\n",
      "--- 전화번호 프로그램 ---\n",
      "1. 연락처 추가\n",
      "2. 연락처 전체 보기\n",
      "3. 연락처 검색\n",
      "4. 연락처 수정\n",
      "5. 연락처 삭제\n",
      "6. 프로그램 종료\n"
     ]
    },
    {
     "name": "stdin",
     "output_type": "stream",
     "text": [
      "메뉴 선택 :  4\n",
      "수정할 이름:  박소연\n",
      "새로운 전화번호:  222\n"
     ]
    },
    {
     "name": "stdout",
     "output_type": "stream",
     "text": [
      "박소연 님의 연락처가 수정되었습니다.\n",
      "\n",
      "--- 전화번호 프로그램 ---\n",
      "1. 연락처 추가\n",
      "2. 연락처 전체 보기\n",
      "3. 연락처 검색\n",
      "4. 연락처 수정\n",
      "5. 연락처 삭제\n",
      "6. 프로그램 종료\n"
     ]
    },
    {
     "name": "stdin",
     "output_type": "stream",
     "text": [
      "메뉴 선택 :  2\n"
     ]
    },
    {
     "name": "stdout",
     "output_type": "stream",
     "text": [
      "박소연: 222\n",
      "\n",
      "--- 전화번호 프로그램 ---\n",
      "1. 연락처 추가\n",
      "2. 연락처 전체 보기\n",
      "3. 연락처 검색\n",
      "4. 연락처 수정\n",
      "5. 연락처 삭제\n",
      "6. 프로그램 종료\n"
     ]
    },
    {
     "name": "stdin",
     "output_type": "stream",
     "text": [
      "메뉴 선택 :  6\n"
     ]
    },
    {
     "name": "stdout",
     "output_type": "stream",
     "text": [
      "프로그램을 종료합니다.\n"
     ]
    }
   ],
   "source": [
    "import os\n",
    "\n",
    "#파일에서 연락처를 불러오는 함수\n",
    "def load_contacts(file_name):\n",
    "    contacts = {}\n",
    "    try:\n",
    "        with open(file_name, \"r\") as f:\n",
    "            for line in f:\n",
    "                name, phone_number = line.strip().split(\":\")\n",
    "                contacts[name] = phone_number\n",
    "    except FileNotFoundError:\n",
    "        print(f\"{file_name} 파일이 없습니다. 새로 만듭니다.\")\n",
    "    except Exception as e:\n",
    "        print(f\"연락처를 불러오는 중 오류가 발생했습니다: {e}\")\n",
    "    return contacts\n",
    "\n",
    "#연락처를 파일에 저장하는 함수\n",
    "def save_contacts(file_name, contacts):\n",
    "    try:\n",
    "        with open(file_name, \"w\") as f:\n",
    "            for name, phone_number in contacts.items():\n",
    "                f.write(f\"{name}:{phone_number}\\n\")\n",
    "    except Exception as e:\n",
    "        print(f\"연락처를 저장하는 중 오류가 발생했습니다: {e}\")\n",
    "\n",
    "#연락처를 저장할 파일명\n",
    "file_name = \"contacts.txt\"\n",
    "contacts = load_contacts(file_name)\n",
    "\n",
    "while True:\n",
    "    print(\"\\n--- 전화번호 프로그램 ---\")\n",
    "    print(\"1. 연락처 추가\")\n",
    "    print(\"2. 연락처 전체 보기\")\n",
    "    print(\"3. 연락처 검색\")\n",
    "    print(\"4. 연락처 수정\")\n",
    "    print(\"5. 연락처 삭제\")\n",
    "    print(\"6. 프로그램 종료\")\n",
    "\n",
    "    try:\n",
    "        choice = int(input(\"메뉴 선택 : \"))\n",
    "    except ValueError:\n",
    "        print(\"잘못된 입력입니다. 숫자를 입력해주세요.\")\n",
    "        continue\n",
    "\n",
    "    if choice == 1:\n",
    "        \"\"\"연락처 추가 기능\"\"\"\n",
    "        print('연락처를 추가합니다.')\n",
    "        name = input(\"이름: \")\n",
    "        phone_number = input(\"전화번호: \")\n",
    "        contacts[name] = phone_number\n",
    "        print(f\"{name} 님의 연락처가 추가되었습니다.\")\n",
    "\n",
    "    elif choice == 2:\n",
    "        \"\"\"전체 연락처 보기 기능\"\"\"\n",
    "        if not contacts:\n",
    "            print(\"저장된 연락처가 없습니다.\")\n",
    "        else:\n",
    "            for name, phone_number in contacts.items():\n",
    "                print(f\"{name}: {phone_number}\")\n",
    "\n",
    "    elif choice == 3:\n",
    "        \"\"\"연락처 검색 기능\"\"\"\n",
    "        name = input(\"검색할 이름: \")\n",
    "        if name in contacts:\n",
    "            print(f\"{name}: {contacts[name]}\")\n",
    "        else:\n",
    "            print(f\"{name} 님의 연락처를 찾을 수 없습니다.\")\n",
    "\n",
    "    elif choice == 4:\n",
    "        \"\"\"연락처 수정 기능\"\"\"\n",
    "        name = input(\"수정할 이름: \")\n",
    "        if name in contacts:\n",
    "            new_phone_number = input(\"새로운 전화번호: \")\n",
    "            contacts[name] = new_phone_number\n",
    "            print(f\"{name} 님의 연락처가 수정되었습니다.\")\n",
    "        else:\n",
    "            print(f\"{name} 님의 연락처를 찾을 수 없습니다.\")\n",
    "\n",
    "    elif choice == 5:\n",
    "        \"\"\"연락처 삭제 기능\"\"\"\n",
    "        name = input(\"삭제할 이름: \")\n",
    "        if name in contacts:\n",
    "            del contacts[name]\n",
    "            print(f\"{name} 님의 연락처가 삭제되었습니다.\")\n",
    "        else:\n",
    "            print(f\"{name} 님의 연락처를 찾을 수 없습니다.\")\n",
    "\n",
    "    elif choice == 6:\n",
    "        print(\"프로그램을 종료합니다.\")\n",
    "        save_contacts(file_name, contacts)  # 종료 시 연락처 저장\n",
    "        break\n",
    "\n",
    "    else:\n",
    "        print(\"잘못된 입력입니다. 다시 입력해주세요.\")"
   ]
  }
 ],
 "metadata": {
  "kernelspec": {
   "display_name": "Python 3 (ipykernel)",
   "language": "python",
   "name": "python3"
  },
  "language_info": {
   "codemirror_mode": {
    "name": "ipython",
    "version": 3
   },
   "file_extension": ".py",
   "mimetype": "text/x-python",
   "name": "python",
   "nbconvert_exporter": "python",
   "pygments_lexer": "ipython3",
   "version": "3.12.4"
  }
 },
 "nbformat": 4,
 "nbformat_minor": 5
}
